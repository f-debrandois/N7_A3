{
 "cells": [
  {
   "cell_type": "code",
   "execution_count": 5,
   "metadata": {},
   "outputs": [
    {
     "name": "stdout",
     "output_type": "stream",
     "text": [
      "\n",
      "ans =\n",
      "\n",
      "  logical\n",
      "\n",
      "   1\n",
      "\n",
      "\n",
      "ans =\n",
      "\n",
      "  logical\n",
      "\n",
      "   1\n",
      "\n"
     ]
    }
   ],
   "source": [
    "A = [.780 .563 ; .913 .659];\n",
    "\n",
    "c= cond(A);\n",
    "\n",
    "V = eig(A);\n",
    "\n",
    "V(1)/V(2);\n",
    "\n",
    "x1 = [-20.568 ; 28.881];\n",
    "x2 = [0.999 ; -1];\n",
    "\n",
    "b = [.217 ; .254];\n",
    "\n",
    "bw1 = norm(b - A*x1)/norm(b);\n",
    "bw2 = norm(b - A*x2)/norm(b);\n",
    "\n",
    "x = [1;-1];\n",
    "\n",
    "fw1 = norm(x-x1);\n",
    "fw2 = norm(x-x2);\n",
    "\n",
    "fw1 < c*bw1\n",
    "fw2 < c*bw2"
   ]
  },
  {
   "cell_type": "code",
   "execution_count": null,
   "metadata": {},
   "outputs": [],
   "source": []
  }
 ],
 "metadata": {
  "kernelspec": {
   "display_name": "Matlab",
   "language": "matlab",
   "name": "matlab"
  },
  "language_info": {
   "codemirror_mode": "octave",
   "file_extension": ".m",
   "help_links": [
    {
     "text": "MetaKernel Magics",
     "url": "https://metakernel.readthedocs.io/en/latest/source/README.html"
    }
   ],
   "mimetype": "text/x-octave",
   "name": "matlab",
   "version": "0.17.1"
  }
 },
 "nbformat": 4,
 "nbformat_minor": 2
}
