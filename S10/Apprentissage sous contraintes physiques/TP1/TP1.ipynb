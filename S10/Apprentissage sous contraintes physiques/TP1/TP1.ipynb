{
 "cells": [
  {
   "cell_type": "markdown",
   "metadata": {},
   "source": [
    "# TP: Introduction to Pytorch\n",
    "\n",
    "## Auto-differential and optimization in Pytorch\n",
    "\n",
    "### Setup"
   ]
  },
  {
   "cell_type": "code",
   "execution_count": 1,
   "metadata": {},
   "outputs": [],
   "source": [
    "import numpy as np\n",
    "import matplotlib.pyplot as plt"
   ]
  },
  {
   "cell_type": "code",
   "execution_count": 2,
   "metadata": {},
   "outputs": [
    {
     "name": "stdout",
     "output_type": "stream",
     "text": [
      "cpu\n"
     ]
    }
   ],
   "source": [
    "import torch\n",
    "device = torch.device(\"cuda:0\" if torch.cuda.is_available() else \"cpu\")\n",
    "print(device)"
   ]
  },
  {
   "cell_type": "markdown",
   "metadata": {},
   "source": [
    "### Forward/Backward propagation and SGD\n",
    "\n",
    "Assume $x_t \\in \\mathbb{R}$ and $\\theta \\in \\mathbb{R}$. We want to optimize $\\theta$ so that $x_t$ is close to a target value under the following linear dynamics:\n",
    "$$\n",
    "x_{t+1} = x_t + \\theta\n",
    "$$\n",
    "\n",
    "Assume that $x_0$ is random, our goal is to minimize the following objective function:\n",
    "$$\n",
    "L_t = \\mathbb{E}_{x_0 \\sim p}[(x_t - 1)^2]\n",
    "$$"
   ]
  },
  {
   "cell_type": "markdown",
   "metadata": {},
   "source": [
    "1. Assume that $p \\sim \\mathcal{N}(1, 1)$. Use $m_b = 2024$ samples to estimate the expetation $L_t$."
   ]
  },
  {
   "cell_type": "code",
   "execution_count": 3,
   "metadata": {},
   "outputs": [],
   "source": [
    "# Define the dynamics function\n",
    "def f(x, theta):\n",
    "    return x + theta\n",
    "\n",
    "# Define the loss function\n",
    "def loss(x_t, target=1):\n",
    "    return (x_t - target)**2\n",
    "\n",
    "# Parameters\n",
    "theta = torch.tensor(1.0, requires_grad=True)  # Initial value for theta\n",
    "T = 20  # Number of time steps\n",
    "m_b = 2024  # Number of samples"
   ]
  },
  {
   "cell_type": "code",
   "execution_count": 4,
   "metadata": {},
   "outputs": [
    {
     "name": "stdout",
     "output_type": "stream",
     "text": [
      "Estimated L_t: 400.7417297363281\n"
     ]
    }
   ],
   "source": [
    "# Draw samples from the distribution p ~ N(1, 1)\n",
    "x0_samples = torch.normal(1, 1, size=(m_b,))\n",
    "\n",
    "# Loop over the samples\n",
    "losses = []\n",
    "for x0 in x0_samples:\n",
    "    x = x0\n",
    "    for _ in range(T):\n",
    "        x = f(x, theta)\n",
    "    losses.append(loss(x))\n",
    "    \n",
    "# Compute the mean loss\n",
    "Lt = torch.mean(torch.stack(losses))\n",
    "print(\"Estimated L_t:\", Lt.item())"
   ]
  },
  {
   "cell_type": "markdown",
   "metadata": {},
   "source": [
    "2. Compute automatically the derivative of $L_t$ with respect to $\\theta$."
   ]
  },
  {
   "cell_type": "code",
   "execution_count": 5,
   "metadata": {},
   "outputs": [
    {
     "name": "stdout",
     "output_type": "stream",
     "text": [
      "Gradient: 799.7713623046875\n"
     ]
    }
   ],
   "source": [
    "# Compute the gradient\n",
    "Lt.backward()\n",
    "print(\"Gradient:\", theta.grad.item())"
   ]
  },
  {
   "cell_type": "markdown",
   "metadata": {},
   "source": [
    "3. Assume $T = 20$ and $\\theta = 1$, what is the loss $L_T$ and its gradient? Implement a gradient descent algorithm with constant step-size to minimize $L_T$ with respect to $\\theta$, starting from $\\theta = 1$."
   ]
  },
  {
   "cell_type": "code",
   "execution_count": 6,
   "metadata": {},
   "outputs": [],
   "source": [
    "def gradient_descent(theta, x0_samples, learning_rate, num_iterations, T, m_b):\n",
    "    loss_over_iterations = []\n",
    "\n",
    "    # Gradient descent loop\n",
    "    for iteration in range(num_iterations):\n",
    "        # Initialize the loss for this iteration\n",
    "        losses = []\n",
    "\n",
    "        # Loop over the samples\n",
    "        for x0 in x0_samples:\n",
    "            x = x0\n",
    "            for _ in range(T):\n",
    "                x = f(x, theta)\n",
    "            losses.append(loss(x))\n",
    "\n",
    "        # Compute the mean loss\n",
    "        Lt = torch.mean(torch.stack(losses))\n",
    "\n",
    "        # Compute the gradient of the loss with respect to theta\n",
    "        Lt.backward()\n",
    "\n",
    "        # Update theta using gradient descent\n",
    "        with torch.no_grad():\n",
    "            theta -= learning_rate * theta.grad\n",
    "\n",
    "        # Zero the gradients for the next iteration\n",
    "        theta.grad.zero_()\n",
    "\n",
    "        # Store the loss for this iteration\n",
    "        loss_over_iterations.append(Lt.item())\n",
    "\n",
    "        # Print the loss and theta for monitoring\n",
    "        if (iteration + 1) % 10 == 0:\n",
    "            print(f\"Iteration {iteration + 1}: Loss = {Lt.item()}, Theta = {theta.item()}\")\n",
    "\n",
    "    return loss_over_iterations"
   ]
  },
  {
   "cell_type": "code",
   "execution_count": 7,
   "metadata": {},
   "outputs": [
    {
     "name": "stdout",
     "output_type": "stream",
     "text": [
      "Iteration 10: Loss = 89.9639892578125, Theta = 0.4348873198032379\n",
      "Iteration 20: Loss = 17.74458122253418, Theta = 0.18941080570220947\n",
      "Iteration 30: Loss = 4.117246150970459, Theta = 0.08277840912342072\n",
      "Iteration 40: Loss = 1.5458316802978516, Theta = 0.03645840659737587\n",
      "Iteration 50: Loss = 1.0606269836425781, Theta = 0.016337549313902855\n",
      "Iteration 60: Loss = 0.9690689444541931, Theta = 0.007597242947667837\n",
      "Iteration 70: Loss = 0.9517931342124939, Theta = 0.0038005325477570295\n",
      "Iteration 80: Loss = 0.9485328197479248, Theta = 0.0021512943785637617\n",
      "Iteration 90: Loss = 0.9479182958602905, Theta = 0.0014348850818350911\n",
      "Iteration 100: Loss = 0.9478013515472412, Theta = 0.0011236827122047544\n"
     ]
    },
    {
     "data": {
      "image/png": "[encoded data removed]",
      "text/plain": [
       "<Figure size 640x480 with 1 Axes>"
      ]
     },
     "metadata": {},
     "output_type": "display_data"
    }
   ],
   "source": [
    "# Parameters\n",
    "theta = torch.tensor(1.0, requires_grad=True)  # Initial value for theta\n",
    "T = 20  # Number of time steps\n",
    "m_b = 2024  # Number of samples\n",
    "learning_rate = 1e-4  # Step size for gradient descent\n",
    "num_iterations = 100  # Number of iterations for gradient descent\n",
    "\n",
    "# Draw samples from the distribution p ~ N(1, 1)\n",
    "x0_samples = torch.normal(1, 1, size=(m_b,))\n",
    "\n",
    "# Call the function\n",
    "loss_over_iterations = gradient_descent(theta, x0_samples, learning_rate, num_iterations, T, m_b)\n",
    "\n",
    "# Display the loss over iterations\n",
    "plt.plot(loss_over_iterations)\n",
    "plt.xlabel(\"Iteration\")\n",
    "plt.ylabel(\"Loss\")\n",
    "plt.title(\"Loss over iterations\")\n",
    "plt.show()"
   ]
  },
  {
   "cell_type": "markdown",
   "metadata": {},
   "source": [
    "4. Use $\\texttt{torch.optim.SGD}$ to minimize $L_T$. What is the optimal solution that you have found?"
   ]
  },
  {
   "cell_type": "code",
   "execution_count": 8,
   "metadata": {},
   "outputs": [],
   "source": [
    "import torch.optim as optim"
   ]
  },
  {
   "cell_type": "code",
   "execution_count": 9,
   "metadata": {},
   "outputs": [],
   "source": [
    "def gradient_descent_optim(theta, x0_samples, learning_rate, num_iterations, T, m_b):\n",
    "    loss_over_iterations = []\n",
    "\n",
    "    # Define the optimizer\n",
    "    optimizer = optim.SGD([theta], lr=learning_rate)\n",
    "\n",
    "    # Gradient descent loop\n",
    "    for iteration in range(num_iterations):\n",
    "        # Initialize the loss for this iteration\n",
    "        losses = []\n",
    "\n",
    "        # Loop over the samples\n",
    "        for x0 in x0_samples:\n",
    "            x = x0\n",
    "            for _ in range(T):\n",
    "                x = f(x, theta)\n",
    "            losses.append(loss(x))\n",
    "\n",
    "        # Compute the mean loss\n",
    "        Lt = torch.mean(torch.stack(losses))\n",
    "\n",
    "        # Zero the gradients from the previous iteration\n",
    "        optimizer.zero_grad()\n",
    "\n",
    "        # Compute the gradient of the loss with respect to theta\n",
    "        Lt.backward()\n",
    "\n",
    "        # Update theta using gradient descent\n",
    "        optimizer.step()\n",
    "\n",
    "        # Store the loss for this iteration\n",
    "        loss_over_iterations.append(Lt.item())\n",
    "\n",
    "        # Print the loss and theta for monitoring\n",
    "        if (iteration + 1) % 10 == 0:\n",
    "            print(f\"Iteration {iteration + 1}: Loss = {Lt.item()}, Theta = {theta.item()}\")\n",
    "\n",
    "    return loss_over_iterations"
   ]
  },
  {
   "cell_type": "code",
   "execution_count": 10,
   "metadata": {},
   "outputs": [
    {
     "name": "stdout",
     "output_type": "stream",
     "text": [
      "Iteration 10: Loss = 89.86368560791016, Theta = 0.4352448880672455\n",
      "Iteration 20: Loss = 17.733922958374023, Theta = 0.18992064893245697\n",
      "Iteration 30: Loss = 4.123459815979004, Theta = 0.08335395902395248\n",
      "Iteration 40: Loss = 1.5552617311477661, Theta = 0.03706290200352669\n",
      "Iteration 50: Loss = 1.0706613063812256, Theta = 0.016954559832811356\n",
      "Iteration 60: Loss = 0.979220986366272, Theta = 0.008219697512686253\n",
      "Iteration 70: Loss = 0.9619648456573486, Theta = 0.004425389692187309\n",
      "Iteration 80: Loss = 0.9587098956108093, Theta = 0.0027771887835115194\n",
      "Iteration 90: Loss = 0.9580956697463989, Theta = 0.0020612350199371576\n",
      "Iteration 100: Loss = 0.9579794406890869, Theta = 0.0017502347473055124\n"
     ]
    },
    {
     "data": {
      "image/png": "[encoded data removed]",
      "text/plain": [
       "<Figure size 640x480 with 1 Axes>"
      ]
     },
     "metadata": {},
     "output_type": "display_data"
    }
   ],
   "source": [
    "# Parameters\n",
    "theta = torch.tensor(1.0, requires_grad=True)  # Initial value for theta\n",
    "T = 20  # Number of time steps\n",
    "m_b = 2024  # Number of samples\n",
    "learning_rate = 1e-4  # Step size for gradient descent\n",
    "num_iterations = 100  # Number of iterations for gradient descent\n",
    "\n",
    "# Draw samples from the distribution p ~ N(1, 1)\n",
    "x0_samples = torch.normal(1, 1, size=(m_b,))\n",
    "\n",
    "# Call the function\n",
    "loss_over_iterations = gradient_descent_optim(theta, x0_samples, learning_rate, num_iterations, T, m_b)\n",
    "\n",
    "# Display the loss over iterations\n",
    "plt.plot(loss_over_iterations)\n",
    "plt.xlabel(\"Iteration\")\n",
    "plt.ylabel(\"Loss\")\n",
    "plt.title(\"Loss over iterations\")\n",
    "plt.show()"
   ]
  },
  {
   "cell_type": "markdown",
   "metadata": {},
   "source": [
    "### Visualize the computational graph"
   ]
  },
  {
   "cell_type": "code",
   "execution_count": 11,
   "metadata": {},
   "outputs": [],
   "source": [
    "import torchviz"
   ]
  },
  {
   "cell_type": "code",
   "execution_count": 12,
   "metadata": {},
   "outputs": [
    {
     "data": {
      "image/svg+xml": [
       "<?xml version=\"1.0\" encoding=\"UTF-8\" standalone=\"no\"?>\n",
       "<!DOCTYPE svg PUBLIC \"-//W3C//DTD SVG 1.1//EN\"\n",
       " \"http://www.w3.org/Graphics/SVG/1.1/DTD/svg11.dtd\">\n",
       "<!-- Generated by graphviz version 2.43.0 (0)\n",
       " -->\n",
       "<!-- Title: %3 Pages: 1 -->\n",
       "<svg width=\"228pt\" height=\"436pt\"\n",
       " viewBox=\"0.00 0.00 228.00 436.00\" xmlns=\"http://www.w3.org/2000/svg\" xmlns:xlink=\"http://www.w3.org/1999/xlink\">\n",
       "<g id=\"graph0\" class=\"graph\" transform=\"scale(1 1) rotate(0) translate(4 432)\">\n",
       "<title>%3</title>\n",
       "<polygon fill=\"white\" stroke=\"transparent\" points=\"-4,4 -4,-432 224,-432 224,4 -4,4\"/>\n",
       "<!-- 124251269270160 -->\n",
       "<g id=\"node1\" class=\"node\">\n",
       "<title>124251269270160</title>\n",
       "<polygon fill=\"#caff70\" stroke=\"black\" points=\"178.5,-31 124.5,-31 124.5,0 178.5,0 178.5,-31\"/>\n",
       "<text text-anchor=\"middle\" x=\"151.5\" y=\"-7\" font-family=\"monospace\" font-size=\"10.00\"> ()</text>\n",
       "</g>\n",
       "<!-- 124250962394944 -->\n",
       "<g id=\"node2\" class=\"node\">\n",
       "<title>124250962394944</title>\n",
       "<polygon fill=\"lightgrey\" stroke=\"black\" points=\"196,-86 107,-86 107,-67 196,-67 196,-86\"/>\n",
       "<text text-anchor=\"middle\" x=\"151.5\" y=\"-74\" font-family=\"monospace\" font-size=\"10.00\">PowBackward0</text>\n",
       "</g>\n",
       "<!-- 124250962394944&#45;&gt;124251269270160 -->\n",
       "<g id=\"edge11\" class=\"edge\">\n",
       "<title>124250962394944&#45;&gt;124251269270160</title>\n",
       "<path fill=\"none\" stroke=\"black\" d=\"M151.5,-66.79C151.5,-60.07 151.5,-50.4 151.5,-41.34\"/>\n",
       "<polygon fill=\"black\" stroke=\"black\" points=\"155,-41.19 151.5,-31.19 148,-41.19 155,-41.19\"/>\n",
       "</g>\n",
       "<!-- 124250847341840 -->\n",
       "<g id=\"node3\" class=\"node\">\n",
       "<title>124250847341840</title>\n",
       "<polygon fill=\"lightgrey\" stroke=\"black\" points=\"196,-141 107,-141 107,-122 196,-122 196,-141\"/>\n",
       "<text text-anchor=\"middle\" x=\"151.5\" y=\"-129\" font-family=\"monospace\" font-size=\"10.00\">SubBackward0</text>\n",
       "</g>\n",
       "<!-- 124250847341840&#45;&gt;124250962394944 -->\n",
       "<g id=\"edge1\" class=\"edge\">\n",
       "<title>124250847341840&#45;&gt;124250962394944</title>\n",
       "<path fill=\"none\" stroke=\"black\" d=\"M151.5,-121.75C151.5,-114.8 151.5,-104.85 151.5,-96.13\"/>\n",
       "<polygon fill=\"black\" stroke=\"black\" points=\"155,-96.09 151.5,-86.09 148,-96.09 155,-96.09\"/>\n",
       "</g>\n",
       "<!-- 124250847341792 -->\n",
       "<g id=\"node4\" class=\"node\">\n",
       "<title>124250847341792</title>\n",
       "<polygon fill=\"lightgrey\" stroke=\"black\" points=\"196,-196 107,-196 107,-177 196,-177 196,-196\"/>\n",
       "<text text-anchor=\"middle\" x=\"151.5\" y=\"-184\" font-family=\"monospace\" font-size=\"10.00\">AddBackward0</text>\n",
       "</g>\n",
       "<!-- 124250847341792&#45;&gt;124250847341840 -->\n",
       "<g id=\"edge2\" class=\"edge\">\n",
       "<title>124250847341792&#45;&gt;124250847341840</title>\n",
       "<path fill=\"none\" stroke=\"black\" d=\"M151.5,-176.75C151.5,-169.8 151.5,-159.85 151.5,-151.13\"/>\n",
       "<polygon fill=\"black\" stroke=\"black\" points=\"155,-151.09 151.5,-141.09 148,-151.09 155,-151.09\"/>\n",
       "</g>\n",
       "<!-- 124250847343088 -->\n",
       "<g id=\"node5\" class=\"node\">\n",
       "<title>124250847343088</title>\n",
       "<polygon fill=\"lightgrey\" stroke=\"black\" points=\"160,-251 71,-251 71,-232 160,-232 160,-251\"/>\n",
       "<text text-anchor=\"middle\" x=\"115.5\" y=\"-239\" font-family=\"monospace\" font-size=\"10.00\">AddBackward0</text>\n",
       "</g>\n",
       "<!-- 124250847343088&#45;&gt;124250847341792 -->\n",
       "<g id=\"edge3\" class=\"edge\">\n",
       "<title>124250847343088&#45;&gt;124250847341792</title>\n",
       "<path fill=\"none\" stroke=\"black\" d=\"M121.44,-231.75C126.48,-224.34 133.84,-213.5 140.01,-204.41\"/>\n",
       "<polygon fill=\"black\" stroke=\"black\" points=\"142.94,-206.33 145.67,-196.09 137.15,-202.39 142.94,-206.33\"/>\n",
       "</g>\n",
       "<!-- 124250847346208 -->\n",
       "<g id=\"node6\" class=\"node\">\n",
       "<title>124250847346208</title>\n",
       "<polygon fill=\"lightgrey\" stroke=\"black\" points=\"122,-306 33,-306 33,-287 122,-287 122,-306\"/>\n",
       "<text text-anchor=\"middle\" x=\"77.5\" y=\"-294\" font-family=\"monospace\" font-size=\"10.00\">AddBackward0</text>\n",
       "</g>\n",
       "<!-- 124250847346208&#45;&gt;124250847343088 -->\n",
       "<g id=\"edge4\" class=\"edge\">\n",
       "<title>124250847346208&#45;&gt;124250847343088</title>\n",
       "<path fill=\"none\" stroke=\"black\" d=\"M83.77,-286.75C89.09,-279.34 96.86,-268.5 103.38,-259.41\"/>\n",
       "<polygon fill=\"black\" stroke=\"black\" points=\"106.36,-261.26 109.34,-251.09 100.67,-257.18 106.36,-261.26\"/>\n",
       "</g>\n",
       "<!-- 124250847346304 -->\n",
       "<g id=\"node7\" class=\"node\">\n",
       "<title>124250847346304</title>\n",
       "<polygon fill=\"lightgrey\" stroke=\"black\" points=\"101,-361 0,-361 0,-342 101,-342 101,-361\"/>\n",
       "<text text-anchor=\"middle\" x=\"50.5\" y=\"-349\" font-family=\"monospace\" font-size=\"10.00\">AccumulateGrad</text>\n",
       "</g>\n",
       "<!-- 124250847346304&#45;&gt;124250847346208 -->\n",
       "<g id=\"edge5\" class=\"edge\">\n",
       "<title>124250847346304&#45;&gt;124250847346208</title>\n",
       "<path fill=\"none\" stroke=\"black\" d=\"M54.96,-341.75C58.62,-334.57 63.91,-324.18 68.45,-315.27\"/>\n",
       "<polygon fill=\"black\" stroke=\"black\" points=\"71.7,-316.59 73.12,-306.09 65.47,-313.41 71.7,-316.59\"/>\n",
       "</g>\n",
       "<!-- 124250292749712 -->\n",
       "<g id=\"node8\" class=\"node\">\n",
       "<title>124250292749712</title>\n",
       "<polygon fill=\"lightblue\" stroke=\"black\" points=\"77.5,-428 23.5,-428 23.5,-397 77.5,-397 77.5,-428\"/>\n",
       "<text text-anchor=\"middle\" x=\"50.5\" y=\"-404\" font-family=\"monospace\" font-size=\"10.00\"> ()</text>\n",
       "</g>\n",
       "<!-- 124250292749712&#45;&gt;124250847346304 -->\n",
       "<g id=\"edge6\" class=\"edge\">\n",
       "<title>124250292749712&#45;&gt;124250847346304</title>\n",
       "<path fill=\"none\" stroke=\"black\" d=\"M50.5,-396.92C50.5,-389.22 50.5,-379.69 50.5,-371.43\"/>\n",
       "<polygon fill=\"black\" stroke=\"black\" points=\"54,-371.25 50.5,-361.25 47,-371.25 54,-371.25\"/>\n",
       "</g>\n",
       "<!-- 124250847343040 -->\n",
       "<g id=\"node9\" class=\"node\">\n",
       "<title>124250847343040</title>\n",
       "<polygon fill=\"lightgrey\" stroke=\"black\" points=\"220,-361 119,-361 119,-342 220,-342 220,-361\"/>\n",
       "<text text-anchor=\"middle\" x=\"169.5\" y=\"-349\" font-family=\"monospace\" font-size=\"10.00\">AccumulateGrad</text>\n",
       "</g>\n",
       "<!-- 124250847343040&#45;&gt;124250847341792 -->\n",
       "<g id=\"edge10\" class=\"edge\">\n",
       "<title>124250847343040&#45;&gt;124250847341792</title>\n",
       "<path fill=\"none\" stroke=\"black\" d=\"M170.63,-341.77C172.94,-322 177.36,-272.39 169.5,-232 167.71,-222.8 164.02,-213.09 160.44,-205.1\"/>\n",
       "<polygon fill=\"black\" stroke=\"black\" points=\"163.59,-203.57 156.12,-196.06 157.27,-206.59 163.59,-203.57\"/>\n",
       "</g>\n",
       "<!-- 124250847343040&#45;&gt;124250847343088 -->\n",
       "<g id=\"edge9\" class=\"edge\">\n",
       "<title>124250847343040&#45;&gt;124250847343088</title>\n",
       "<path fill=\"none\" stroke=\"black\" d=\"M165.08,-341.66C156.22,-323.93 136.11,-283.73 124.41,-260.32\"/>\n",
       "<polygon fill=\"black\" stroke=\"black\" points=\"127.43,-258.54 119.83,-251.16 121.17,-261.67 127.43,-258.54\"/>\n",
       "</g>\n",
       "<!-- 124250847343040&#45;&gt;124250847346208 -->\n",
       "<g id=\"edge7\" class=\"edge\">\n",
       "<title>124250847343040&#45;&gt;124250847346208</title>\n",
       "<path fill=\"none\" stroke=\"black\" d=\"M154.72,-341.98C140.32,-333.69 118.19,-320.94 101.31,-311.22\"/>\n",
       "<polygon fill=\"black\" stroke=\"black\" points=\"102.96,-308.13 92.55,-306.17 99.47,-314.19 102.96,-308.13\"/>\n",
       "</g>\n",
       "<!-- 124251269446720 -->\n",
       "<g id=\"node10\" class=\"node\">\n",
       "<title>124251269446720</title>\n",
       "<polygon fill=\"lightblue\" stroke=\"black\" points=\"196.5,-427.5 142.5,-427.5 142.5,-397.5 196.5,-397.5 196.5,-427.5\"/>\n",
       "<text text-anchor=\"middle\" x=\"169.5\" y=\"-415.5\" font-family=\"monospace\" font-size=\"10.00\">theta</text>\n",
       "<text text-anchor=\"middle\" x=\"169.5\" y=\"-404.5\" font-family=\"monospace\" font-size=\"10.00\"> ()</text>\n",
       "</g>\n",
       "<!-- 124251269446720&#45;&gt;124250847343040 -->\n",
       "<g id=\"edge8\" class=\"edge\">\n",
       "<title>124251269446720&#45;&gt;124250847343040</title>\n",
       "<path fill=\"none\" stroke=\"black\" d=\"M169.5,-397.22C169.5,-389.53 169.5,-379.94 169.5,-371.61\"/>\n",
       "<polygon fill=\"black\" stroke=\"black\" points=\"173,-371.34 169.5,-361.34 166,-371.34 173,-371.34\"/>\n",
       "</g>\n",
       "</g>\n",
       "</svg>\n"
      ],
      "text/plain": [
       "<graphviz.graphs.Digraph at 0x7101e43aba60>"
      ]
     },
     "execution_count": 12,
     "metadata": {},
     "output_type": "execute_result"
    }
   ],
   "source": [
    "# Draw the computational graph\n",
    "T = 3\n",
    "x0 = torch.tensor(1.0, requires_grad=True)\n",
    "x = x0\n",
    "for _ in range(T):\n",
    "    x = f(x, theta)\n",
    "Lt = loss(x)\n",
    "Lt.backward()\n",
    "torchviz.make_dot(Lt, params={\"theta\": theta})"
   ]
  },
  {
   "cell_type": "markdown",
   "metadata": {},
   "source": []
  }
 ],
 "metadata": {
  "kernelspec": {
   "display_name": "optim",
   "language": "python",
   "name": "python3"
  },
  "language_info": {
   "codemirror_mode": {
    "name": "ipython",
    "version": 3
   },
   "file_extension": ".py",
   "mimetype": "text/x-python",
   "name": "python",
   "nbconvert_exporter": "python",
   "pygments_lexer": "ipython3",
   "version": "3.10.13"
  }
 },
 "nbformat": 4,
 "nbformat_minor": 2
}
