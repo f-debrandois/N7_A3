{
 "cells": [
  {
   "cell_type": "markdown",
   "id": "bf22507c",
   "metadata": {},
   "source": [
    "# TP 4 et 5 : Classification en utilisant les coefficients de Scattering d'ordres 0, 1 et 2\n",
    "\n",
    "\n",
    "Enseignants: \n",
    "\n",
    "    S. Zhang (2022), J. Chirinos-Rodriguez (2025) (jonathaneduardo.chirinosrodriguez@toulouse-inp.fr)\n",
    "\n",
    "Ce notebook couvre les séances de TP 4 et 5. Il est réalisable sur CPU mais sera plus rapide sur GPU.\n",
    "\n",
    "Comment utiliser des GPU : https://www.kymat.io/gallery_2d/cifar_torch.html#sphx-glr-gallery-2d-cifar-torch-py\n",
    "\n",
    "**Acknowledgements: L. Mousset (2023), P. Richard (2024)**"
   ]
  },
  {
   "cell_type": "code",
   "execution_count": null,
   "id": "6d21fd9a",
   "metadata": {},
   "outputs": [],
   "source": [
    "import matplotlib.pyplot as plt\n",
    "import numpy as np\n",
    "import scipy\n",
    "import torch\n",
    "\n",
    "import sklearn\n",
    "from sklearn import svm\n",
    "from sklearn.discriminant_analysis import LinearDiscriminantAnalysis\n",
    "from sklearn.metrics import confusion_matrix, accuracy_score\n",
    "from kymatio.torch import Scattering2D\n",
    "\n",
    "from utils import load_obj, colorize, convert_cls2fls  # Librairie maison"
   ]
  },
  {
   "cell_type": "markdown",
   "id": "a163c69e",
   "metadata": {},
   "source": [
    "# Chargement des données\n",
    "\n",
    "Dans ce TP, nous allons utiliser les mêmes données qu'aux TP 1 et 2. Normalement, elles ont été sauvées sous un format pickle (.pkl) dans le dossier contenant ce Notebook. Pour les charger, il suffit de faire :"
   ]
  },
  {
   "cell_type": "code",
   "execution_count": null,
   "id": "066f2747",
   "metadata": {},
   "outputs": [],
   "source": [
    "### Paramètres\n",
    "NbClasses = 9  # Nombre de classes\n",
    "SizeMaps = 256  # Taille des cartes 256x256 pixels\n",
    "NbMapsTrain = 20 # Nombre de cartes par classe dans le jeu d'apprentissage\n",
    "NbMapsTest = 15  # Nombre de cartes par classe dans le jeu de test\n",
    "\n",
    "### Chargement des données\n",
    "ImgsTrain = load_obj('ImgsTrain')\n",
    "ImgsTest = load_obj('ImgsTest')\n",
    "\n",
    "### Paramètres pour les Scatterings\n",
    "J = 5  # Nombre d'échelles\n",
    "L = 8  # Nombre d'orientations\n",
    "\n",
    "### On vérifie si on a accès à des GPUs\n",
    "use_cuda = torch.cuda.is_available()  # True or False\n",
    "print('GPU:', use_cuda)"
   ]
  },
  {
   "cell_type": "markdown",
   "id": "d017cbe0",
   "metadata": {},
   "source": [
    "Dans ce TP, nous allons avoir besoin de la fonction `classify_by_LDA()` codée au TP 1. Vous pouvez la recopier dans la cellule suivante. "
   ]
  },
  {
   "cell_type": "code",
   "execution_count": null,
   "id": "af98917a",
   "metadata": {},
   "outputs": [],
   "source": []
  },
  {
   "cell_type": "markdown",
   "id": "2f278b15",
   "metadata": {},
   "source": [
    "# Invariance par translation\n",
    "\n",
    "## 1. Calcul des coefficients de Scattering de 1er ordre\n",
    "\n",
    "Nous allons utiliser la fonction `Scattering2D()` de la librairie Kymatio. Voir la doc https://www.kymat.io/codereference.html pour la définition des coefficients calculés. \n",
    "\n",
    "On définit la fonction suivante pour se restreindre aux coefficients d'ordres 0 et 1:"
   ]
  },
  {
   "cell_type": "code",
   "execution_count": null,
   "id": "eeb60f71",
   "metadata": {},
   "outputs": [],
   "source": [
    "scattering1 = Scattering2D(shape=(SizeMaps, SizeMaps), J=J, L=L, max_order=1)\n",
    "if use_cuda:\n",
    "    scattering1 = scattering1.cuda()  # On passe la fonction sur GPU"
   ]
  },
  {
   "cell_type": "markdown",
   "id": "38e2cd79",
   "metadata": {},
   "source": [
    "**1.1 TODO :** Compléter la fonction suivante qui calcule les coefficients de scattering d'ordre 1 sur un jeu d'images. Il faudra penser à convertir l'image numpy array en Tenseur torch en utilisant la fonction `torch.from_numpy()`. Afin de tenir compte de l'invariance par translation sur l'image, on moyennera les coefficients sur les blocs de pixels. Appliquer cette fonction aux images d'entraînement et de validation. "
   ]
  },
  {
   "cell_type": "code",
   "execution_count": null,
   "id": "a77ce1c9",
   "metadata": {},
   "outputs": [],
   "source": [
    "def compute_features_o1(Imgs: dict, NbClasses: int, NbMaps: int) -> dict:\n",
    "    scato1_cls = {} # Initialisation du dictionnaire qui va stocker les coefficients\n",
    "    \n",
    "    num_features = 1 + (J * L) # Nombre de coefficients (ordres 0 et 1)\n",
    "    \n",
    "    for i in range(NbClasses): # Boucle sur les classes\n",
    "        scato1 = np.zeros((NbMaps, num_features))\n",
    "        for j in range(NbMaps):  # Boucles sur les images\n",
    "            # %%%%% TODO %%%%%\n",
    "           \n",
    "            # %%%%% end TODO %%%%% \n",
    "            \n",
    "        scato1_cls[i] = scato1\n",
    "        \n",
    "    return scato1_cls"
   ]
  },
  {
   "cell_type": "code",
   "execution_count": null,
   "id": "f1030b6f",
   "metadata": {},
   "outputs": [],
   "source": [
    "# %%%%% TODO %%%%%\n",
    "# Applique la fonction sur les données d'entraînement et de test\n",
    "scato1Train = \n",
    "scato1Test = \n",
    "# %%%%% end TODO %%%%%"
   ]
  },
  {
   "cell_type": "markdown",
   "id": "e1e63834",
   "metadata": {},
   "source": [
    "**1.2 TODO :** Tracer les coefficients obtenus. On utilisera l'échelle log. Comparer les coefficients entres classes et entre les images d'une même classe. Pourquoi a t'on cette structure en marches d'escalier ?  "
   ]
  },
  {
   "cell_type": "code",
   "execution_count": null,
   "id": "1d380ea8",
   "metadata": {},
   "outputs": [],
   "source": [
    "# %%%%% TODO %%%%%\n",
    "### Plot\n",
    "# %%%%% end TODO %%%%%"
   ]
  },
  {
   "cell_type": "markdown",
   "id": "0b34a875",
   "metadata": {},
   "source": [
    "**1.3 TODO :** Réaliser une classification par LDA à partir de ces coefficients. Afficher les matrices de confusion et le résultat du test de précision."
   ]
  },
  {
   "cell_type": "code",
   "execution_count": null,
   "id": "0a51c00e",
   "metadata": {},
   "outputs": [],
   "source": [
    "### LDA classification\n",
    "# %%%%% TODO %%%%%\n",
    "resultso1 = \n",
    "\n",
    "### Plot results\n",
    "\n",
    "\n",
    "# %%%%% end TODO %%%%%"
   ]
  },
  {
   "cell_type": "markdown",
   "id": "e9e533b4",
   "metadata": {},
   "source": [
    "# 2. Calcul des coefficients de scattering de 2nd ordre\n",
    "\n",
    "On définit la fonction suivante pour inclure les ordres 0, 1 et 2:"
   ]
  },
  {
   "cell_type": "code",
   "execution_count": null,
   "id": "23528f78",
   "metadata": {},
   "outputs": [],
   "source": [
    "scattering2 = Scattering2D(shape=(SizeMaps, SizeMaps), J=J, L=L, max_order=2)\n",
    "if use_cuda:\n",
    "    scattering2 = scattering2.cuda()  # On passe la fonction sur GPU"
   ]
  },
  {
   "cell_type": "markdown",
   "id": "d2acdf26",
   "metadata": {},
   "source": [
    "**2.1 TODO :** Comme à la partie précédente, compléter la fonction suivante qui calcule les coefficients de scattering d'ordre 0, 1 et 2. Appliquer la fonction aux données d'entraînement et de test."
   ]
  },
  {
   "cell_type": "code",
   "execution_count": null,
   "id": "c17996ed",
   "metadata": {},
   "outputs": [],
   "source": [
    "def compute_features_o2(Imgs: dict, NbClasses: int, NbMaps: int) -> dict:\n",
    "    scato2_cls = {}\n",
    "    num_features = 1 + J*L + (J*(J-1)*L*L//2)  # Number of coefficients (orders 0, 1, 2)\n",
    "    \n",
    "    for i in range(NbClasses):  # Boucle sur les classes\n",
    "        scato2 = np.zeros((NbMaps, num_features))\n",
    "        for j in range(NbMaps):  # Boucles sur les images\n",
    "            # %%%%% TODO %%%%%\n",
    "        \n",
    "            # %%%%% end TODO %%%%%\n",
    "            \n",
    "        scato2_cls[i] = scato2\n",
    "        \n",
    "    return scato2_cls"
   ]
  },
  {
   "cell_type": "code",
   "execution_count": null,
   "id": "2807afb4",
   "metadata": {},
   "outputs": [],
   "source": [
    "# %%%%% TODO %%%%%\n",
    "scato2Train = \n",
    "scato2Test = \n",
    "# %%%%% end TODO %%%%%"
   ]
  },
  {
   "cell_type": "markdown",
   "id": "8b251d45",
   "metadata": {},
   "source": [
    "**2.2 TODO :** Tracer les coefficients obtenus"
   ]
  },
  {
   "cell_type": "code",
   "execution_count": null,
   "id": "e07798e0",
   "metadata": {},
   "outputs": [],
   "source": [
    "# %%%%% TODO %%%%%\n",
    "### Plot\n",
    "# %%%%% end TODO %%%%%"
   ]
  },
  {
   "cell_type": "markdown",
   "id": "df7c7594",
   "metadata": {},
   "source": [
    "**2.3 TODO :** Réaliser une classification par LDA"
   ]
  },
  {
   "cell_type": "code",
   "execution_count": null,
   "id": "990c0dde",
   "metadata": {},
   "outputs": [],
   "source": [
    "### LDA classification\n",
    "# %%%%% TODO %%%%%\n",
    "resultso2 = \n",
    "\n",
    "### Plot results\n",
    "\n",
    "# %%%%% end TODO %%%%%"
   ]
  },
  {
   "cell_type": "markdown",
   "id": "09b3a548",
   "metadata": {},
   "source": [
    "**2.4 OPTIONAL :** En plus de la LDA, nous allons utiliser la méthode de classification par **Support Vector Machines (SVM)**. Compléter la fonction suivante qui réalise une classification par SVM. La fonction sera très similaire à la fonction `classify_by_LDA`. On utilisera un noyau linéaire. On pourra s'aider de cette page: https://scikit-learn.org/stable/modules/svm.html"
   ]
  },
  {
   "cell_type": "code",
   "execution_count": null,
   "id": "a10850ac",
   "metadata": {},
   "outputs": [],
   "source": [
    "def classify_by_SVM(dataTrain: dict, dataTest: dict, kernel: str='linear', C: float=1) -> dict:\n",
    "    # Construit les features et les labels des données Train et Test pour l'apprentissage supervisé.\n",
    "    featuresTrain, labelsTrain = convert_cls2fls(dataTrain, NbClasses, NbMapsTrain)\n",
    "    featuresTest, labelsTest = convert_cls2fls(dataTest, NbClasses, NbMapsTest)\n",
    "    \n",
    "    # %%%%% TODO %%%%%\n",
    "   \n",
    "    # %%%%% end TODO %%%%%\n",
    "    \n",
    "    return {'train_cm': cmatTrain, 'train_acc': accuracyTrain, 'test_cm': cmatTest, 'test_acc': accuracyTest, 'lda': clf}"
   ]
  },
  {
   "cell_type": "markdown",
   "id": "5f432a8b",
   "metadata": {},
   "source": [
    "**2.5 OPTIONAL :** Réaliser une classification par SVM sur les coefficients de scattering d'ordre 0, 1 et 2. Evaluer les performances de la classification SVM en fonction du paramètre de régularisation C. On tracera le test de précision sur les donnée d'entrainement et de test en fonction de C."
   ]
  },
  {
   "cell_type": "code",
   "execution_count": null,
   "id": "eba833d4",
   "metadata": {},
   "outputs": [],
   "source": [
    "listC = [1, 10, 100, 1000, 10000, 1e5, 1e6]\n",
    "trainaccC = []\n",
    "testaccC = []\n",
    "\n",
    "# %%%%% TODO %%%%%\n",
    "\n",
    "# %%%%% end TODO %%%%%"
   ]
  },
  {
   "cell_type": "markdown",
   "id": "15320217",
   "metadata": {},
   "source": [
    "# Invariance par rotation\n",
    "\n",
    "# 3. Calcul des coefficients de 1er ordre invariants par rotation\n",
    "\n",
    "Comme on l'a vu dans la partie 1, les coefficients semblent invariants par rotation. Ils ne dépendent pas (ou peu) de l'angle. On va donc moyenner sur les angles.\n",
    "\n",
    "Comme précédemment on utilise la fonction Scattering2D en se restreignant aux ordres 0 et 1. Cette fois, on récupère l'output sous la forme d'une liste de dictionnaires pour pouvoir identifier chaque terme (j, theta)."
   ]
  },
  {
   "cell_type": "code",
   "execution_count": null,
   "id": "1d310acd",
   "metadata": {},
   "outputs": [],
   "source": [
    "scattering1 = Scattering2D(shape=(SizeMaps, SizeMaps), J=J, L=L, max_order=1, out_type='list')\n",
    "if use_cuda:\n",
    "    scattering1 = scattering1.cuda()  # On passe sur GPU"
   ]
  },
  {
   "cell_type": "markdown",
   "id": "4ed7a588",
   "metadata": {},
   "source": [
    "**3.1 TODO :** Compléter la fonction suivante. Elle devra calculer les coefficients d'ordre 1 et moyenner sur les angles. Appliquer la fonction aux données d'entrainement et de test."
   ]
  },
  {
   "cell_type": "code",
   "execution_count": null,
   "id": "1e87ac92",
   "metadata": {},
   "outputs": [],
   "source": [
    "# Compute order 1 rotational invariance\n",
    "def compute_features_o1rot(Imgs, NbClasses, NbMaps):\n",
    "   \n",
    "    scato1rot_cls = {}  # Initialization du dictionnaire\n",
    "    \n",
    "    for i in range(NbClasses):  # Boucle sur les classes   \n",
    "        scato1mat = np.zeros((NbMaps, J, L))  # Initialization de la matrice de coefficients\n",
    "        \n",
    "        # %%%%% TODO %%%%%\n",
    "       \n",
    "        # %%%%% end TODO %%%%%\n",
    "                      \n",
    "        scato1rot_cls[i] = scato1rot # [NbMaps, J]\n",
    "        \n",
    "    return scato1rot_cls\n"
   ]
  },
  {
   "cell_type": "code",
   "execution_count": null,
   "id": "c273a44d",
   "metadata": {},
   "outputs": [],
   "source": [
    "# %%%%% TODO %%%%%\n",
    "# On applique la fonction aux données d'entrainement et de test\n",
    "scato1rotTrain = \n",
    "scato1rotTest = \n",
    "# %%%%% end TODO %%%%%"
   ]
  },
  {
   "cell_type": "markdown",
   "id": "cc7b5999",
   "metadata": {},
   "source": [
    "**3.2 TODO :** Tracer les coefficients obtenus et fonction de l'échelle, pour les différentes classes $i$ et les différentes images $j$."
   ]
  },
  {
   "cell_type": "code",
   "execution_count": null,
   "id": "da2a5b67",
   "metadata": {},
   "outputs": [],
   "source": [
    "# %%%%% TODO %%%%%\n",
    "### Plot\n",
    "\n",
    "# %%%%% end TODO %%%%%"
   ]
  },
  {
   "cell_type": "markdown",
   "id": "34d331d4",
   "metadata": {},
   "source": [
    "**3.3 TODO :** Réaliser une classification par LDA. Afficher les matrices de confusions et les tests d'accuracy obtenus sur les données d'entrainement et de test."
   ]
  },
  {
   "cell_type": "code",
   "execution_count": null,
   "id": "46b502e4",
   "metadata": {},
   "outputs": [],
   "source": [
    "# %%%%% TODO %%%%%\n",
    "resultso1rot = \n",
    "\n",
    "### Plot results\n",
    "\n"
   ]
  },
  {
   "cell_type": "markdown",
   "id": "39696153",
   "metadata": {},
   "source": [
    "**3.4 OPTIONAL :** Réaliser une classification par SVM pour différents C. On tracera le test de précision sur les donnée d'entrainement et de test en fonction de C."
   ]
  },
  {
   "cell_type": "code",
   "execution_count": null,
   "id": "79c0ebe4",
   "metadata": {},
   "outputs": [],
   "source": [
    "listC = [1, 10, 100, 1000, 10000, 1e5, 1e6, 1e7, 1e8]\n",
    "trainaccC = []\n",
    "testaccC = []\n",
    "\n",
    "# %%%%% TODO %%%%%\n",
    "for C in listC:\n",
    "    results_svm = \n",
    "# %%%%% end TODO %%%%%\n",
    "\n",
    "# %%%%% TODO %%%%%\n",
    "# Plot\n",
    "\n",
    "# %%%%% end TODO %%%%%"
   ]
  },
  {
   "cell_type": "markdown",
   "id": "c022a88e",
   "metadata": {},
   "source": [
    "# 4. Calcul des coefficients de 2nd ordre invariants par rotation\n",
    "\n",
    "Nous allons suivre les mêmes étapes que dans la partie précédente mais cette fois ci pour les coefficients d'ordres 1 et 2.\n",
    "\n",
    "On définit la fonction suivante qui va retourner une liste de dictionnaires."
   ]
  },
  {
   "cell_type": "code",
   "execution_count": null,
   "id": "c04ed1e6",
   "metadata": {},
   "outputs": [],
   "source": [
    "scattering2 = Scattering2D(shape = (SizeMaps,SizeMaps), J=J, L=L, max_order=2, out_type='list')\n",
    "if use_cuda:\n",
    "    scattering2 = scattering2.cuda()  # Passage sur GPU"
   ]
  },
  {
   "cell_type": "markdown",
   "id": "2141a7b4",
   "metadata": {},
   "source": [
    "**4.1 TODO :** Compléter la fonction suivante. Elle devra calculer les coefficients d'ordre 1 et 2 ou 2 seulement et moyenner sur les angles. Appliquer la fonction aux données d'entrainement et de test."
   ]
  },
  {
   "cell_type": "code",
   "execution_count": null,
   "id": "406de4fe",
   "metadata": {},
   "outputs": [],
   "source": [
    "def compute_features_o2rot(Imgs, NbClasses, NbMaps, o2only=False):\n",
    "    \n",
    "    scato2rot_cls = {}        \n",
    "    \n",
    "    for i in range(NbClasses): # Boucle sur les classes            \n",
    "        scato1nor = np.zeros((NbMaps, J, L))  # Ordre 1\n",
    "        scato2nor = np.zeros((NbMaps, J, J, L, L)) # Ordre 2\n",
    "        \n",
    "        for j in range(NbMaps): # Boucle sur les images\n",
    "            \n",
    "            # %%%%% TODO %%%%%\n",
    "            \n",
    "            # %%%%% end TODO %%%%%\n",
    "        \n",
    "    return scato2rot_cls"
   ]
  },
  {
   "cell_type": "code",
   "execution_count": null,
   "id": "741a30b2",
   "metadata": {},
   "outputs": [],
   "source": [
    "# %%%%% TODO %%%%%\n",
    "# On applique la fonction aux données d'entrainement et de test\n",
    "scato2rotTrain = \n",
    "scato2rotTest = \n",
    "# %%%%% end TODO %%%%%"
   ]
  },
  {
   "cell_type": "markdown",
   "id": "707013fc",
   "metadata": {},
   "source": [
    "**4.2 TODO :** Tracer les coefficients obtenus et fonction de l'échelle j, pour les différentes classes $i$ et les différentes images $j$."
   ]
  },
  {
   "cell_type": "code",
   "execution_count": null,
   "id": "708d0ad2",
   "metadata": {},
   "outputs": [],
   "source": [
    "# %%%%% TODO %%%%%\n",
    "### Plot\n",
    "# %%%%% end TODO %%%%%"
   ]
  },
  {
   "cell_type": "markdown",
   "id": "2d9c698f",
   "metadata": {},
   "source": [
    "**4.3 TODO :** Réaliser une classification par LDA. Afficher les matrices de confusions et les tests d'accuracy obtenus sur les données d'entrainement et de test."
   ]
  },
  {
   "cell_type": "code",
   "execution_count": null,
   "id": "ecb796f4",
   "metadata": {},
   "outputs": [],
   "source": [
    "# %%%%% TODO %%%%%\n",
    "resultso2rot = \n",
    "\n",
    "### Plot results\n",
    "\n",
    "# %%%%% end TODO %%%%%"
   ]
  },
  {
   "cell_type": "markdown",
   "id": "f87947b8",
   "metadata": {},
   "source": [
    "**4.4 OPTIONAL :** Réaliser une classification par SVM pour différents C. On tracera le test de précision sur les donnée d'entrainement et de test en fonction de C."
   ]
  },
  {
   "cell_type": "code",
   "execution_count": null,
   "id": "78288662",
   "metadata": {},
   "outputs": [],
   "source": [
    "listC = [1, 10, 100, 1000, 10000, 1e5, 1e6, 1e7, 1e8, 1e9]\n",
    "trainaccC = []\n",
    "testaccC = []\n",
    "\n",
    "# %%%%% TODO %%%%%\n",
    "\n",
    "for C in listC:\n",
    "    results_svm = \n",
    "# %%%%% end TODO %%%%%\n",
    "\n",
    "# %%%%% TODO %%%%%\n",
    "# Plot    \n",
    "\n",
    "# %%%%% end TODO %%%%%"
   ]
  },
  {
   "cell_type": "code",
   "execution_count": null,
   "id": "13c35135",
   "metadata": {},
   "outputs": [],
   "source": []
  }
 ],
 "metadata": {
  "kernelspec": {
   "display_name": "Python 3 (ipykernel)",
   "language": "python",
   "name": "python3"
  },
  "language_info": {
   "codemirror_mode": {
    "name": "ipython",
    "version": 3
   },
   "file_extension": ".py",
   "mimetype": "text/x-python",
   "name": "python",
   "nbconvert_exporter": "python",
   "pygments_lexer": "ipython3",
   "version": "3.10.12"
  }
 },
 "nbformat": 4,
 "nbformat_minor": 5
}
