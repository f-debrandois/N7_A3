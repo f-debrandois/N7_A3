{
 "cells": [
  {
   "cell_type": "code",
   "execution_count": 1,
   "id": "3966d7a9",
   "metadata": {},
   "outputs": [],
   "source": [
    "import numpy as np\n",
    "from numpy.random import Generator, PCG64\n",
    "import math\n",
    "from heateq import Exact, Simulateur\n",
    "import time\n",
    "import matplotlib.pyplot as plt"
   ]
  },
  {
   "cell_type": "code",
   "execution_count": 2,
   "id": "1ac5f558",
   "metadata": {},
   "outputs": [],
   "source": [
    "seed = 213731490053398181466621250222036675538\n",
    "rng = Generator(PCG64(seed))"
   ]
  },
  {
   "cell_type": "markdown",
   "id": "93dfe943-289f-4180-a1f9-318336944cde",
   "metadata": {},
   "source": [
    "# Description des simulateurs"
   ]
  },
  {
   "cell_type": "markdown",
   "id": "5469596e-7cef-45b2-bd79-164bcb7455ce",
   "metadata": {},
   "source": [
    "On considère l'équation de la chaleur unidimensionnelle vue en cours, et la même distribution de probabilité pour $\\mathbf{X}$.\n",
    "On rappelle que la précision de $\\tilde{h}^{(K,Q)}$ est gouvernée par les entiers $K$ et $Q$, et que le coût moyen d'évaluer $\\tilde{h}^{(K,Q)}(\\mathbf{X})$ est proportionnel à $KQ$.\n",
    "\n",
    "On définit un simulateur haute fidélité $f = \\tilde{h}^{(K=21,Q=60)}$ et un simulateur basse fidélité $g = \\tilde{h}^{(K=3,Q=15)}$.\n",
    "\n",
    "On note $w = c_g / c_f$, où $c_f$ (respectivement, $c_g$) est le coût moyen d'évaluer $f(\\mathbf{X})$ (respectivement, $g(\\mathbf{X})$).\n",
    "\n",
    "Dans la suite, on note $Y=f(\\mathbf{X})$ et $Z=g(\\mathbf{X})$."
   ]
  },
  {
   "cell_type": "code",
   "execution_count": 3,
   "id": "ee921aad",
   "metadata": {},
   "outputs": [],
   "source": [
    "# Permet d'obtenir un n-échantillon du vecteur aléatoire d'entrée X\n",
    "def n_echantillon_X(n):\n",
    "    return np.vstack(\n",
    "        (\n",
    "            rng.uniform(-math.pi, math.pi, (3, n)),\n",
    "            rng.uniform(0.001, 0.009, (1, n)), \n",
    "            rng.uniform(-1., 1., (3, n))\n",
    "        )\n",
    "    )"
   ]
  },
  {
   "cell_type": "code",
   "execution_count": 4,
   "id": "30bb11d0",
   "metadata": {},
   "outputs": [],
   "source": [
    "# Simulateurs haute et basse fidélité\n",
    "f = Simulateur(21, 60)\n",
    "g = Simulateur(3, 15)"
   ]
  },
  {
   "cell_type": "code",
   "execution_count": 5,
   "id": "bd707c2e",
   "metadata": {},
   "outputs": [],
   "source": [
    "# Espérance exacte de la solution continue\n",
    "mu_exact = Exact().mu"
   ]
  },
  {
   "cell_type": "markdown",
   "id": "2f83abe9-2476-40bc-94a8-39bf7d695c86",
   "metadata": {},
   "source": [
    "**Question 1** : Quelle est la valeur attendue de $w$ ? Le vérifier expérimentalement."
   ]
  },
  {
   "cell_type": "markdown",
   "id": "34ef67bb",
   "metadata": {},
   "source": [
    "<div style=\"background-color:rgba(255, 0,0, 0.1); padding:15px;\">\n",
    "\n",
    "On a : $w = c_g / c_f.$\n",
    "\n",
    "Sachant que les coûts sont proportionnels à $KQ$, on a :\n",
    "-  $c_f \\propto 21 \\times 60 = 1260$\n",
    "-  $c_g \\propto 3 \\times 15 = 45$\n",
    "\n",
    "Donc : $w = 1 / 28$.\n",
    "\n",
    "</div>"
   ]
  },
  {
   "cell_type": "code",
   "execution_count": 6,
   "id": "a82b768c",
   "metadata": {},
   "outputs": [],
   "source": [
    "# Génération de l'échantillon\n",
    "ns = 500000\n",
    "X = n_echantillon_X(ns)"
   ]
  },
  {
   "cell_type": "code",
   "execution_count": null,
   "id": "9bb98b30",
   "metadata": {},
   "outputs": [
    {
     "name": "stdout",
     "output_type": "stream",
     "text": [
      "Temps de calcul pour la haute fidélité : 7.08 secondes\n",
      "Temps de calcul pour la basse fidélité : 0.20 secondes\n",
      "w estimé : 0.03\n",
      "w attendu : 0.03571428571428571\n"
     ]
    }
   ],
   "source": [
    "t1_start = time.process_time()\n",
    "f(X)\n",
    "t1_stop = time.process_time()\n",
    "t2_start = time.process_time()\n",
    "g(X)\n",
    "t2_stop = time.process_time()\n",
    "w_estim = (t2_stop-t2_start) / (t1_stop-t1_start)\n",
    "print(f\"Temps de calcul pour la haute fidélité : {t1_stop-t1_start:.2f} secondes\")\n",
    "print(f\"Temps de calcul pour la basse fidélité : {t2_stop-t2_start:.2f} secondes\")\n",
    "print(f\"w estimé : {w_estim:.2f}\")\n",
    "print(f\"w attendu : {1/28:.2f}\")"
   ]
  },
  {
   "cell_type": "markdown",
   "id": "70292ef5",
   "metadata": {},
   "source": [
    "Expérimentalement, la valeurs de $w$ sont autour de $0.03$. ce qui est cohérent avec la valeur $1/28$ théorique."
   ]
  },
  {
   "cell_type": "markdown",
   "id": "3d952572-6e73-48e8-a51e-32766f211259",
   "metadata": {},
   "source": [
    "# Estimateur multifidélité (MF)"
   ]
  },
  {
   "cell_type": "markdown",
   "id": "92d5e6fe-26e1-4340-b8eb-f73fb8d81023",
   "metadata": {},
   "source": [
    "On considère un échantillon $\\mathcal{X} = \\{\\mathbf{X}_1, \\ldots, \\mathbf{X}_N\\}$.\n",
    "\n",
    "On définit un nouvel estimateur multifidélité par \n",
    "$\\bar{Y}_{n,N}^{\\textnormal{mf}}(\\alpha) = \\bar{Y}_n - \\alpha(\\bar{Z}_n - \\bar{Z}_N)$,\n",
    "où $0 < n < N$ et\n",
    "\n",
    "- $\\bar{Y}_n = \\displaystyle\\frac{1}{n} \\sum\\limits_{i=1}^n f(\\mathbf{X}_i)$,\n",
    "- $\\bar{Z}_n = \\displaystyle\\frac{1}{n} \\sum\\limits_{i=1}^n g(\\mathbf{X}_i)$,\n",
    "- $\\bar{Z}_N = \\displaystyle\\frac{1}{N} \\sum\\limits_{i=1}^N g(\\mathbf{X}_i)$."
   ]
  },
  {
   "cell_type": "markdown",
   "id": "02b50449-4abe-4d26-baf0-fea4cdaadd30",
   "metadata": {},
   "source": [
    "**Question 2** : Montrer que le coût moyen d'évaluation de $\\bar{Y}_{n,N}^{\\textnormal{mf}}(\\alpha)$ est\n",
    "$c=n(c_f + \\eta c_g)$, où $\\eta = \\dfrac{N}{n}$.\n",
    "En déduire le nombre d'évaluations haute fidélité équivalentes $\\tilde{n}_f = c / c_f$, exprimée en fonction de $\\eta$ et $w$."
   ]
  },
  {
   "cell_type": "markdown",
   "id": "1432065f",
   "metadata": {},
   "source": [
    "<div style=\"background-color:rgba(255, 0,0, 0.1); padding:15px;\">\n",
    "\n",
    "Pour une estimation de $\\bar{Y}^{\\text{mf}}_{n, N}(\\alpha)$, il faut évaluer :\n",
    "- $\\bar{Y}_{n}$ : $n$ évaluations haute fidélité ($Y$), coûtant chacune $c_f$.\n",
    "- $\\bar{Z}_{N}$ : $N$ évaluations basse fidélité ($Z$), coûtant chacune $c_g$.\n",
    "- $\\bar{Z}_{n}$ : $n < N$ donc on ne fait pas de nouvelle évaluation basse fidélité.\n",
    "\n",
    "Le coût total est donc :\n",
    "$$\n",
    "c = n c_f + N c_g = n(c_f + \\eta c_g) \\qquad \\text{avec } \\eta = \\frac{N}{n}\n",
    "$$\n",
    "\n",
    "On calcule le nombre d’évaluations haute fidélité équivalentes :\n",
    "$$\n",
    "\\tilde{n}_f = c / c_f = n(1 + \\eta w)\n",
    "$$\n",
    "\n",
    "</div>"
   ]
  },
  {
   "cell_type": "markdown",
   "id": "66dc7d79-d24c-48d7-a7f0-9b2777b4cbdc",
   "metadata": {},
   "source": [
    "**Question 3** : On note $V_{\\tilde{n}_f} = \\dfrac{\\mathbb{V}[Y]}{\\tilde{n}_f}$. Que représente $V_{\\tilde{n}_f}$?"
   ]
  },
  {
   "cell_type": "markdown",
   "id": "c67f0b7f",
   "metadata": {},
   "source": [
    "<div style=\"background-color:rgba(255, 0,0, 0.1); padding:15px;\">\n",
    "\n",
    "$V_{\\tilde{n}_f}$ représente la variance d'un estimateur de Monte Carlo utilisant $\\tilde{n}_f$ évaluations haute fidélité.\n",
    "\n",
    "</div>"
   ]
  },
  {
   "cell_type": "markdown",
   "id": "9e03de36-ce50-405d-8cf2-7c7247988762",
   "metadata": {},
   "source": [
    "**Question 4** : Montrer que\n",
    "\n",
    "- $\\mathbb{C}[\\bar{Y}_n, \\bar{Z}_n - \\bar{Z}_N] = \\dfrac{N-n}{nN}\\mathbb{C}[Y, Z]$\n",
    "- $\\mathbb{V}[\\bar{Z}_n - \\bar{Z}_N] = \\dfrac{N-n}{nN} \\mathbb{V}[Z]$."
   ]
  },
  {
   "cell_type": "markdown",
   "id": "6213eb19",
   "metadata": {},
   "source": [
    "<div style=\"background-color:rgba(255, 0,0, 0.1); padding:15px;\">\n",
    "\n",
    "\\begin{align*}\n",
    "    Cov(\\bar{Y}_{n}, \\bar{Z}_{n} - \\bar{Z}_{N}) &= Cov(\\bar{Y}_{n}, \\bar{Z}_{n}) - Cov(\\bar{Y}_{n}, \\bar{Z}_{N}) \\quad \\text{(linéarité)} \\\\\n",
    "    &= \\frac{1}{n^2} \\sum_{i=1}^{n} \\sum_{j=1}^{n} Cov(Y_i, Z_j) - \\frac{1}{nN} \\sum_{i=1}^{n} \\sum_{j=1}^{N} Cov(Y_i, Z_j) \\\\\n",
    "    &= \\frac{1}{n^2} \\sum_{i=1}^{n} Cov(Y_i, Z_i) - \\frac{1}{nN} \\sum_{i=1}^{n} Cov(Y_i, Z_i) \\qquad \\text{(car $Cov(Y_i, Z_j) = 0$ si $i \\neq j$)} \\\\\n",
    "    &= \\frac{1}{n} Cov(Y, Z) - \\frac{1}{N} Cov(Y, Z) \\\\\n",
    "    &= \\frac{N - n}{nN} Cov(Y, Z)\n",
    "\\end{align*}\n",
    "\n",
    "\\begin{align*}\n",
    "    Var(\\bar{Z}_{n} - \\bar{Z}_{N}) &= Var(\\bar{Z}_{n}) + Var(\\bar{Z}_{N}) - 2Cov(\\bar{Z}_{n}, \\bar{Z}_{N}) \\\\\n",
    "    &= \\frac{1}{n^2} \\sum_{i=1}^{n} Var(Z_i) + \\frac{1}{N^2} \\sum_{i=1}^{N} Var(Z_i) - 2 \\frac{1}{nN} \\sum_{i=1}^{n} \\sum_{j=1}^{N} Cov(Z_i, Z_j) \\\\\n",
    "    &= \\frac{1}{n^2} nVar(Z) + \\frac{1}{N^2} NVar(Z) - 2 \\frac{1}{nN} \\sum_{i=1}^{n} Cov(Z_i, Z_i) \\qquad \\text{(car $Cov(Z_i, Z_j) = 0$ si $i \\neq j$)} \\\\\n",
    "    &= \\frac{1}{n} Var(Z) + \\frac{1}{N} Var(Z) - 2 \\frac{1}{nN} nCov(Z, Z) \\\\\n",
    "    &= \\frac{1}{n} Var(Z) - \\frac{1}{N} Var(Z) \\\\\n",
    "    &= \\frac{N - n}{nN} Var(Z)\n",
    "\\end{align*}\n",
    "\n",
    "</div>"
   ]
  },
  {
   "cell_type": "markdown",
   "id": "442ea153-11c0-4a4a-9689-96e266bbead1",
   "metadata": {},
   "source": [
    "**Question 5** : En déduire que la valeur optimale $\\alpha^*$ de $\\alpha$ qui minimise $\\mathbb{V}[\\bar{Y}_{n,N}^{\\textnormal{mf}}(\\alpha)]$, est\n",
    "$$\\alpha^*=\\dfrac{\\mathbb{C}[Y, Z]}{\\mathbb{V}[Z]}$$\n",
    "et que la variance minimale est alors\n",
    "$$\\mathbb{V}[\\bar{Y}_{n,N}^{\\textnormal{mf}}(\\alpha^*)]\n",
    "= \\dfrac{\\mathbb{V}[Y]}{n}\\left[1 - \\dfrac{N-n}{N} \\rho^2 \\right]\n",
    "= V_{\\tilde{n}_f}(1+\\eta w)\\left[1 - \\left(1 - \\dfrac{1}{\\eta}\\right) \\rho^2 \\right]$$\n",
    "où $\\rho$ est le coefficient de corrélation de Pearson entre $Y$ et $Z$."
   ]
  },
  {
   "cell_type": "markdown",
   "id": "8822e699",
   "metadata": {},
   "source": [
    "<div style=\"background-color:rgba(255, 0,0, 0.1); padding:15px;\">\n",
    "\n",
    "On a :\n",
    "\\begin{align*}\n",
    "    Var(\\bar{Y}^{\\text{mf}}_{n, N}(\\alpha)) &= Var(\\bar{Y}_{n} - \\alpha (\\bar{Z}_{n} - \\bar{Z}_{N})) \\\\\n",
    "    &= Var(\\bar{Y}_{n}) + \\alpha^2 Var(\\bar{Z}_{n} - \\bar{Z}_{N}) - 2\\alpha Cov(\\bar{Y}_{n}, \\bar{Z}_{n} - \\bar{Z}_{N}) \\\\\n",
    "    &= \\frac{1}{n} Var(Y) + \\alpha^2 \\frac{N - n}{nN} Var(Z) - 2\\alpha \\frac{N - n}{nN} Cov(Y, Z)\n",
    "\\end{align*}\n",
    "\n",
    "On dérive par rapport à $\\alpha$ :\n",
    "\\begin{align*}\n",
    "    \\frac{d}{d\\alpha} Var(\\bar{Y}^{\\text{mf}}_{n, N}(\\alpha)) &= 2\\alpha \\frac{N - n}{nN} Var(Z) - 2 \\frac{N - n}{nN} Cov(Y, Z) \\\\\n",
    "    &= 2 \\frac{N - n}{nN} \\left( \\alpha Var(Z) - Cov(Y, Z) \\right)\n",
    "\\end{align*}\n",
    "\n",
    "Le minimum est donc atteint pour :\n",
    "$$\n",
    "\\alpha^* = \\frac{Cov(Y, Z)}{Var(Z)}\n",
    "$$\n",
    "\n",
    "On calcule $Var(\\bar{Y}^{\\text{mf}}_{n, N}(\\alpha^*))$ :\n",
    "\\begin{align*}\n",
    "    Var(\\bar{Y}^{\\text{mf}}_{n, N}(\\alpha^*)) &= \\frac{1}{n} Var(Y) + \\left( \\frac{Cov(Y, Z)}{Var(Z)} \\right)^2 \\frac{N - n}{nN} Var(Z) - 2\\frac{Cov(Y, Z)}{Var(Z)} \\frac{N - n}{nN} Cov(Y, Z) \\\\\n",
    "    &= \\frac{1}{n} Var(Y) + \\frac{(Cov(Y, Z))^2}{Var(Z)} \\frac{N - n}{nN} Var(Z) - 2\\frac{(Cov(Y, Z))^2}{Var(Z)} \\frac{N - n}{nN} \\\\\n",
    "    &= \\frac{Var(Y)}{n}\\left[1 - \\frac{N - n}{nN} \\rho^2 \\right] \\qquad \\text{avec } \\rho^2 = \\frac{(Cov(Y, Z))^2}{Var(Y)Var(Z)} \\\\\n",
    "    &= \\frac{Var(Y)}{n(1 + \\eta w)}(1 + \\eta w) \\left[1 - \\left(1 - \\frac{1}{\\eta} \\right) \\rho^2 \\right] \\\\\n",
    "    &= V_{\\tilde{n}_f}(1 + \\eta w) \\left[1 - \\left(1 - \\frac{1}{\\eta} \\right) \\rho^2 \\right]\n",
    "\\end{align*}\n",
    "\n",
    "</div>"
   ]
  },
  {
   "cell_type": "markdown",
   "id": "5792d46f-9e03-4a62-a310-c1be077b26c8",
   "metadata": {},
   "source": [
    "**Question 6** : Comparer l'expression de $\\mathbb{V}[\\bar{Y}_{n,N}^{\\textnormal{mf}}(\\alpha^*)]$ à celle de $\\mathbb{V}[\\bar{Y}_{n,N}^{\\textnormal{acv}}(\\alpha^*)]$ vue en cours. \n",
    "En déduire, **sans faire de calculs** (uniquement à partir du cours), que la valeur optimale $\\eta^*$ de $\\eta$ qui minimise $\\mathbb{V}[\\bar{Y}_{n,N}^{\\textnormal{mf}}(\\alpha^*)]$ est\n",
    "$$\\eta^* = \\sqrt{\\dfrac{\\rho^2}{w(1-\\rho^2)}}$$\n",
    "et que, pour un budget $\\tilde{n}_f$ donné, l'estimateur MF optimal est\n",
    "$$\\bar{Y}_{n^*,N^*}^{\\textnormal{mf}}(\\alpha^*) = \\bar{Y}_{n^*} - \\alpha^*(\\bar{Z}_{n^*} - \\bar{Z}_{N^*})$$\n",
    "où $n^* = \\dfrac{\\tilde{n}_f}{1 + \\eta^* w}$ et $N^* = \\eta^* n^*$."
   ]
  },
  {
   "cell_type": "markdown",
   "id": "cf33f104",
   "metadata": {},
   "source": [
    "<div style=\"background-color:rgba(255, 0,0, 0.1); padding:15px;\">\n",
    "\n",
    "Dans le cours, on a vu que l'estimateur ACV est :\n",
    "$$\n",
    "\\bar{Y}^{\\text{ACV}}_{n, N}(\\alpha^*) = V_{\\tilde{n}_f}(1 + \\tau w) \\left[1 - \\left(1 - \\frac{1}{\\tau} \\right) \\rho^2 \\right]\n",
    "$$\n",
    "où $\\tau = 1 + \\frac{N}{n}$.\n",
    "\n",
    "Les formules sont donc identiques (on remplace $\\eta$ par $\\tau$).\n",
    "D'après le cours, la valeur de $\\tau$ optimale, $\\tau^*$, est :\n",
    "$$\n",
    "\\tau^* = \\sqrt{\\dfrac{\\rho^2}{w(1 - \\rho^2)}}\n",
    "$$\n",
    "\n",
    "Donc $\\eta^* = \\tau^*$.  \n",
    "\n",
    "On a : $\\tilde{n}_f = n(1 + \\eta w) \\Rightarrow n^* = \\dfrac{\\tilde{n}_f}{1 + \\eta^* w}$ et $\\eta = \\dfrac{N}{n} \\Rightarrow N^* = n^* \\eta^*$.\n",
    "\n",
    "</div>"
   ]
  },
  {
   "attachments": {},
   "cell_type": "markdown",
   "id": "1ec27802-2112-4d1b-b7c7-8566eb73a0e3",
   "metadata": {},
   "source": [
    "**Question 7** : Déduire du cours (toujours sans faire de calculs) que\n",
    "$$\\beta^{\\textnormal{mf}} = \\dfrac{\\mathbb{V}[\\bar{Y}_{n^*,N^*}^{\\textnormal{mf}}(\\alpha^*)]}{V_{\\tilde{n}_f}}\n",
    "= (1+\\eta^* w)^2 (1 - \\rho^2).$$\n",
    "\n",
    "Quelles conclusions peut-on tirer sur les estimateurs MF et ACV optimaux ?"
   ]
  },
  {
   "cell_type": "markdown",
   "id": "515c98db",
   "metadata": {},
   "source": [
    "<div style=\"background-color:rgba(255, 0,0, 0.1); padding:15px;\">\n",
    "\n",
    "Dans le cours, on a:\n",
    "$$\n",
    "\\beta(\\tau) = (1 + \\tau w)(1 - (1 - \\frac{1}{\\tau}) \\rho^2)\n",
    "$$\n",
    "\n",
    "et \n",
    "$$\n",
    "\\beta(\\tau^*) = (1 + \\tau^* w)^2 (1 - \\rho^2)\n",
    "$$\n",
    "On a donc $\\beta^{\\text{mf}} = \\beta(\\tau^*)$.\n",
    "\n",
    "Les deux formules sont identiques, on remplace $\\tau$ par $\\eta$. \\\\\n",
    "\n",
    "Les estimateurs MF et ACV optimaux ont des performances équivalentes, mais l'estimateur MF a un coût d'évaluation plus faible (coût de l'estimateur ACV : $c = n (1 + (1 + \\eta)w)$). \\\\\n",
    "\n",
    "Le facteur $(1 - \\rho^2)$ dans $\\beta$ montre que la réduction de variance est d'autant plus importante que la corrélation entre les simulateurs est faible. \\\\\n",
    "\n",
    "</div>"
   ]
  },
  {
   "cell_type": "markdown",
   "id": "ed6c2888-c30c-4e2b-a9ea-343f53f1ca06",
   "metadata": {},
   "source": [
    "# Expérience pilote"
   ]
  },
  {
   "cell_type": "markdown",
   "id": "73595536-488f-4c7f-b567-71bb49f7cb2b",
   "metadata": {},
   "source": [
    "**Question 8** : Estimer $\\alpha^*$, $\\eta^*$ et $\\rho^2$ à l'aide de `p = 10000` échantillons pilotes."
   ]
  },
  {
   "cell_type": "code",
   "execution_count": 10,
   "id": "8b999e2f",
   "metadata": {},
   "outputs": [],
   "source": [
    "p = 10000 # échantillons pilotes\n",
    "X = n_echantillon_X(p)"
   ]
  },
  {
   "cell_type": "code",
   "execution_count": 11,
   "id": "5099fc7b",
   "metadata": {},
   "outputs": [
    {
     "name": "stdout",
     "output_type": "stream",
     "text": [
      "alpha_star : 1.0072832884557006\n",
      "eta_star : 38.01133544990836\n",
      "rho_2 : 0.9809893885693431\n"
     ]
    }
   ],
   "source": [
    "# Question 8 :Estimer alpha_star, eta_star et rho_2\n",
    "\n",
    "Y = f(X)\n",
    "Z = g(X)\n",
    "cov_matrix_YZ = np.cov(Y, Z)\n",
    "cov_YZ = cov_matrix_YZ[0,1]\n",
    "var_Y = cov_matrix_YZ[0,0]\n",
    "var_Z = cov_matrix_YZ[1,1]\n",
    "\n",
    "w = 1/28\n",
    "\n",
    "alpha_star = cov_YZ / var_Z\n",
    "\n",
    "rho_2 = cov_YZ**2 / (var_Y * var_Z)\n",
    "\n",
    "eta_star = math.sqrt(rho_2 / (w * (1 - rho_2)))\n",
    "\n",
    "\n",
    "print(\"alpha_star :\", alpha_star)\n",
    "print(\"eta_star :\", eta_star)\n",
    "print(\"rho_2 :\", rho_2)"
   ]
  },
  {
   "cell_type": "markdown",
   "id": "81609be1-63ab-4953-be49-b8fa527afc7e",
   "metadata": {},
   "source": [
    "**Question 9** : En déduire une estimation de $\\beta^{\\textnormal{mf}}=(1+\\eta^* w)^2(1-\\rho^2)$."
   ]
  },
  {
   "cell_type": "code",
   "execution_count": 12,
   "id": "dac56d05",
   "metadata": {},
   "outputs": [
    {
     "name": "stdout",
     "output_type": "stream",
     "text": [
      "beta_mf : 0.10566157017945912\n"
     ]
    }
   ],
   "source": [
    "# Question 9 : En déduire une estimation de betamf\n",
    "\n",
    "beta_mf_estim = (1 + eta_star * w)**2 * (1 - rho_2)\n",
    "\n",
    "print(\"beta_mf :\", beta_mf_estim)"
   ]
  },
  {
   "cell_type": "markdown",
   "id": "87b88b93-bc03-4a58-a0f0-48a0c4e505b6",
   "metadata": {},
   "source": [
    "# Étude numérique de l'estimateur MF"
   ]
  },
  {
   "cell_type": "markdown",
   "id": "7b750dd8-25a0-4d8c-b23b-ab13b420bc35",
   "metadata": {},
   "source": [
    "**Question 10** : Utiliser la valeur de $\\alpha^*$ estimée précédemment (avec les échantillons pilotes) pour contruire un estimateur MF de l'espérance de $Y$.\n",
    "Faire `nr = 1000` répétitions pour des budgets (en termes de nombre d'évaluations haute fidélité équivalentes) $\\tilde{n}_f \\in \\{5; 10; 20; 50; 100; 200; 500; 1000\\}$."
   ]
  },
  {
   "cell_type": "code",
   "execution_count": 13,
   "id": "67e17d4f",
   "metadata": {},
   "outputs": [],
   "source": [
    "nr = 1000\n",
    "budgets = [5, 10, 20, 50, 100, 200, 500, 1000]"
   ]
  },
  {
   "cell_type": "code",
   "execution_count": 14,
   "id": "b5d29c11",
   "metadata": {},
   "outputs": [],
   "source": [
    "# Y_mc -> Estimateur de Monte Carlo\n",
    "# Y_mf -> Estimateur multifidélité\n",
    "\n",
    "\n",
    "esp_Y_mc_mean = []\n",
    "std_Y_mc_mean = []\n",
    "REQM_Y_mc = []\n",
    "esp_Y_mf = []\n",
    "std_Y_mf = []\n",
    "REQM_Y_mf = []\n",
    "\n",
    "beta_mf = []\n",
    "\n",
    "\n",
    "\n",
    "for n_tilde in budgets:\n",
    "    Y_mc = np.zeros(nr)\n",
    "    Y_mf = np.zeros(nr)\n",
    "    REQM_Y_mc_ = np.zeros(nr)\n",
    "    REQM_Y_mf_ = np.zeros(nr)\n",
    "\n",
    "    n_star = int(math.floor(n_tilde / (1 + eta_star * w)))\n",
    "    N_star = int(math.floor(eta_star * n_star))\n",
    "\n",
    "    for ir in range(nr):\n",
    "        # Échantillonnage des données\n",
    "        X_n_tilde = n_echantillon_X(n_tilde)\n",
    "        X_n_star = n_echantillon_X(n_star)\n",
    "        X_N_star = n_echantillon_X(N_star)\n",
    "        \n",
    "        Y_n_tilde = f(X_n_tilde)\n",
    "        Y_n_star = f(X_n_star)\n",
    "\n",
    "        Z_n_star = g(X_n_star)\n",
    "        Z_N_star = g(X_N_star)\n",
    "\n",
    "        # Estimateur Monte Carlo\n",
    "        Y_mc_ = Y_n_tilde.mean()\n",
    "\n",
    "        # Construction de l'estimateur MF\n",
    "        Y_mf_ = Y_n_star.mean() - alpha_star * (Z_n_star.mean() - Z_N_star.mean())\n",
    "\n",
    "        Y_mc[ir] = Y_mc_\n",
    "        Y_mf[ir] = Y_mf_\n",
    "\n",
    "        # Calcul des erreurs quadratiques moyennes\n",
    "        REQM_Y_mc_[ir] = np.sqrt((Y_mc_ - mu_exact) ** 2)\n",
    "        REQM_Y_mf_[ir] = np.sqrt((Y_mf_ - mu_exact) ** 2)\n",
    "\n",
    "    # Moyennes et écarts-types des estimateurs\n",
    "    esp_Y_mc_mean.append(np.mean(Y_mc))\n",
    "    std_Y_mc_mean.append(np.std(Y_mc))\n",
    "    REQM_Y_mc.append(np.mean(REQM_Y_mc_))\n",
    "    \n",
    "    esp_Y_mf.append(np.mean(Y_mf))\n",
    "    std_Y_mf.append(np.std(Y_mf))\n",
    "    REQM_Y_mf.append(np.mean(REQM_Y_mf_))\n",
    "\n",
    "    # Calcul de beta_mf\n",
    "    beta_value = np.var(Y_mf) / np.var(Y_mc)\n",
    "    beta_mf.append(beta_value)\n"
   ]
  },
  {
   "cell_type": "markdown",
   "id": "8b7f9fe4-7ee2-457a-9529-f33b4b27f081",
   "metadata": {},
   "source": [
    "**Question 11** : Pour chaque budget, estimer le rapport de variance $\\beta^{\\textnormal{mf}}$ à budget équivalent entre l'estimateur MF et l'estimateur Monte Carlo classique (haute fidélité). Ces estimations sont-elles conformes à la valeur de $\\beta^{\\textnormal{mf}}$ estimée précédemment (dans l'expérience pilote) ?"
   ]
  },
  {
   "cell_type": "code",
   "execution_count": 15,
   "id": "e55c62d1",
   "metadata": {},
   "outputs": [
    {
     "data": {
      "image/png": "[encoded data removed]",
      "text/plain": [
       "<Figure size 640x480 with 1 Axes>"
      ]
     },
     "metadata": {},
     "output_type": "display_data"
    }
   ],
   "source": [
    "# Question 11 Comparaison du rapport de variance beta_mf\n",
    "\n",
    "plt.loglog(budgets, beta_mf, marker='o', linestyle='-', label=r'$\\beta_{mf}$')\n",
    "plt.axhline(y=beta_mf_estim, color='r', linestyle='--', label=r'$\\beta_{mf}$ estimé')\n",
    "\n",
    "plt.xlabel('Budget')\n",
    "plt.ylabel(r'$\\beta_{mf}$')\n",
    "plt.title(r'Variation de $\\beta_{mf}$ en fonction du Budget')\n",
    "plt.legend()\n",
    "plt.show()"
   ]
  },
  {
   "cell_type": "code",
   "execution_count": 16,
   "id": "9d2247da",
   "metadata": {},
   "outputs": [
    {
     "name": "stdout",
     "output_type": "stream",
     "text": [
      "beta_mf : [0.11384271093858539, 0.12355306343630736, 0.1168254573217494, 0.10977494059168537, 0.11182976098117549, 0.10081017808168276, 0.10577625616054138, 0.09283059815545407]\n",
      "beta_mf estimé : 0.10566157017945912\n"
     ]
    }
   ],
   "source": [
    "print(f\"beta_mf : {beta_mf}\")\n",
    "print(f\"beta_mf estimé : {beta_mf_estim}\")"
   ]
  },
  {
   "cell_type": "markdown",
   "id": "70ecc8e2-e2b5-4ea2-9c9d-8162e9342a5d",
   "metadata": {},
   "source": [
    "**Question 12** : Tracer l'espérance et l'écart-type (sous forme de barres d'erreur) des estimateurs MF et Monte Carlo (haute fidélité) à budget équivalent en fonction de $\\tilde{n}_f$.\n",
    "Sur un autre graphe (en échelle log-log), tracer l'évolution de la REQM (par rapport à l'espérance exacte du problème continu, `mu_exact`) des estimateurs en fonction de $\\tilde{n}_f$."
   ]
  },
  {
   "cell_type": "code",
   "execution_count": 17,
   "id": "238df1f5",
   "metadata": {},
   "outputs": [
    {
     "data": {
      "image/png": "[encoded data removed]",
      "text/plain": [
       "<Figure size 1000x600 with 2 Axes>"
      ]
     },
     "metadata": {},
     "output_type": "display_data"
    }
   ],
   "source": [
    "fig, axs = plt.subplots(nrows=1, ncols=2, figsize=(10, 6))\n",
    "\n",
    "# Graphe de l'estimation de l'espérance avec barres d'erreur\n",
    "axs[0].errorbar(\n",
    "    budgets, esp_Y_mc_mean, std_Y_mc_mean,\n",
    "    fmt='x', color='gray', lw=2, capsize=8, markeredgewidth=2, markersize=7,\n",
    "    label='Monte Carlo'\n",
    ")\n",
    "axs[0].errorbar(\n",
    "    budgets, esp_Y_mf, std_Y_mf,\n",
    "    fmt='xb', lw=2, capsize=8, markeredgewidth=2, markersize=7,\n",
    "    label='Multifidélité'\n",
    ")\n",
    "axs[0].axhline(y=mu_exact, linestyle=\"--\", dashes=(3, 3), linewidth=1, color=\"red\", dash_capstyle=\"round\",label=r'Valeur exacte')\n",
    "axs[0].set_xscale('log')\n",
    "axs[0].set_xlabel('Budget')\n",
    "axs[0].set_ylabel(\"Estimation de l'espérance\")\n",
    "axs[0].legend()\n",
    "\n",
    "# Graphe du REQM des estimateurs\n",
    "axs[1].plot(budgets, REQM_Y_mc, 'o-', color='gray', lw=3, markeredgewidth=2, markersize=6, label='Monte Carlo HF')\n",
    "axs[1].plot(budgets, REQM_Y_mf, 'ob-', lw=3, markeredgewidth=2, markersize=6, label='Multifidélité')\n",
    "axs[1].set_xscale('log')\n",
    "axs[1].set_yscale('log')\n",
    "axs[1].set_xlabel('Budget')\n",
    "axs[1].set_ylabel('REQM des estimateurs')\n",
    "axs[1].legend()\n",
    "\n",
    "plt.show()\n"
   ]
  },
  {
   "cell_type": "markdown",
   "id": "51976a81",
   "metadata": {},
   "source": [
    "<div style=\"background-color:rgba(255, 0,0, 0.1); padding:15px;\">\n",
    "\n",
    "Pour le premier graphique, la variance de l'estimateur MF est beaucoup plus faible que celle de l'estimateur haute fidélité à même budget, de plus les espérances des deux estimateurs sont assez proches de la valeur exacte, les deux estimateurs ne sont pas biaisés.\n",
    "\n",
    "Pour le second graphique, les REQM de deux estimateurs ont des allures similaires. Les deux courbes sont translatées d'environ 0.3 ce qui correspond bien à la théorie, on a $\\sqrt{\\beta^{\\textnormal{mf}}} \\approx 0.3$.\n",
    "\n",
    "</div>"
   ]
  }
 ],
 "metadata": {
  "date": "28 mars 2025",
  "kernelspec": {
   "display_name": "optim",
   "language": "python",
   "name": "python3"
  },
  "language_info": {
   "codemirror_mode": {
    "name": "ipython",
    "version": 3
   },
   "file_extension": ".py",
   "mimetype": "text/x-python",
   "name": "python",
   "nbconvert_exporter": "python",
   "pygments_lexer": "ipython3",
   "version": "3.10.13"
  },
  "title": "Examen multifidélité ModIA"
 },
 "nbformat": 4,
 "nbformat_minor": 5
}
