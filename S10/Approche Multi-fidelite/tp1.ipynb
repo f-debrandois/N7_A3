{
 "cells": [
  {
   "cell_type": "code",
   "execution_count": null,
   "id": "19e95e91",
   "metadata": {},
   "outputs": [],
   "source": [
    "import numpy as np\n",
    "from numpy.random import Generator, PCG64\n",
    "import matplotlib.pyplot as plt\n",
    "import math\n",
    "import time\n",
    "from heateq import Exact, Simulateur"
   ]
  },
  {
   "cell_type": "code",
   "execution_count": null,
   "id": "0d12fa4c",
   "metadata": {},
   "outputs": [],
   "source": [
    "seed = 213731490053398181466621250222036675538\n",
    "rng = Generator(PCG64(seed))"
   ]
  },
  {
   "cell_type": "code",
   "execution_count": null,
   "id": "ae114d40",
   "metadata": {},
   "outputs": [],
   "source": [
    "# Espérance exacte de la solution continue\n",
    "mu_exact = Exact().mu\n",
    "print(mu_exact)"
   ]
  },
  {
   "cell_type": "code",
   "execution_count": null,
   "id": "50db82e3",
   "metadata": {},
   "outputs": [],
   "source": [
    "f = Simulateur(21, 100)\n",
    "g = Simulateur(3, 20)"
   ]
  },
  {
   "cell_type": "code",
   "execution_count": null,
   "id": "0e2fd717",
   "metadata": {},
   "outputs": [],
   "source": [
    "def n_echantillon_X(n):\n",
    "    return np.vstack(\n",
    "        (\n",
    "            rng.uniform(-math.pi, math.pi, (3, n)),\n",
    "            rng.uniform(0.001, 0.009, (1, n)), \n",
    "            rng.uniform(-1., 1., (3, n))\n",
    "        )\n",
    "    )"
   ]
  },
  {
   "cell_type": "code",
   "execution_count": null,
   "id": "4a311114",
   "metadata": {},
   "outputs": [],
   "source": [
    "def rmse_estim(estimations, statistique_exacte):\n",
    "    return math.sqrt(np.mean((estimations - statistique_exacte)**2))\n",
    "\n",
    "def std_estim(estimations):\n",
    "    return np.std(estimations, ddof=1)\n",
    "\n",
    "def esperance_estim(estimations):\n",
    "    return np.mean(estimations)"
   ]
  },
  {
   "cell_type": "code",
   "execution_count": null,
   "id": "21f27d2d-9780-427a-8cd9-1f3442214a0c",
   "metadata": {},
   "outputs": [],
   "source": [
    "def plot_fig_hf_vs_bf(n_samples, esp_mean_hf, std_mean_hf, rmse_mean_hf, esp_mean_bf, std_mean_bf, rmse_mean_bf, mu_exact, fr=True, eq_cost=False, savefig=None):\n",
    "    fig, axs = plt.subplots(nrows=1, ncols=2, figsize=(10, 3.5))\n",
    "    eb_hf = axs[0].errorbar(\n",
    "        n_samples, esp_mean_hf, std_mean_hf,\n",
    "        fmt='x', color='gray', lw=2, capsize=8, markeredgewidth=2, markersize=7,\n",
    "        label='Monte Carlo'\n",
    "    )\n",
    "    eb_bf = axs[0].errorbar(\n",
    "        n_samples, esp_mean_bf, std_mean_bf,\n",
    "        fmt='xb', lw=2, capsize=8, markeredgewidth=2, markersize=7,\n",
    "        label='Control variate'\n",
    "    )\n",
    "    hl = axs[0].axhline(y=mu_exact, linestyle=\"--\", dashes=(3, 3), linewidth=1, color=\"red\", dash_capstyle=\"round\")\n",
    "    axs[0].set_xscale('log')\n",
    "    axs[0].set_ylim([-20,100])\n",
    "    axs[0].set_xlabel( (\"budget\" if eq_cost else \"taille de l'échantillon\") if fr else (\"budget\" if eq_cost else \"sample size\") )\n",
    "    axs[0].set_ylabel(\"estimateurs (moyenne ± ecart-type)\" if fr else \"estimators (mean ± std)\")\n",
    "\n",
    "    axs[1].plot(n_samples, rmse_mean_hf, 'o-', color='gray', lw=3, markeredgewidth=2, markersize=6, label='Monte Carlo HF')\n",
    "    axs[1].plot(n_samples, rmse_mean_bf, 'ob-', lw=3, markeredgewidth=2, markersize=6, label='Monte Carlo BF')\n",
    "    axs[1].set_xscale('log')\n",
    "    axs[1].set_yscale('log')\n",
    "    axs[1].set_xlabel( (\"budget\" if eq_cost else \"taille de l'échantillon\") if fr else (\"budget\" if eq_cost else \"sample size\") )\n",
    "    axs[1].set_ylabel(\"REQM des estimateurs\" if fr else \"RMSE of the estimators\")\n",
    "    axs[1].legend()\n",
    "\n",
    "    if savefig is not None:\n",
    "        plt.savefig(savefig, bbox_inches='tight', pad_inches=0.02)\n"
   ]
  },
  {
   "cell_type": "code",
   "execution_count": null,
   "id": "7a356c28",
   "metadata": {},
   "outputs": [],
   "source": [
    "# Espérance exacte de Y = f(X) (solution discrétisée, haute fidélité)\n",
    "mu_Y_exact = f.mu\n",
    "\n",
    "# Espérance exacte de Z = g(X) (solution discrétisée, basse fidélité)\n",
    "mu_Z_exact = g.mu\n",
    "\n",
    "print(mu_Y_exact, mu_Z_exact)"
   ]
  },
  {
   "cell_type": "code",
   "execution_count": null,
   "id": "208593f4",
   "metadata": {},
   "outputs": [],
   "source": [
    "print(mu_Y_exact - mu_exact)\n",
    "print(mu_Z_exact - mu_exact)"
   ]
  },
  {
   "cell_type": "code",
   "execution_count": null,
   "id": "02ef8dbf",
   "metadata": {
    "scrolled": true
   },
   "outputs": [],
   "source": [
    "ns = 1000000\n",
    "X = n_echantillon_X(ns)\n",
    "\n",
    "st = time.process_time()\n",
    "Y = f(X)\n",
    "et = time.process_time()\n",
    "time_f = et - st\n",
    "\n",
    "st = time.process_time()\n",
    "Z = g(X)\n",
    "et = time.process_time()\n",
    "time_g = et - st\n",
    "\n",
    "w = time_g / time_f\n",
    "\n",
    "print(time_f, time_g)\n",
    "print(w, 1/35)"
   ]
  },
  {
   "cell_type": "code",
   "execution_count": null,
   "id": "fee1c0ae-35c4-497d-bb5f-e1f4adbc49e0",
   "metadata": {},
   "outputs": [],
   "source": [
    "w = 1./35."
   ]
  },
  {
   "cell_type": "code",
   "execution_count": null,
   "id": "10469762",
   "metadata": {
    "scrolled": true
   },
   "outputs": [],
   "source": [
    "nr = 1000\n",
    "n_samples = [5, 10, 20, 50, 100, 200, 500, 1000, 2000, 5000, 10000]\n",
    "esp_Y_mean  = []\n",
    "std_Y_mean  = []\n",
    "rmse_Y_mean = []\n",
    "esp_Z_mean  = []\n",
    "std_Z_mean  = []\n",
    "rmse_Z_mean = []\n",
    "esp_Z_mean_eq_cost  = []\n",
    "std_Z_mean_eq_cost  = []\n",
    "rmse_Z_mean_eq_cost = []\n",
    "for ns in n_samples:\n",
    "    ns_eq_cost = int(ns / w)\n",
    "    Y_mean = np.zeros(nr)\n",
    "    Z_mean = np.zeros(nr)\n",
    "    Z_mean_eq_cost = np.zeros(nr)\n",
    "    for ir in range(nr):\n",
    "        X = n_echantillon_X(ns)\n",
    "        X_eq_cost = n_echantillon_X(ns_eq_cost)\n",
    "        Y = f(X)\n",
    "        Z = g(X)\n",
    "        Z_eq_cost = g(X_eq_cost)\n",
    "        Y_mean[ir] = np.mean(Y)\n",
    "        Z_mean[ir] = np.mean(Z)\n",
    "        Z_mean_eq_cost[ir] = np.mean(Z_eq_cost)\n",
    "    \n",
    "    esp_Y_mean  += [esperance_estim(Y_mean)]\n",
    "    std_Y_mean  += [std_estim(Y_mean)]\n",
    "    rmse_Y_mean += [rmse_estim(Y_mean, mu_exact)]\n",
    "    \n",
    "    esp_Z_mean  += [esperance_estim(Z_mean)]\n",
    "    std_Z_mean  += [std_estim(Z_mean)]\n",
    "    rmse_Z_mean += [rmse_estim(Z_mean, mu_exact)]\n",
    "\n",
    "    esp_Z_mean_eq_cost  += [esperance_estim(Z_mean_eq_cost)]\n",
    "    std_Z_mean_eq_cost  += [std_estim(Z_mean_eq_cost)]\n",
    "    rmse_Z_mean_eq_cost += [rmse_estim(Z_mean_eq_cost, mu_exact)]\n",
    "    \n",
    "    print(\"HF\", ns, ns,\n",
    "          np.mean(Y_mean), rmse_estim(Y_mean, mu_exact), std_estim(Y_mean)\n",
    "         )\n",
    "    print(\"BF\", ns, ns_eq_cost,\n",
    "          np.mean(Z_mean), rmse_estim(Z_mean, mu_exact), std_estim(Z_mean),           \n",
    "          np.mean(Z_mean_eq_cost), rmse_estim(Z_mean_eq_cost, mu_exact), std_estim(Z_mean_eq_cost)\n",
    "         )\n",
    "    print()"
   ]
  },
  {
   "cell_type": "code",
   "execution_count": null,
   "id": "e59a16cd-0a57-4bd8-bca5-b54a3cc62279",
   "metadata": {
    "scrolled": true
   },
   "outputs": [],
   "source": [
    "plot_fig_hf_vs_bf(n_samples, esp_Y_mean, std_Y_mean, rmse_Y_mean, esp_Z_mean, std_Z_mean, rmse_Z_mean, mu_exact, fr=True, savefig=\"fig_hf_bf.pdf\")"
   ]
  },
  {
   "cell_type": "code",
   "execution_count": null,
   "id": "c7d2210f-7131-41ef-894f-c9ecc4b3b055",
   "metadata": {},
   "outputs": [],
   "source": [
    "plot_fig_hf_vs_bf(n_samples, esp_Y_mean, std_Y_mean, rmse_Y_mean, esp_Z_mean_eq_cost, std_Z_mean_eq_cost, rmse_Z_mean_eq_cost, mu_exact, fr=True, eq_cost=True, savefig=\"fig_hf_bf_eq_cost.pdf\")"
   ]
  },
  {
   "cell_type": "code",
   "execution_count": null,
   "id": "9062ddf2-9b4e-4020-b088-c1d505f061b4",
   "metadata": {},
   "outputs": [],
   "source": []
  }
 ],
 "metadata": {
  "kernelspec": {
   "display_name": "Python 3 (ipykernel)",
   "language": "python",
   "name": "python3"
  },
  "language_info": {
   "codemirror_mode": {
    "name": "ipython",
    "version": 3
   },
   "file_extension": ".py",
   "mimetype": "text/x-python",
   "name": "python",
   "nbconvert_exporter": "python",
   "pygments_lexer": "ipython3",
   "version": "3.12.4"
  }
 },
 "nbformat": 4,
 "nbformat_minor": 5
}
