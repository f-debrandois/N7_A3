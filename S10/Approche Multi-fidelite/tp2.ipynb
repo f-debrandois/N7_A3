{
 "cells": [
  {
   "cell_type": "code",
   "execution_count": 1,
   "id": "3966d7a9",
   "metadata": {},
   "outputs": [],
   "source": [
    "import numpy as np\n",
    "from numpy.random import Generator, PCG64\n",
    "import matplotlib.pyplot as plt\n",
    "import math\n",
    "import time\n",
    "from heateq import Exact, Simulateur"
   ]
  },
  {
   "cell_type": "code",
   "execution_count": 2,
   "id": "1ac5f558",
   "metadata": {},
   "outputs": [],
   "source": [
    "seed = 213731490053398181466621250222036675538\n",
    "rng = Generator(PCG64(seed))"
   ]
  },
  {
   "cell_type": "code",
   "execution_count": 3,
   "id": "895605ce-9297-4607-a1b7-c18e90ac7e21",
   "metadata": {},
   "outputs": [],
   "source": [
    "# Permet d'obtenir un n-échantillon du vecteur aléatoire d'entrée X\n",
    "def n_echantillon_X(n):\n",
    "    return np.vstack(\n",
    "        (\n",
    "            rng.uniform(-math.pi, math.pi, (3, n)),\n",
    "            rng.uniform(0.001, 0.009, (1, n)), \n",
    "            rng.uniform(-1., 1., (3, n))\n",
    "        )\n",
    "    )"
   ]
  },
  {
   "cell_type": "code",
   "execution_count": 4,
   "id": "30bb11d0",
   "metadata": {},
   "outputs": [],
   "source": [
    "# Simulateurs haute et basse fidélité\n",
    "f = Simulateur(21, 100)\n",
    "g = Simulateur(3, 20)"
   ]
  },
  {
   "cell_type": "code",
   "execution_count": 5,
   "id": "bd707c2e",
   "metadata": {},
   "outputs": [
    {
     "name": "stdout",
     "output_type": "stream",
     "text": [
      "41.98447216482205\n",
      "41.916465294707976\n",
      "33.03617206344313\n"
     ]
    }
   ],
   "source": [
    "# Espérance exacte de la solution continue\n",
    "mu_exact = Exact().mu\n",
    "print(mu_exact)\n",
    "\n",
    "# Espérance exacte de Y = f(X) (solution discrétisée, haute fidélité)\n",
    "mu_Y_exact = f.mu\n",
    "print(mu_Y_exact)\n",
    "\n",
    "# Espérance exacte de Z = g(X) (solution discrétisée, basse fidélité)\n",
    "mu_Z_exact = g.mu\n",
    "print(mu_Z_exact)"
   ]
  },
  {
   "cell_type": "markdown",
   "id": "910d011b",
   "metadata": {},
   "source": [
    "# Espérance $\\mu_Z$ connue\n",
    "\n",
    "On considère $\\mu_Z$ connue. Elle est donnée par la variable `mu_Z_exact`.\n",
    "\n",
    "## Paramètre optimal $\\alpha^*$ indépendant (précalculé)\n",
    "Estimer $\\alpha^*$ de manière indépendante (avec, par exemple, un échantilon de taille `p = 1000`), puis $\\rho^2$, et en déduire $\\beta=(1+w)(1-\\rho^2)$. L'utiliser pour contruire un estimateur par variable de contrôle pour l'espérance de $Y$. Faire `nr = 1000` répétitions pour des budgets $\\tilde{n} \\in \\{5; 10; 20; 50; 100; 200; 500; 1000\\}$.\n",
    "\n",
    "Estimer la réduction de variance à budget équivalent entre l'estimateur par variable de contrôle et l'estimateur Monte Carlo classique (haute fidélité). Est-elle conforme à la valeur de $\\beta$ calculée précédemment ?\n",
    "\n",
    "Tracer l'espérance et l'écart-type des estimateurs par variable de contrôle et Monte Carlo (haute fidélité) à budget équivalent en fonction de $\\tilde{n}$. Sur un autre graphe, tracer l'évolution de l'écart-type des estimateurs en fonction de $\\tilde{n}$."
   ]
  },
  {
   "cell_type": "code",
   "execution_count": 6,
   "id": "184c046e",
   "metadata": {},
   "outputs": [],
   "source": [
    "nr = 1000\n",
    "budgets = [5, 10, 20, 50, 100, 200, 1000]"
   ]
  },
  {
   "cell_type": "markdown",
   "id": "e2c88e43",
   "metadata": {},
   "source": [
    "## Paramètre optimal $\\alpha^*$ estimé à la volée\n",
    "Renouveler l'expérience avec $\\alpha^*$ estimé avec les échantillons disponibles pour l'estimation par variable de contrôle.\n",
    "\n",
    "Tracer les mêmes graphes que précédemment. L'estimation de $\\alpha^*$ à la volée induit-elle un biais et/ou une dégradation de la réduction de variance ?"
   ]
  },
  {
   "cell_type": "markdown",
   "id": "85880da3-9bb4-4cfd-8fe0-8723ec6deea5",
   "metadata": {},
   "source": [
    "## Métamodèle\n",
    "\n",
    "Mêmes questions en utilisant un métamodèle comme simulateur basse fidélité.\n",
    "Voir, par exemple, https://openturns.github.io/openturns/latest/auto_meta_modeling/kriging_metamodel/plot_kriging.html"
   ]
  },
  {
   "cell_type": "code",
   "execution_count": 9,
   "id": "c263bd23-8f50-4185-968b-394db51052b0",
   "metadata": {},
   "outputs": [],
   "source": [
    "import openturns as ot"
   ]
  },
  {
   "cell_type": "code",
   "execution_count": 10,
   "id": "2f816fe3-1bae-4141-89c3-0f5a7f7a781b",
   "metadata": {},
   "outputs": [],
   "source": [
    "# pour faciliter l'évaluation de la même manière que nos simulateurs\n",
    "class ScalarModel_from_ot:\n",
    "    def __init__(self, ot_model):\n",
    "        self.ot_model = ot_model\n",
    "\n",
    "    def __call__(self, xi):\n",
    "        return np.array(self.ot_model(xi.T))[:,0]"
   ]
  },
  {
   "cell_type": "code",
   "execution_count": 11,
   "id": "c7b7857d-151f-43d0-a567-482af76d5f84",
   "metadata": {},
   "outputs": [],
   "source": [
    "n_doe = 1000\n",
    "X_doe = n_echantillon_X(n_doe)\n",
    "Y_doe = f(X_doe)\n",
    "dimension = X_doe.shape[0]"
   ]
  },
  {
   "cell_type": "code",
   "execution_count": 12,
   "id": "28f756bb-65a3-4328-a42d-b05e396fce13",
   "metadata": {},
   "outputs": [
    {
     "name": "stderr",
     "output_type": "stream",
     "text": [
      "\u001b[34m\u001b[1mWRN - Warning! For coherency we set scale upper bounds = [12.544,12.5147,12.5559,0.0159818,3.9946,3.99079,3.99764]\u001b[0m\n",
      "\u001b[34m\u001b[1mWRN - Starting point is not inside bounds x=[1,1,1,1,1,1,1] bounds=class=Interval name=Unnamed dimension=7 lower bound=class=Point name=Unnamed dimension=7 values=[0.01,0.01,0.01,0.01,0.01,0.01,0.01] upper bound=class=Point name=Unnamed dimension=7 values=[12.544,12.5147,12.5559,0.0159818,3.9946,3.99079,3.99764] finite lower bound=[1,1,1,1,1,1,1] finite upper bound=[1,1,1,1,1,1,1]\u001b[0m\n"
     ]
    }
   ],
   "source": [
    "basis = ot.ConstantBasisFactory(dimension).build()\n",
    "covarianceModel = ot.MaternModel([1.0] * dimension, 1.5)\n",
    "algo = ot.KrigingAlgorithm(X_doe.T, Y_doe[:,None], covarianceModel, basis) # conversion to OpenTurns data structure\n",
    "algo.run()\n",
    "res = algo.getResult()\n",
    "g_mm = ScalarModel_from_ot( res.getMetaModel() )"
   ]
  },
  {
   "cell_type": "markdown",
   "id": "05ada0a4-ea0e-423b-9778-e19fdf90c6cd",
   "metadata": {},
   "source": [
    "## Plusieurs variables de contrôle\n",
    "\n",
    "Combiner plusieurs simulateurs basse fidélité (supposer $\\mu_Z$ connue), et estimer $R^2$."
   ]
  },
  {
   "cell_type": "markdown",
   "id": "db87e78f",
   "metadata": {},
   "source": []
  }
 ],
 "metadata": {
  "kernelspec": {
   "display_name": "optim",
   "language": "python",
   "name": "python3"
  },
  "language_info": {
   "codemirror_mode": {
    "name": "ipython",
    "version": 3
   },
   "file_extension": ".py",
   "mimetype": "text/x-python",
   "name": "python",
   "nbconvert_exporter": "python",
   "pygments_lexer": "ipython3",
   "version": "3.10.13"
  }
 },
 "nbformat": 4,
 "nbformat_minor": 5
}
