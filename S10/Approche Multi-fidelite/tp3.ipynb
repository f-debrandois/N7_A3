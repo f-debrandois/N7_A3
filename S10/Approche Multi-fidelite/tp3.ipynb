{
 "cells": [
  {
   "cell_type": "code",
   "execution_count": 1,
   "id": "19e95e91",
   "metadata": {},
   "outputs": [],
   "source": [
    "import numpy as np\n",
    "from numpy.random import Generator, PCG64\n",
    "import matplotlib.pyplot as plt\n",
    "import math\n",
    "import time\n",
    "from heateq import Exact, Simulateur"
   ]
  },
  {
   "cell_type": "code",
   "execution_count": 2,
   "id": "0d12fa4c",
   "metadata": {},
   "outputs": [],
   "source": [
    "seed = 213731490053398181466621250222036675538\n",
    "rng = Generator(PCG64(seed))"
   ]
  },
  {
   "cell_type": "code",
   "execution_count": 3,
   "id": "ae114d40",
   "metadata": {},
   "outputs": [],
   "source": [
    "# Permet d'obtenir un n-échantillon du vecteur aléatoire d'entrée X\n",
    "def n_echantillon_X(n):\n",
    "    return np.vstack(\n",
    "        (\n",
    "            rng.uniform(-math.pi, math.pi, (3, n)),\n",
    "            rng.uniform(0.001, 0.009, (1, n)), \n",
    "            rng.uniform(-1., 1., (3, n))\n",
    "        )\n",
    "    )"
   ]
  },
  {
   "cell_type": "code",
   "execution_count": 4,
   "id": "4a311114",
   "metadata": {},
   "outputs": [],
   "source": [
    "def rmse_estim(estimations, statistique_exacte):\n",
    "    return math.sqrt(np.mean((estimations - statistique_exacte)**2))"
   ]
  },
  {
   "cell_type": "code",
   "execution_count": 5,
   "id": "6b1e31b8-4d7d-4341-871f-367b0aebcbe2",
   "metadata": {},
   "outputs": [],
   "source": [
    "def plot_fig_cv(budgets, esp_mean_mc, std_mean_mc, rmse_mean_mc,  esp_mean_cv, std_mean_cv, rmse_mean_cv, mu_exact):\n",
    "    fig, axs = plt.subplots(nrows=1, ncols=2, figsize=(10, 3))\n",
    "    eb_mc = axs[0].errorbar(\n",
    "        budgets, esp_mean_mc, std_mean_mc,\n",
    "        fmt='x', color='gray', lw=2, capsize=8, markeredgewidth=2, markersize=7,\n",
    "        label='Monte Carlo'\n",
    "    )\n",
    "    eb_cv = axs[0].errorbar(\n",
    "        budgets, esp_mean_cv, std_mean_cv,\n",
    "        fmt='xb', lw=2, capsize=8, markeredgewidth=2, markersize=7,\n",
    "        label='Control variate'\n",
    "    )\n",
    "    hl = axs[0].axhline(y=mu_exact, linestyle=\"--\", dashes=(3, 3), linewidth=1, color=\"red\", dash_capstyle=\"round\")\n",
    "    axs[0].set_xscale('log')\n",
    "    axs[0].set_xlabel('budget')\n",
    "    axs[0].set_ylabel(\"estimation de l'espérance\")\n",
    "\n",
    "    axs[1].plot(budgets, rmse_mean_mc, 'o-', color='gray', lw=3, markeredgewidth=2, markersize=6, label='Monte Carlo HF')\n",
    "    axs[1].plot(budgets, rmse_mean_cv, 'ob-', lw=3, markeredgewidth=2, markersize=6, label='Control variate')\n",
    "    axs[1].set_xscale('log')\n",
    "    axs[1].set_yscale('log')\n",
    "    axs[1].set_xlabel('budget')\n",
    "    axs[1].set_ylabel('REQM des estimateurs')\n",
    "    axs[1].legend()"
   ]
  },
  {
   "cell_type": "code",
   "execution_count": 6,
   "id": "50db82e3",
   "metadata": {},
   "outputs": [],
   "source": [
    "# Simulateurs haute et basse fidélité\n",
    "f = Simulateur(21, 60)\n",
    "g = Simulateur(3, 15)"
   ]
  },
  {
   "cell_type": "code",
   "execution_count": 7,
   "id": "7a356c28",
   "metadata": {},
   "outputs": [
    {
     "name": "stdout",
     "output_type": "stream",
     "text": [
      "41.98447216482205\n",
      "41.79240142364666\n",
      "32.93997614914162\n"
     ]
    }
   ],
   "source": [
    "# Espérance exacte de la solution continue\n",
    "mu_exact = Exact().mu\n",
    "print(mu_exact)\n",
    "\n",
    "# Espérance exacte de Y = f(X) (solution discrétisée, haute fidélité)\n",
    "mu_Y_exact = f.mu\n",
    "print(mu_Y_exact)\n",
    "\n",
    "# Espérance exacte de Z = g(X) (solution discrétisée, basse fidélité)\n",
    "mu_Z_exact = g.mu\n",
    "print(mu_Z_exact)"
   ]
  },
  {
   "cell_type": "code",
   "execution_count": 8,
   "id": "02ef8dbf",
   "metadata": {
    "scrolled": true
   },
   "outputs": [
    {
     "name": "stdout",
     "output_type": "stream",
     "text": [
      "0.04048856828504704\n"
     ]
    }
   ],
   "source": [
    "ns = 100000\n",
    "X = n_echantillon_X(ns)\n",
    "\n",
    "st = time.process_time()\n",
    "Y = f(X)\n",
    "et = time.process_time()\n",
    "time_hf = et - st\n",
    "\n",
    "st = time.process_time()\n",
    "Z = g(X)\n",
    "et = time.process_time()\n",
    "time_bf = et - st\n",
    "\n",
    "w = time_bf / time_hf\n",
    "\n",
    "# rapport de coût (temps)\n",
    "print(w)"
   ]
  },
  {
   "cell_type": "code",
   "execution_count": 9,
   "id": "8617ef17-1f6a-49fe-b70a-eeaab6063a07",
   "metadata": {},
   "outputs": [
    {
     "name": "stdout",
     "output_type": "stream",
     "text": [
      "0.03571428571428571\n"
     ]
    }
   ],
   "source": [
    "# On considère désormais le rapport w=1/35 théorique\n",
    "w = 1/28\n",
    "print(w)"
   ]
  },
  {
   "cell_type": "markdown",
   "id": "6647e430-7868-4bb6-b288-32c1f99a0754",
   "metadata": {},
   "source": [
    "# Expérience pilote"
   ]
  },
  {
   "cell_type": "code",
   "execution_count": 10,
   "id": "2d7780b2",
   "metadata": {},
   "outputs": [],
   "source": [
    "cov_matrix_YZ = np.cov(Y, Z)\n",
    "cov_YZ = cov_matrix_YZ[0,1]\n",
    "var_Y = cov_matrix_YZ[0,0]\n",
    "var_Z = cov_matrix_YZ[1,1]"
   ]
  },
  {
   "cell_type": "code",
   "execution_count": 11,
   "id": "d788849f",
   "metadata": {},
   "outputs": [
    {
     "name": "stdout",
     "output_type": "stream",
     "text": [
      "0.9819433558778363\n"
     ]
    }
   ],
   "source": [
    "rho2 = cov_YZ**2 / (var_Y * var_Z)\n",
    "print(rho2)"
   ]
  },
  {
   "cell_type": "code",
   "execution_count": 12,
   "id": "dbe83036-a09c-4a7b-8424-a9dfa71b063d",
   "metadata": {},
   "outputs": [
    {
     "name": "stdout",
     "output_type": "stream",
     "text": [
      "0.10345440256910521\n"
     ]
    }
   ],
   "source": [
    "# Rapport de variance ACV/MC à coût équivalent\n",
    "beta_mu_Z_inconnue = ( 1 + math.sqrt( w * rho2/(1-rho2) ) )**2 * (1 - rho2)\n",
    "print(beta_mu_Z_inconnue)"
   ]
  },
  {
   "cell_type": "code",
   "execution_count": 13,
   "id": "3511dbc8",
   "metadata": {},
   "outputs": [
    {
     "name": "stdout",
     "output_type": "stream",
     "text": [
      "39.02147794192851\n"
     ]
    }
   ],
   "source": [
    "# Pour ACV\n",
    "tau_opt = math.sqrt( rho2 / (w*(1-rho2)) )\n",
    "print(tau_opt)"
   ]
  },
  {
   "cell_type": "code",
   "execution_count": 14,
   "id": "53626c0c",
   "metadata": {},
   "outputs": [
    {
     "name": "stdout",
     "output_type": "stream",
     "text": [
      "0.9798998731909442\n"
     ]
    }
   ],
   "source": [
    "alpha_opt = (1 - 1/tau_opt) * cov_YZ / var_Z\n",
    "print(alpha_opt)"
   ]
  },
  {
   "cell_type": "code",
   "execution_count": 15,
   "id": "c18c098b-de02-46e2-a47e-4682f0c911ef",
   "metadata": {},
   "outputs": [],
   "source": [
    "# Nombre de répétitions et liste de budgets\n",
    "nr = 1000\n",
    "budgets = [5, 10, 20, 50, 100, 200, 500, 1000, 2000, 5000, 10000]"
   ]
  },
  {
   "cell_type": "markdown",
   "id": "f8bab365-ac81-438d-9a5c-69ec3b5fbd9a",
   "metadata": {},
   "source": [
    "# Estimateur multifidélité"
   ]
  },
  {
   "cell_type": "code",
   "execution_count": 16,
   "id": "679369ec",
   "metadata": {
    "scrolled": true
   },
   "outputs": [
    {
     "name": "stdout",
     "output_type": "stream",
     "text": [
      "5 2 79 42.6075612271474 42.5443428269927 15.137133302236712 47.77606593422426 0.10022813672275621\n",
      "10 4 158 41.57162902656421 42.24352794276947 11.446733580751644 33.91134784327264 0.11379759876507482\n",
      "20 8 317 41.61828946283377 42.1561001407287 7.578151573979829 22.959712058485255 0.10869329320985217\n",
      "50 20 794 42.05805599670929 41.49578324986409 5.05085398860489 15.337277908807623 0.10853804747779895\n",
      "100 41 1588 41.81842998001877 41.80055227055851 3.5020819419999207 11.595311035695202 0.09103737221223274\n",
      "200 83 3176 41.623264310463625 41.83783943694042 2.4757568912309718 7.355775827223917 0.1109142490324021\n",
      "500 208 7942 41.84428287842646 41.830147594906244 1.5258706457071616 4.818883208132413 0.09951919020840715\n",
      "1000 417 15884 41.806968673970275 41.877335552423276 1.0830827853827625 3.389491730712415 0.09946356462686973\n",
      "2000 835 31768 41.8008177572121 41.746597037653906 0.7776563732511009 2.408422034233345 0.09941316677687596\n",
      "5000 2088 79422 41.777679721356336 41.688293259103084 0.5230157836115158 1.519639984673273 0.10388192495247484\n",
      "10000 4177 158844 41.780260266574906 41.79238386801047 0.39424656977191597 1.0623929260694984 0.10416729875373926\n"
     ]
    }
   ],
   "source": [
    "# mu_Z inconnue, alpha indep\n",
    "esp_Y_cv_mean = []\n",
    "std_Y_cv_mean = []\n",
    "rmse_Y_cv_mean = []\n",
    "esp_Y_mean = []\n",
    "std_Y_mean = []\n",
    "rmse_Y_mean = []\n",
    "\n",
    "for n_tilde in budgets:\n",
    "    Y_cv_mean = np.zeros(nr)\n",
    "    Y_mean = np.zeros(nr)\n",
    "    n_opt = n_tilde / (1 + w*tau_opt)\n",
    "    N_opt = (tau_opt - 1) * n_opt\n",
    "    n_opt = int( math.floor(n_opt) )\n",
    "    N_opt = int( math.floor(N_opt) )\n",
    "    for ir in range(nr):\n",
    "        X_n = n_echantillon_X(n_opt)\n",
    "        X_N = n_echantillon_X(N_opt)\n",
    "        X_n_tilde = n_echantillon_X(n_tilde)\n",
    "        \n",
    "        Y_n = f(X_n)\n",
    "        Y_n_tilde = f(X_n_tilde)\n",
    "        \n",
    "        Z_n = g(X_n)\n",
    "        Z_N = g(X_N)\n",
    "        \n",
    "        Y_mean_n_tilde = np.mean(Y_n_tilde)\n",
    "        Y_mean_n = np.mean(Y_n)\n",
    "        \n",
    "        Z_mean_n = np.mean(Z_n)\n",
    "        Z_mean_N = np.mean(Z_N) # estimation \"precise\" de l'esperance\n",
    "        \n",
    "        Y_mean[ir] = Y_mean_n_tilde\n",
    "        Y_cv_mean[ir] = Y_mean_n - alpha_opt * (Z_mean_n - Z_mean_N)\n",
    "\n",
    "    esp_Y_mean += [np.mean(Y_mean)]\n",
    "    std_Y_mean += [np.std(Y_mean)]\n",
    "    rmse_Y_mean += [rmse_estim(Y_mean, mu_exact)]\n",
    "    \n",
    "    esp_Y_cv_mean += [np.mean(Y_cv_mean)]\n",
    "    std_Y_cv_mean += [np.std(Y_cv_mean)] \n",
    "    rmse_Y_cv_mean += [rmse_estim(Y_cv_mean, mu_exact)]\n",
    "    \n",
    "    print(n_tilde, n_opt, N_opt,\n",
    "        esp_Y_cv_mean[-1], esp_Y_mean[-1], rmse_Y_cv_mean[-1], rmse_Y_mean[-1], (std_Y_cv_mean[-1] / std_Y_mean[-1])**2 \n",
    "    )"
   ]
  },
  {
   "cell_type": "code",
   "execution_count": 17,
   "id": "39f326a2",
   "metadata": {
    "scrolled": true
   },
   "outputs": [
    {
     "data": {
      "image/png": "[encoded data removed]",
      "text/plain": [
       "<Figure size 1000x300 with 2 Axes>"
      ]
     },
     "metadata": {},
     "output_type": "display_data"
    }
   ],
   "source": [
    "plot_fig_cv(budgets, esp_Y_mean, std_Y_mean, rmse_Y_mean, esp_Y_cv_mean, std_Y_cv_mean, rmse_Y_cv_mean, mu_exact)"
   ]
  }
 ],
 "metadata": {
  "kernelspec": {
   "display_name": "optim",
   "language": "python",
   "name": "python3"
  },
  "language_info": {
   "codemirror_mode": {
    "name": "ipython",
    "version": 3
   },
   "file_extension": ".py",
   "mimetype": "text/x-python",
   "name": "python",
   "nbconvert_exporter": "python",
   "pygments_lexer": "ipython3",
   "version": "3.10.13"
  }
 },
 "nbformat": 4,
 "nbformat_minor": 5
}
