{
 "cells": [
  {
   "cell_type": "code",
   "execution_count": 4,
   "metadata": {},
   "outputs": [
    {
     "name": "stdout",
     "output_type": "stream",
     "text": [
      "Moyenne:  -0.00036269351771698563\n",
      "Nombre de valeurs supérieures à 5:  2\n",
      "Proba d'avoir une valeur supérieure à 5:  2e-07\n"
     ]
    }
   ],
   "source": [
    "# Définir le nombre de variables à générer\n",
    "n = 1e7\n",
    "\n",
    "# Générer les variables\n",
    "import numpy as np\n",
    "\n",
    "var = np.random.normal(0, 1, int(n))\n",
    "\n",
    "# Afficher les statistiques\n",
    "print(\"Moyenne: \", np.mean(var))\n",
    "print(\"Nombre de valeurs supérieures à 5: \", np.sum(var > 5))\n",
    "print(\"Proba d'avoir une valeur supérieure à 5: \", np.mean(var > 5))"
   ]
  }
 ],
 "metadata": {
  "kernelspec": {
   "display_name": "optim",
   "language": "python",
   "name": "python3"
  },
  "language_info": {
   "codemirror_mode": {
    "name": "ipython",
    "version": 3
   },
   "file_extension": ".py",
   "mimetype": "text/x-python",
   "name": "python",
   "nbconvert_exporter": "python",
   "pygments_lexer": "ipython3",
   "version": "3.10.13"
  }
 },
 "nbformat": 4,
 "nbformat_minor": 2
}
