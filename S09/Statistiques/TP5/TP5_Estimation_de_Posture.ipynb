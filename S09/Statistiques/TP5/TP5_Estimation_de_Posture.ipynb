{
 "cells": [
  {
   "cell_type": "markdown",
   "id": "8e42f156-3e40-45bb-8b0a-4cad8daa7b03",
   "metadata": {
    "id": "XMMppWbnG3dN"
   },
   "source": [
    "<font size=\"+3\">Estimation de posture dans une image</font>\n",
    "\n",
    "---\n",
    "\n",
    "Pour ce TP, nous allons traiter le problème de la détection du \"squelette\" d'un humain dans une image, tel qu'illustré dans la figure ci-dessous.\n",
    "\n",
    "![Texte alternatif…](https://drive.google.com/uc?id=1HpyLwzwkFdyQ6APoGZQJL7f837JCHNkh)\n",
    "\n",
    "Nous allons pour ce faire utiliser le [Leeds Sport Pose Dataset](https://sam.johnson.io/research/lspet.html) qui introduit 10000 images présentant des sportifs dans diverses situations, augmentées d'une annotation manuelle du squelette.\n",
    "\n",
    "À chaque image est associée une matrice de taille 3x14, correspondant aux coordonnées dans l'image des 14 joints du squelette de la personne décrite dans l'image. La 3e dimension désigne la visibilité du joint (1 s'il est visible, 0 s'il est occulté)\n",
    "\n",
    "Ces joints sont, dans l'ordre :\n",
    "*   Cheville droite\n",
    "*   Genou droit\n",
    "*   Hanche droite\n",
    "*   Hanche gauche\n",
    "*   Genou gauche\n",
    "*   Cheville gauche\n",
    "*   Poignet droit\n",
    "*   Coude droit\n",
    "*   Épaule droite\n",
    "*   Épaule gauche\n",
    "*   Coude gauche\n",
    "*   Poignet gauche\n",
    "*   Cou\n",
    "*   Sommet du crâne"
   ]
  },
  {
   "cell_type": "markdown",
   "id": "9a89baee-2871-4867-afdb-f9dc7ebca493",
   "metadata": {},
   "source": [
    "# Méthodologie \n",
    "\n",
    "Pour résoudre ce problème, nous allons suivre une méthodologie similaire à celle présentée dans le cours d'introduction, et rappelée sur la figure suivante : \n",
    "\n",
    "![Méthodologie de développement d'un algorithme d'apprentissage profond](img/method.png)\n",
    "\n",
    "Ainsi nous allons commencer par une modélisation simple du problème, construire un modèle et l'améliorer pas à pas et évaluer sa performance.\n",
    "Dans un second temps, nous modifierons la modélisation du problème, et donc l'architecture utilisée, afin d'améliorer les résultats.\n",
    "\n",
    "Pour chacune de ces deux étapes, je vous suggère de suivre la démarche suivante : \n",
    "\n",
    "- Simplifier le problème en traitant 10 imagettes (par exemple de dimension $64 \\times 64$) et construire un réseau qui surapprend parfaitement (qui diminue la perte jusqu'à quasiment 0)\n",
    "- Ajouter des images (~1000) et recalibrer le réseau pour à nouveau, obtenir un sur-apprentissage\n",
    "- Commencer à corriger le sur-apprentissage en ajoutant de la régularisation\n",
    "- Et enfin, utiliser l'ensemble de la base de données pour diminuer le sur-apprentissage au maximum\n",
    "\n",
    "---\n",
    "\n",
    "Commencez par télécharger la base de données sur Github"
   ]
  },
  {
   "cell_type": "code",
   "execution_count": 1,
   "id": "901fba7b-1e59-413a-b50a-6602d15af584",
   "metadata": {
    "id": "3IVjmLKWRDag"
   },
   "outputs": [
    {
     "name": "stdout",
     "output_type": "stream",
     "text": [
      "fatal: le chemin de destination 'leeds-sport-pose' existe déjà et n'est pas un répertoire vide.\n"
     ]
    }
   ],
   "source": [
    "!git clone https://plmlab.math.cnrs.fr/chevallier-teaching/datasets/leeds-sport-pose.git"
   ]
  },
  {
   "cell_type": "markdown",
   "id": "e0489f6e-5aea-4571-a72a-5cd73c3e0ab6",
   "metadata": {
    "id": "qjqZNAX2CVi1"
   },
   "source": [
    "# **Approche n°1** : Régression de la position des joints\n",
    "\n",
    "Dans un premier temps, et comme vu en cours, nous allons nous inspirer de l'algorithme DeepPose (**[[Toshev et al.]](https://arxiv.org/abs/1312.4659)** _DeepPose : Human Pose Estimation via Deep Neural Networks_) et formuler le problème comme une régression de la position $(x,y)$ des joints dans l'espace de l'image."
   ]
  },
  {
   "cell_type": "markdown",
   "id": "d6b40520-a19e-4056-87b8-386af0a7ca8e",
   "metadata": {},
   "source": [
    "## Fonctions utiles\n",
    "\n",
    "Le bloc suivant contient une fonction qui permet de charger les images de la base de données dans les variables $x$ et $y$. Par défaut les images sont redimensionnées en taille $128 \\times 128$ et la base de données contient 1000 images. Pour commencer et vous permettre de travailler plus efficacement, **je vous suggère très fortement de diminuer la dimension des images** (par exemple $64\\times 64$) **et de ne travailler que sur un ensemble réduit d'images** (par exemple, 10). \n",
    "\n",
    "\n",
    "N'oubliez pas également de diviser les données en images de test et/ou de validation pour obtenir des informations sur le sur-apprentissage éventuel. "
   ]
  },
  {
   "cell_type": "code",
   "execution_count": 2,
   "id": "05833256-35d4-4ee5-8476-803118f1f4ae",
   "metadata": {},
   "outputs": [],
   "source": [
    "import numpy as np\n",
    "import PIL\n",
    "from PIL import Image\n",
    "import os, sys\n",
    "from scipy.io import loadmat"
   ]
  },
  {
   "cell_type": "code",
   "execution_count": 3,
   "id": "3676aea7-a55e-46c5-abeb-ee93b11ae49f",
   "metadata": {
    "id": "quOHEF__pf36"
   },
   "outputs": [
    {
     "data": {
      "text/plain": [
       "((10, 64, 64, 3), (10, 3, 14))"
      ]
     },
     "execution_count": 3,
     "metadata": {},
     "output_type": "execute_result"
    }
   ],
   "source": [
    "# Cette fonction permettra plus tard de charger plus ou moins d'images (en modifiant le paramètre num_images)\n",
    "# et de modifier la dimension d'entrée\n",
    "\n",
    "def load_data(image_size=128, num_images=1000):\n",
    "\n",
    "    path = \"./leeds-sport-pose/images/\"\n",
    "    dirs = sorted(os.listdir(path))\n",
    "\n",
    "    x = np.zeros((min(num_images,len(dirs)), image_size,image_size,3))\n",
    "    y = np.zeros((min(num_images,len(dirs)), 3, 14))\n",
    "\n",
    "    #Chargement des joints    \n",
    "    mat_contents = loadmat('./leeds-sport-pose/joints.mat')\n",
    "    joints = mat_contents['joints']\n",
    "\n",
    "    # Chargement des images, qui sont rangées dans leeds-sport-pose/images\n",
    "    for i in range(min(num_images,len(dirs))):\n",
    "        item = dirs[i]\n",
    "        if os.path.isfile(path+item):\n",
    "            img = Image.open(path+item)\n",
    "            # Redimensionnement et sauvegarde des joints\n",
    "            y[i, 0] = joints[:,0,i]*image_size/img.size[0]\n",
    "            y[i, 1] = joints[:,1,i]*image_size/img.size[1]\n",
    "            y[i, 2] = joints[:,2,i]\n",
    "            # Redimensionnement et sauvegarde des images        \n",
    "            img = img.resize((image_size,image_size))\n",
    "            x[i] = np.asarray(img)\n",
    "\n",
    "    return x, y\n",
    "\n",
    "# Chargement de seulement 10 images, de taille 64x64\n",
    "x, y = load_data(image_size=64, num_images=10)           \n",
    "x.shape, y.shape"
   ]
  },
  {
   "cell_type": "code",
   "execution_count": 4,
   "id": "b4754aa6-80c9-43a3-a015-a1d6eb18c9be",
   "metadata": {
    "id": "zRc0B4oxe6h_"
   },
   "outputs": [],
   "source": [
    "labels= {0: 'Cheville droite',\n",
    "         1: 'Genou droit',\n",
    "         2: 'Hanche droite',\n",
    "         3: 'Hanche gauche',\n",
    "         4: 'Genou gauche',\n",
    "         5: 'Cheville gauche',\n",
    "         6: 'Poignet droit',\n",
    "         7: 'Coude droit',\n",
    "         8: 'Épaule droite',\n",
    "         9: 'Épaule gauche',\n",
    "         10: 'Coude gauche',\n",
    "         11: 'Poignet gauche',\n",
    "         12: 'Cou',\n",
    "         13: 'Sommet du crâne'}"
   ]
  },
  {
   "cell_type": "markdown",
   "id": "e07e5123-4564-4284-bef0-c3ee0b620ad2",
   "metadata": {
    "id": "meezS1y4G8QO"
   },
   "source": [
    "La fonction suivante vous permet de visualiser les données. Vous vous rendrez compte que certaines données sont manquantes ! En effet quand des joints sont occultés dans les images, des valeurs de position aberrantes (négatives) sont indiquées. Dans ce cas, nous n'afficherons pas les articulations."
   ]
  },
  {
   "cell_type": "code",
   "execution_count": 5,
   "id": "ebd270b8-2dff-4d1b-b905-b00dfe9ff981",
   "metadata": {},
   "outputs": [],
   "source": [
    "import matplotlib.pyplot as plt"
   ]
  },
  {
   "cell_type": "code",
   "execution_count": 6,
   "id": "07d398ea-2998-423a-812f-811627243291",
   "metadata": {
    "id": "JvcqdQIZdCYk"
   },
   "outputs": [
    {
     "data": {
      "image/png": "[encoded data removed]",
      "text/plain": [
       "<Figure size 500x500 with 1 Axes>"
      ]
     },
     "metadata": {},
     "output_type": "display_data"
    }
   ],
   "source": [
    "# Fonction d'affichage d'une image et de son label associé\n",
    "\n",
    "def print_data(x,y,i):\n",
    "\n",
    "    if y.shape[1] < 3:\n",
    "        y_new = np.ones((y.shape[0], 3, y.shape[2]))\n",
    "        y_new[:,0:2,:] = y\n",
    "        y = y_new\n",
    "\n",
    "    plt.figure(figsize=(5, 5))\n",
    "    plt.imshow(x[i]/255)\n",
    "    for j in range(0,14):\n",
    "        if y[i, 2, j] == 1:\n",
    "            plt.scatter(y[i,0,j],y[i,1,j],label=labels.get(j))\n",
    "\n",
    "    # Jambe droite      \n",
    "    if (y[i, 2, 0] + y[i, 2, 1] == 2):\n",
    "        plt.plot(y[i,0,0:2],y[i,1,0:2],'b')\n",
    "    # Cuisse droite      \n",
    "    if (y[i, 2, 1] + y[i, 2, 2] == 2):\n",
    "        plt.plot(y[i,0,1:3],y[i,1,1:3],'b')\n",
    "    # Bassin     \n",
    "    if (y[i, 2, 2] + y[i, 2, 3] == 2):\n",
    "        plt.plot(y[i,0,2:4],y[i,1,2:4],'b')\n",
    "    # Cuisse gauche      \n",
    "    if (y[i, 2, 3] + y[i, 2, 4] == 2):\n",
    "        plt.plot(y[i,0,3:5],y[i,1,3:5],'b')\n",
    "    # Jambe gauche      \n",
    "    if (y[i, 2, 4] + y[i, 2, 5] == 2):\n",
    "        plt.plot(y[i,0,4:6],y[i,1,4:6],'b')\n",
    "    # Avant-bras droit      \n",
    "    if (y[i, 2, 6] + y[i, 2, 7] == 2):\n",
    "        plt.plot(y[i,0,6:8],y[i,1,6:8],'b')\n",
    "    # Bras droit      \n",
    "    if (y[i, 2, 7] + y[i, 2, 8] == 2):\n",
    "        plt.plot(y[i,0,7:9],y[i,1,7:9],'b')\n",
    "    # Bras gauche     \n",
    "    if (y[i, 2, 9] + y[i, 2, 10] == 2):\n",
    "        plt.plot(y[i,0,9:11],y[i,1,9:11],'b')\n",
    "    # Avant-bras gauche      \n",
    "    if (y[i, 2, 10] + y[i, 2, 11] == 2):\n",
    "        plt.plot(y[i,0,10:12],y[i,1,10:12],'b') \n",
    "    # Buste droit\n",
    "    x1=[y[i,0,2],y[i,0,12]]\n",
    "    y1=[y[i,1,2],y[i,1,12]]\n",
    "    if (y[i, 2, 2] + y[i, 2, 12] == 2):\n",
    "        plt.plot(x1, y1,'b')\n",
    "    # Buste gauche\n",
    "    x1=[y[i,0,3],y[i,0,12]]\n",
    "    y1=[y[i,1,3],y[i,1,12]]\n",
    "    if (y[i, 2, 3] + y[i, 2, 12] == 2):\n",
    "        plt.plot(x1, y1,'b')\n",
    "    # Omoplate droite\n",
    "    x1=[y[i,0,8],y[i,0,12]]\n",
    "    y1=[y[i,1,8],y[i,1,12]]\n",
    "    if (y[i, 2, 8] + y[i, 2, 12] == 2):\n",
    "        plt.plot(x1, y1,'b')\n",
    "    # Omoplate gauche\n",
    "    x1=[y[i,0,9],y[i,0,12]]\n",
    "    y1=[y[i,1,9],y[i,1,12]]\n",
    "    if (y[i, 2, 9] + y[i, 2, 12] == 2):\n",
    "        plt.plot(x1, y1,'b')\n",
    "    # Tete     \n",
    "    if (y[i, 2, 12] + y[i, 2, 13] == 2):\n",
    "        plt.plot(y[i,0,12:14],y[i,1,12:14],'b')\n",
    "\n",
    "    plt.axis([0, x.shape[1], x.shape[2], 0])\n",
    "    plt.show()\n",
    "    #plt.legend()\n",
    "\n",
    "# Affichage aléatoire d'une image\n",
    "print_data(x,y,np.random.randint(x.shape[0]-1))"
   ]
  },
  {
   "cell_type": "markdown",
   "id": "c24a38b9-e6db-4bf7-8ef8-6061b4abcc69",
   "metadata": {},
   "source": [
    "Si nous formulons ce problème comme une régression, nous allons utiliser pour évaluer nos réseaux de neurones l'erreur quadratique moyenne (fonction *MSE*). Cette fonction sera parfaite comme fonction de perte, mais elle ne permet pas d'appréhender les résultats de manière satisfaisante.\n",
    "\n",
    "Une métrique commune en estimation de posture est le **PCK0.5**, pour *Percentage of Correct Keypoints*. *0.5* correspond à un seuil en-deça duquel on considère qu'un joint est correctement estimé. Cette question du seuil est particulièrement sensible car il faut utiliser une valeur qui soit valable pour n'importe quelle image. La personne considérée peut apparaître plus ou moins largement sur l'image, de face ou de profil, ce qui fait qu'une erreur de prédiction sur un joint peut avoir une importance très grande ou très faible selon les cas.\n",
    "\n",
    "Pour résoudre cette ambiguïté, on considère dans la métrique du **PCK0.5** que la référence est la taille de la tête, définie par la distance entre le joint du cou et le joint de la tête sur la vérité terrain. Un joint prédit par le réseau sera considéré correct s'il est situé à une distance inférieure à la moitié (*0.5*) de la taille de la tête par rapport au joint réel. (**[[Andriluka et al.]](https://openaccess.thecvf.com/content_cvpr_2014/html/Andriluka_2D_Human_Pose_2014_CVPR_paper.html)** _2D Human Pose Estimation: New Benchmark and State of the Art Analysis_)"
   ]
  },
  {
   "cell_type": "code",
   "execution_count": 7,
   "id": "d7c7bead-5221-408e-9dc5-0e3f485b7896",
   "metadata": {},
   "outputs": [],
   "source": [
    "import numpy.matlib "
   ]
  },
  {
   "cell_type": "code",
   "execution_count": 8,
   "id": "158ff9a2-6843-4a80-a498-2af70ac860ab",
   "metadata": {},
   "outputs": [],
   "source": [
    "# Calcul du \"Percentage of Correct Keypoint\" avec seuil alpha :\n",
    "# On compte corrects les joints pour lesquels la distance entre valeurs réelle et prédite \n",
    "# est inférieure à alpha fois la dimension de la tête (c'est un peu arbitraire...)\n",
    "# On ne comptera pas les joints invisibles.\n",
    "# y_true est de dimension Nx3x14 et y_pred Nx2x14 (le réseau ne prédit pas la visibilité)\n",
    "\n",
    "def compute_PCK_alpha(y_true, y_pred, alpha=0.5):\n",
    "    # Calcul des seuils ; la taille de la tête est la distance entre joints 12 et 13\n",
    "    head_sizes = np.sqrt( np.square(y_true[:,0,13]-y_true[:,0,12]) + np.square(y_true[:,1,13]-y_true[:,1,12]) )\n",
    "    thresholds = alpha * head_sizes\n",
    "    thresholds = np.matlib.repmat(np.expand_dims(thresholds, 1), 1, 14)\n",
    "\n",
    "    # Calcul des distances inter-joints\n",
    "    joints_distances = np.sqrt( np.square(y_true[:,0,:]-y_pred[:,0,:]) + np.square(y_true[:,1,:]-y_pred[:,1,:]) )\n",
    "\n",
    "    # Visibilité des joints de la vérité terrain\n",
    "    visibility = y_true[:,2,:]\n",
    "    \n",
    "    total_joints = np.count_nonzero(visibility==1)\n",
    "    correctly_predicted_joints = np.count_nonzero( np.logical_and(joints_distances<thresholds, visibility == 1) )\n",
    "    \n",
    "    return correctly_predicted_joints/total_joints"
   ]
  },
  {
   "cell_type": "markdown",
   "id": "b2c400ac-01a3-4b1c-9e9c-65c6b77dae31",
   "metadata": {},
   "source": [
    "Comme dit précédemment, on va utiliser l'erreur quadratique moyenne (*[MSE](https://en.wikipedia.org/wiki/Mean_squared_error)*) comme fonction de coût pour entraîner notre réseau de neurones, et on peut également utiliser l'erreur absolue moyenne (*[MAE](https://en.wikipedia.org/wiki/Mean_absolute_error)*) pour obtenir une estimation plus fine des performances de notre réseau pendant l'entraînement (on obtient une erreur moyenne en pixels, ce qui est plus simple à interpréter).\n",
    "\n",
    "Il y a cependant une subtilité importante évoquée un peu plus haut : certains joints sont invisibles, et ont des coordonnées négatives (pour, il faut l'avouer, une raison un peu inexplicable). Il est important de ne pas affecter l'apprentissage en faisant prédire ces valeurs négatives, insensées, au réseau. \n",
    "\n",
    "On doit donc implanter nous-même notre propre fonction de coût, qui ne va pas prendre en compte les joints invisibles. Pour cela, il faut savoir que la vérité-terrain contient en fait 3 valeurs pour chaque joint : les 2 premières sont ses coordonnées sur l'image, la 3e représente la visibilité du joint (1 s'il est visible, 0 sinon).\n",
    "\n",
    "La fonction *custom_mse*, définie juste en-dessous, réalise cette opération. Prenez le temps de comprendre ce qu'il s'y passe. \n",
    "\n",
    "**Remarque importante** : Ce code fait appel à des fonctions particulières du Backend de `Keras`, dont vous trouverez les détails sur [cette page](https://keras.rstudio.com/articles/backend.html). Ces fonctions doivent traiter des tenseurs, de type _tensor_ (et pas des tableaux _numpy_), car elles seront appelées pendant l'entraînement sur des variables internes à `Tensorflow`. Les fonctions utilisables sont également limitées car il faut pouvoir dériver la fonction *custom_mse* pour la rétropropagation des gradients."
   ]
  },
  {
   "cell_type": "code",
   "execution_count": 9,
   "id": "6a116d8d-f0ae-45fa-b6c8-32d66950c51f",
   "metadata": {},
   "outputs": [
    {
     "name": "stderr",
     "output_type": "stream",
     "text": [
      "2024-09-16 16:29:00.421879: I tensorflow/core/util/port.cc:111] oneDNN custom operations are on. You may see slightly different numerical results due to floating-point round-off errors from different computation orders. To turn them off, set the environment variable `TF_ENABLE_ONEDNN_OPTS=0`.\n",
      "2024-09-16 16:29:00.423216: I tensorflow/tsl/cuda/cudart_stub.cc:28] Could not find cuda drivers on your machine, GPU will not be used.\n",
      "2024-09-16 16:29:00.445042: E tensorflow/compiler/xla/stream_executor/cuda/cuda_dnn.cc:9342] Unable to register cuDNN factory: Attempting to register factory for plugin cuDNN when one has already been registered\n",
      "2024-09-16 16:29:00.445066: E tensorflow/compiler/xla/stream_executor/cuda/cuda_fft.cc:609] Unable to register cuFFT factory: Attempting to register factory for plugin cuFFT when one has already been registered\n",
      "2024-09-16 16:29:00.445082: E tensorflow/compiler/xla/stream_executor/cuda/cuda_blas.cc:1518] Unable to register cuBLAS factory: Attempting to register factory for plugin cuBLAS when one has already been registered\n",
      "2024-09-16 16:29:00.450074: I tensorflow/tsl/cuda/cudart_stub.cc:28] Could not find cuda drivers on your machine, GPU will not be used.\n",
      "2024-09-16 16:29:00.450498: I tensorflow/core/platform/cpu_feature_guard.cc:182] This TensorFlow binary is optimized to use available CPU instructions in performance-critical operations.\n",
      "To enable the following instructions: AVX2 AVX_VNNI FMA, in other operations, rebuild TensorFlow with the appropriate compiler flags.\n",
      "2024-09-16 16:29:00.926296: W tensorflow/compiler/tf2tensorrt/utils/py_utils.cc:38] TF-TRT Warning: Could not find TensorRT\n"
     ]
    }
   ],
   "source": [
    "import tensorflow.keras.backend as K"
   ]
  },
  {
   "cell_type": "code",
   "execution_count": 10,
   "id": "3c6cda88-5f15-41a3-b3c0-08cd959197fe",
   "metadata": {},
   "outputs": [],
   "source": [
    "# y_true : vérité terrain de dimension B x 3 x 14\n",
    "# y_pred : une prédiction de dimension B x 2 x 14 (on ne prédit pas la visibilité)\n",
    "# B est le nombre d'images considérées (par exemple, pourra être la taille d'un mini-batch)\n",
    "\n",
    "def custom_mse(y_true, y_pred):\n",
    "    # Changement de dimension : Bx3x14 -> Bx14x3\n",
    "    y_true = K.permute_dimensions(y_true, (0, 2, 1))\n",
    "    # Changement de dimension : Bx14x3 -> (B*14)x3\n",
    "    y_true = K.reshape(y_true, shape=(-1, 3))\n",
    "  \n",
    "    # Changement de dimension : Bx2x14 -> Bx14x2\n",
    "    y_pred = K.permute_dimensions(y_pred, (0, 2, 1))\n",
    "    # Changement de dimension : Bx14x2 -> (B*14)x2\n",
    "    y_pred = K.reshape(y_pred, shape=(-1, 2))\n",
    "    \n",
    "    # Détermination de l'indices des joints visibles\n",
    "    visible = K.greater_equal(y_true[:, 2], 1)  \n",
    "    indices = K.arange(0, K.shape(y_true)[0])\n",
    "    indices_visible = indices[visible]\n",
    "    \n",
    "    # Sélection des vérité-terrains et prédictions des joints visibles\n",
    "    y_true_visible = K.gather(y_true[:,0:2], indices_visible)\n",
    "    y_pred_visible = K.gather(y_pred, indices_visible)\n",
    "    \n",
    "    # Calcul de la MSE\n",
    "    return K.mean( K.square(y_pred_visible[:,0]-y_true_visible[:,0]) + K.square(y_pred_visible[:,1]-y_true_visible[:,1]) )"
   ]
  },
  {
   "cell_type": "markdown",
   "id": "fdfac684-b6f0-43fe-b4de-194d1096fe93",
   "metadata": {},
   "source": [
    "Si vous avez bien compris le code de *custom_mse*, vous devriez pouvoir sans trop de problèmes écrire le code pour la fonction *custom_mae* ci-dessous :"
   ]
  },
  {
   "cell_type": "code",
   "execution_count": 11,
   "id": "e09b99c5-c12b-4210-b908-c06280b9a682",
   "metadata": {},
   "outputs": [],
   "source": [
    "# y_true : vérité terrain de dimension B x 3 x 14\n",
    "# y_pred : une prédiction de dimension B x 2 x 14 (on ne prédit pas la visibilité)\n",
    "# B est le nombre d'images considérées (par exemple, pourra être la taille d'un mini-batch)\n",
    "\n",
    "def custom_mae(y_true, y_pred):\n",
    "    # Changement de dimension : Bx3x14 -> Bx14x3\n",
    "    y_true = K.permute_dimensions(y_true, (0, 2, 1))\n",
    "    # Changement de dimension : Bx14x3 -> (B*14)x3\n",
    "    y_true = K.reshape(y_true, shape=(-1, 3))\n",
    "    \n",
    "    # Changement de dimension : Bx2x14 -> Bx14x2\n",
    "    y_pred = K.permute_dimensions(y_pred, (0, 2, 1))\n",
    "    # Changement de dimension : Bx14x2 -> (B*14)x2\n",
    "    y_pred = K.reshape(y_pred, shape=(-1, 2))\n",
    "    \n",
    "    # Détermination de l'indices des joints visibles\n",
    "    visible = K.greater_equal(y_true[:, 2], 1)\n",
    "    indices = K.arange(0, K.shape(y_true)[0])\n",
    "    indices_visible = indices[visible]\n",
    "    \n",
    "    # Sélection des vérité-terrains et prédictions des joints visibles\n",
    "    y_true_visible = K.gather(y_true[:,0:2], indices_visible)\n",
    "    y_pred_visible = K.gather(y_pred, indices_visible)\n",
    "    \n",
    "    # Calcul de la MAE\n",
    "    return K.mean( K.abs(y_pred_visible[:,0]-y_true_visible[:,0]) + K.abs(y_pred_visible[:,1]-y_true_visible[:,1]) )"
   ]
  },
  {
   "cell_type": "code",
   "execution_count": 12,
   "id": "55e40fe5-6881-4268-84e7-bf48364072b9",
   "metadata": {},
   "outputs": [],
   "source": [
    "# %load solutions/custom_mae.py"
   ]
  },
  {
   "cell_type": "markdown",
   "id": "3717c359-777a-46ee-9561-c8c983bec82c",
   "metadata": {},
   "source": [
    "Comme d'habitude, on peut monitorer l'entraînement grâce à la fonction suivante (adaptée à nos fonctions *custom_mse* et *custom_mae* définies juste avant) : "
   ]
  },
  {
   "cell_type": "code",
   "execution_count": 13,
   "id": "e87c9b7a-b448-4119-a147-4f57f9b48fe2",
   "metadata": {},
   "outputs": [],
   "source": [
    "def plot_training_analysis(history):\n",
    "    mae = history.history['custom_mae']\n",
    "    val_mae = history.history['val_custom_mae']\n",
    "    loss = history.history['loss']\n",
    "    val_loss = history.history['val_loss']\n",
    "\n",
    "    epochs = range(len(loss))\n",
    "\n",
    "    plt.subplot(1,2,1)\n",
    "    plt.plot(epochs, mae, 'b', linestyle=\"--\",label='Training MAE')\n",
    "    plt.plot(epochs, val_mae, 'g', label='Validation MAE')\n",
    "    plt.title('Training and validation MAE')\n",
    "    plt.legend()\n",
    "\n",
    "    plt.subplot(1,2,2)\n",
    "    plt.plot(epochs, loss, 'b', linestyle=\"--\",label='Training loss')\n",
    "    plt.plot(epochs, val_loss,'g', label='Validation loss')\n",
    "    plt.title('Training and validation loss')\n",
    "    plt.legend()\n",
    "\n",
    "    plt.tight_layout()\n",
    "    plt.show()"
   ]
  },
  {
   "cell_type": "markdown",
   "id": "074f90a6-607f-475a-a2e4-9aa88affa5d8",
   "metadata": {},
   "source": [
    "## À vous de jouer"
   ]
  },
  {
   "cell_type": "markdown",
   "id": "cd98103d-cd80-4692-a728-3c3960864f0b",
   "metadata": {},
   "source": [
    "Pour tenter de résoudre le problème, vous pouvez suivre les étapes suivantes : \n",
    "\n",
    "- Simplifier le problème en traitant 10 imagettes (par exemple de dimension $64 \\times 64$) et construire un réseau qui surapprend parfaitement (qui diminue la perte jusqu'à quasiment 0 $\\leadsto$ `simple_CNN.py`)\n",
    "- Ajouter des images (~1000) et éventuellement recalibrer votre réseau pour à nouveau, obtenir un sur-apprentissage\n",
    "- Commencer à corriger le sur-apprentissage en ajoutant de la régularisation (notamment sur les couches denses)\n",
    "- Et enfin, utiliser l'ensemble de la base de données pour diminuer le sur-apprentissage au maximum"
   ]
  },
  {
   "cell_type": "code",
   "execution_count": 17,
   "id": "5aaf0433",
   "metadata": {},
   "outputs": [],
   "source": [
    "from __future__ import print_function\n",
    "import numpy as np\n",
    "from matplotlib import pyplot as plt\n",
    "from keras import optimizers\n",
    "from keras.models import Sequential\n",
    "from keras.layers import Conv2D, MaxPooling2D\n",
    "from keras.layers import Dense, Flatten, Dropout, Reshape\n",
    "from keras import regularizers\n",
    "from sklearn.model_selection import train_test_split"
   ]
  },
  {
   "cell_type": "code",
   "execution_count": 18,
   "id": "4f1f0214-de9b-415a-bc83-8d2cc04442bb",
   "metadata": {},
   "outputs": [],
   "source": [
    "\n",
    "def simple_CNN(image_size=64):\n",
    "    model = Sequential()\n",
    "    \n",
    "    model.add(Conv2D(32,(3,3), padding='same', input_shape=(image_size,image_size,3), activation='relu'))\n",
    "    model.add(MaxPooling2D(pool_size=(2,2)))\n",
    "    \n",
    "    model.add(Conv2D(64,(3,3), padding='same', activation='relu'))\n",
    "    model.add(MaxPooling2D(pool_size=(2,2)))\n",
    "    \n",
    "    model.add(Conv2D(96,(3,3), padding='same', activation='relu'))\n",
    "    model.add(MaxPooling2D(pool_size=(2,2)))\n",
    "    \n",
    "    model.add(Conv2D(128,(3,3), padding='same', activation='relu'))\n",
    "    model.add(MaxPooling2D(pool_size=(2,2)))\n",
    "    \n",
    "    model.add(Flatten())\n",
    "    model.add(Dense(512, activation='relu'))\n",
    "    model.add(Dense(28, activation='linear'))\n",
    "    model.add(Reshape((2,14)))\n",
    "    \n",
    "    return model"
   ]
  },
  {
   "cell_type": "code",
   "execution_count": 24,
   "id": "338502d4-e811-4efc-91a7-9b49caaa4f87",
   "metadata": {},
   "outputs": [
    {
     "name": "stdout",
     "output_type": "stream",
     "text": [
      "Epoch 1/100\n",
      "4/4 [==============================] - 1s 46ms/step - loss: 1170.4017 - custom_mae: 39.0461 - val_loss: 611.9292 - val_custom_mae: 28.1722\n",
      "Epoch 2/100\n",
      "4/4 [==============================] - 0s 15ms/step - loss: 419.6694 - custom_mae: 23.2152 - val_loss: 529.9178 - val_custom_mae: 27.6872\n",
      "Epoch 3/100\n",
      "4/4 [==============================] - 0s 19ms/step - loss: 308.7233 - custom_mae: 20.6328 - val_loss: 444.7678 - val_custom_mae: 24.6707\n",
      "Epoch 4/100\n",
      "4/4 [==============================] - 0s 18ms/step - loss: 304.5348 - custom_mae: 19.3558 - val_loss: 363.8910 - val_custom_mae: 22.2404\n",
      "Epoch 5/100\n",
      "4/4 [==============================] - 0s 24ms/step - loss: 282.2254 - custom_mae: 18.9034 - val_loss: 281.5068 - val_custom_mae: 19.3034\n",
      "Epoch 6/100\n",
      "4/4 [==============================] - 0s 24ms/step - loss: 202.2133 - custom_mae: 15.5709 - val_loss: 288.7807 - val_custom_mae: 20.0257\n",
      "Epoch 7/100\n",
      "4/4 [==============================] - 0s 18ms/step - loss: 196.3490 - custom_mae: 15.0265 - val_loss: 292.4207 - val_custom_mae: 19.4093\n",
      "Epoch 8/100\n",
      "4/4 [==============================] - 0s 18ms/step - loss: 162.0888 - custom_mae: 14.0983 - val_loss: 281.9704 - val_custom_mae: 19.6792\n",
      "Epoch 9/100\n",
      "4/4 [==============================] - 0s 15ms/step - loss: 123.3341 - custom_mae: 12.1853 - val_loss: 235.6502 - val_custom_mae: 17.7323\n",
      "Epoch 10/100\n",
      "4/4 [==============================] - 0s 13ms/step - loss: 107.2011 - custom_mae: 11.7001 - val_loss: 217.4738 - val_custom_mae: 17.1007\n",
      "Epoch 11/100\n",
      "4/4 [==============================] - 0s 14ms/step - loss: 96.0831 - custom_mae: 11.2454 - val_loss: 237.7857 - val_custom_mae: 17.4150\n",
      "Epoch 12/100\n",
      "4/4 [==============================] - 0s 16ms/step - loss: 77.4672 - custom_mae: 9.7998 - val_loss: 215.7136 - val_custom_mae: 16.9454\n",
      "Epoch 13/100\n",
      "4/4 [==============================] - 0s 14ms/step - loss: 60.2274 - custom_mae: 8.2907 - val_loss: 217.7658 - val_custom_mae: 17.1419\n",
      "Epoch 14/100\n",
      "4/4 [==============================] - 0s 14ms/step - loss: 77.2620 - custom_mae: 10.1129 - val_loss: 214.5298 - val_custom_mae: 17.3404\n",
      "Epoch 15/100\n",
      "4/4 [==============================] - 0s 19ms/step - loss: 57.3582 - custom_mae: 8.7382 - val_loss: 205.6968 - val_custom_mae: 16.3476\n",
      "Epoch 16/100\n",
      "4/4 [==============================] - 0s 22ms/step - loss: 49.6750 - custom_mae: 7.8945 - val_loss: 206.0564 - val_custom_mae: 16.6738\n",
      "Epoch 17/100\n",
      "4/4 [==============================] - 0s 17ms/step - loss: 59.5154 - custom_mae: 8.1821 - val_loss: 240.0400 - val_custom_mae: 17.5072\n",
      "Epoch 18/100\n",
      "4/4 [==============================] - 0s 14ms/step - loss: 65.2639 - custom_mae: 8.7633 - val_loss: 201.5949 - val_custom_mae: 16.5902\n",
      "Epoch 19/100\n",
      "4/4 [==============================] - 0s 19ms/step - loss: 47.4779 - custom_mae: 7.7939 - val_loss: 224.4844 - val_custom_mae: 17.0734\n",
      "Epoch 20/100\n",
      "4/4 [==============================] - 0s 14ms/step - loss: 42.9068 - custom_mae: 7.6702 - val_loss: 215.0642 - val_custom_mae: 17.1062\n",
      "Epoch 21/100\n",
      "4/4 [==============================] - 0s 13ms/step - loss: 39.4991 - custom_mae: 6.8985 - val_loss: 225.0314 - val_custom_mae: 17.0232\n",
      "Epoch 22/100\n",
      "4/4 [==============================] - 0s 13ms/step - loss: 38.4047 - custom_mae: 7.0262 - val_loss: 190.1563 - val_custom_mae: 15.9279\n",
      "Epoch 23/100\n",
      "4/4 [==============================] - 0s 14ms/step - loss: 35.1225 - custom_mae: 6.9340 - val_loss: 274.8522 - val_custom_mae: 18.5066\n",
      "Epoch 24/100\n",
      "4/4 [==============================] - 0s 19ms/step - loss: 58.4268 - custom_mae: 8.5499 - val_loss: 246.5170 - val_custom_mae: 17.9947\n",
      "Epoch 25/100\n",
      "4/4 [==============================] - 0s 19ms/step - loss: 31.1277 - custom_mae: 6.8448 - val_loss: 217.1709 - val_custom_mae: 17.0624\n",
      "Epoch 26/100\n",
      "4/4 [==============================] - 0s 26ms/step - loss: 23.6215 - custom_mae: 5.8070 - val_loss: 210.9654 - val_custom_mae: 16.3965\n",
      "Epoch 27/100\n",
      "4/4 [==============================] - 0s 22ms/step - loss: 22.5587 - custom_mae: 5.1110 - val_loss: 229.5003 - val_custom_mae: 17.2339\n",
      "Epoch 28/100\n",
      "4/4 [==============================] - 0s 22ms/step - loss: 22.7091 - custom_mae: 5.6872 - val_loss: 207.1615 - val_custom_mae: 16.8908\n",
      "Epoch 29/100\n",
      "4/4 [==============================] - 0s 14ms/step - loss: 13.3218 - custom_mae: 4.2822 - val_loss: 212.6413 - val_custom_mae: 16.7426\n",
      "Epoch 30/100\n",
      "4/4 [==============================] - 0s 18ms/step - loss: 14.7128 - custom_mae: 4.1855 - val_loss: 222.2365 - val_custom_mae: 16.6973\n",
      "Epoch 31/100\n",
      "4/4 [==============================] - 0s 19ms/step - loss: 15.7692 - custom_mae: 4.6083 - val_loss: 221.8911 - val_custom_mae: 16.6915\n",
      "Epoch 32/100\n",
      "4/4 [==============================] - 0s 24ms/step - loss: 17.2257 - custom_mae: 4.7067 - val_loss: 217.6055 - val_custom_mae: 16.8716\n",
      "Epoch 33/100\n",
      "4/4 [==============================] - 0s 18ms/step - loss: 8.8745 - custom_mae: 3.5113 - val_loss: 212.6393 - val_custom_mae: 16.7088\n",
      "Epoch 34/100\n",
      "4/4 [==============================] - 0s 18ms/step - loss: 9.3440 - custom_mae: 3.4835 - val_loss: 248.5352 - val_custom_mae: 17.5870\n",
      "Epoch 35/100\n",
      "4/4 [==============================] - 0s 19ms/step - loss: 8.6054 - custom_mae: 3.5257 - val_loss: 219.2967 - val_custom_mae: 16.7721\n",
      "Epoch 36/100\n",
      "4/4 [==============================] - 0s 22ms/step - loss: 8.0404 - custom_mae: 3.4346 - val_loss: 249.6324 - val_custom_mae: 18.1683\n",
      "Epoch 37/100\n",
      "4/4 [==============================] - 0s 17ms/step - loss: 20.2481 - custom_mae: 5.4773 - val_loss: 214.9153 - val_custom_mae: 16.5723\n",
      "Epoch 38/100\n",
      "4/4 [==============================] - 0s 19ms/step - loss: 21.6676 - custom_mae: 4.5409 - val_loss: 241.9181 - val_custom_mae: 17.8595\n",
      "Epoch 39/100\n",
      "4/4 [==============================] - 0s 21ms/step - loss: 25.2232 - custom_mae: 6.2294 - val_loss: 216.1845 - val_custom_mae: 17.0969\n",
      "Epoch 40/100\n",
      "4/4 [==============================] - 0s 18ms/step - loss: 14.9187 - custom_mae: 4.7663 - val_loss: 237.5855 - val_custom_mae: 17.3439\n",
      "Epoch 41/100\n",
      "4/4 [==============================] - 0s 18ms/step - loss: 18.5860 - custom_mae: 5.1293 - val_loss: 220.8234 - val_custom_mae: 16.7842\n",
      "Epoch 42/100\n",
      "4/4 [==============================] - 0s 24ms/step - loss: 12.7225 - custom_mae: 4.1316 - val_loss: 227.0884 - val_custom_mae: 17.0656\n",
      "Epoch 43/100\n",
      "4/4 [==============================] - 0s 14ms/step - loss: 11.5511 - custom_mae: 3.8095 - val_loss: 223.7676 - val_custom_mae: 16.8322\n",
      "Epoch 44/100\n",
      "4/4 [==============================] - 0s 16ms/step - loss: 9.4333 - custom_mae: 3.1891 - val_loss: 225.2074 - val_custom_mae: 16.7866\n",
      "Epoch 45/100\n",
      "4/4 [==============================] - 0s 18ms/step - loss: 7.0904 - custom_mae: 3.1783 - val_loss: 220.7740 - val_custom_mae: 16.5974\n",
      "Epoch 46/100\n",
      "4/4 [==============================] - 0s 24ms/step - loss: 6.3897 - custom_mae: 2.9688 - val_loss: 229.3435 - val_custom_mae: 17.1501\n",
      "Epoch 47/100\n",
      "4/4 [==============================] - 0s 15ms/step - loss: 2.6367 - custom_mae: 1.9588 - val_loss: 222.3001 - val_custom_mae: 16.8222\n",
      "Epoch 48/100\n",
      "4/4 [==============================] - 0s 23ms/step - loss: 1.4459 - custom_mae: 1.3117 - val_loss: 212.6202 - val_custom_mae: 16.3725\n",
      "Epoch 49/100\n",
      "4/4 [==============================] - 0s 14ms/step - loss: 1.7157 - custom_mae: 1.5200 - val_loss: 220.3399 - val_custom_mae: 16.7942\n",
      "Epoch 50/100\n",
      "4/4 [==============================] - 0s 18ms/step - loss: 1.0288 - custom_mae: 1.1212 - val_loss: 226.5622 - val_custom_mae: 17.0617\n",
      "Epoch 51/100\n",
      "4/4 [==============================] - 0s 15ms/step - loss: 0.6770 - custom_mae: 0.8325 - val_loss: 218.9527 - val_custom_mae: 16.7221\n",
      "Epoch 52/100\n",
      "4/4 [==============================] - 0s 16ms/step - loss: 0.4908 - custom_mae: 0.7496 - val_loss: 218.2953 - val_custom_mae: 16.6641\n",
      "Epoch 53/100\n",
      "4/4 [==============================] - 0s 15ms/step - loss: 0.3063 - custom_mae: 0.6065 - val_loss: 226.5498 - val_custom_mae: 16.9621\n",
      "Epoch 54/100\n",
      "4/4 [==============================] - 0s 15ms/step - loss: 0.2375 - custom_mae: 0.5455 - val_loss: 222.8217 - val_custom_mae: 16.9008\n",
      "Epoch 55/100\n",
      "4/4 [==============================] - 0s 14ms/step - loss: 0.1965 - custom_mae: 0.5114 - val_loss: 217.7765 - val_custom_mae: 16.6891\n",
      "Epoch 56/100\n",
      "4/4 [==============================] - 0s 19ms/step - loss: 0.1766 - custom_mae: 0.4738 - val_loss: 223.3521 - val_custom_mae: 16.8057\n",
      "Epoch 57/100\n",
      "4/4 [==============================] - 0s 14ms/step - loss: 0.1272 - custom_mae: 0.3919 - val_loss: 221.0638 - val_custom_mae: 16.7837\n",
      "Epoch 58/100\n",
      "4/4 [==============================] - 0s 14ms/step - loss: 0.2100 - custom_mae: 0.4690 - val_loss: 219.6550 - val_custom_mae: 16.7522\n",
      "Epoch 59/100\n",
      "4/4 [==============================] - 0s 19ms/step - loss: 0.1733 - custom_mae: 0.4831 - val_loss: 219.2001 - val_custom_mae: 16.7174\n",
      "Epoch 60/100\n",
      "4/4 [==============================] - 0s 21ms/step - loss: 0.1444 - custom_mae: 0.4460 - val_loss: 223.5277 - val_custom_mae: 16.8730\n",
      "Epoch 61/100\n",
      "4/4 [==============================] - 0s 17ms/step - loss: 0.2406 - custom_mae: 0.5429 - val_loss: 219.1184 - val_custom_mae: 16.7059\n",
      "Epoch 62/100\n",
      "4/4 [==============================] - 0s 19ms/step - loss: 0.2109 - custom_mae: 0.5288 - val_loss: 220.9495 - val_custom_mae: 16.7617\n",
      "Epoch 63/100\n",
      "4/4 [==============================] - 0s 15ms/step - loss: 0.2089 - custom_mae: 0.5558 - val_loss: 216.8239 - val_custom_mae: 16.6188\n",
      "Epoch 64/100\n",
      "4/4 [==============================] - 0s 17ms/step - loss: 0.5241 - custom_mae: 0.8651 - val_loss: 225.3955 - val_custom_mae: 16.9102\n",
      "Epoch 65/100\n",
      "4/4 [==============================] - 0s 33ms/step - loss: 0.3779 - custom_mae: 0.7068 - val_loss: 218.3000 - val_custom_mae: 16.7151\n",
      "Epoch 66/100\n",
      "4/4 [==============================] - 0s 21ms/step - loss: 1.3296 - custom_mae: 1.3936 - val_loss: 224.9522 - val_custom_mae: 16.9395\n",
      "Epoch 67/100\n",
      "4/4 [==============================] - 0s 23ms/step - loss: 2.5556 - custom_mae: 1.6726 - val_loss: 220.6154 - val_custom_mae: 16.7344\n",
      "Epoch 68/100\n",
      "4/4 [==============================] - 0s 23ms/step - loss: 1.9358 - custom_mae: 1.3580 - val_loss: 219.2065 - val_custom_mae: 16.7232\n",
      "Epoch 69/100\n",
      "4/4 [==============================] - 0s 22ms/step - loss: 2.0414 - custom_mae: 1.5148 - val_loss: 220.8743 - val_custom_mae: 16.8867\n",
      "Epoch 70/100\n",
      "4/4 [==============================] - 0s 19ms/step - loss: 1.8983 - custom_mae: 1.6298 - val_loss: 223.1801 - val_custom_mae: 16.7585\n",
      "Epoch 71/100\n",
      "4/4 [==============================] - 0s 19ms/step - loss: 1.5103 - custom_mae: 1.4139 - val_loss: 221.8226 - val_custom_mae: 16.9121\n",
      "Epoch 72/100\n",
      "4/4 [==============================] - 0s 18ms/step - loss: 1.1991 - custom_mae: 1.2614 - val_loss: 216.8651 - val_custom_mae: 16.7135\n",
      "Epoch 73/100\n",
      "4/4 [==============================] - 0s 17ms/step - loss: 1.2752 - custom_mae: 1.2609 - val_loss: 234.4814 - val_custom_mae: 17.0794\n",
      "Epoch 74/100\n",
      "4/4 [==============================] - 0s 22ms/step - loss: 2.3295 - custom_mae: 1.5926 - val_loss: 211.5641 - val_custom_mae: 16.5478\n",
      "Epoch 75/100\n",
      "4/4 [==============================] - 0s 24ms/step - loss: 2.9124 - custom_mae: 1.9993 - val_loss: 228.2248 - val_custom_mae: 17.1267\n",
      "Epoch 76/100\n",
      "4/4 [==============================] - 0s 15ms/step - loss: 3.0283 - custom_mae: 1.9332 - val_loss: 228.9810 - val_custom_mae: 16.8777\n",
      "Epoch 77/100\n",
      "4/4 [==============================] - 0s 16ms/step - loss: 1.7827 - custom_mae: 1.5747 - val_loss: 230.8036 - val_custom_mae: 17.1796\n",
      "Epoch 78/100\n",
      "4/4 [==============================] - 0s 14ms/step - loss: 4.1087 - custom_mae: 2.3508 - val_loss: 219.5235 - val_custom_mae: 16.8888\n",
      "Epoch 79/100\n",
      "4/4 [==============================] - 0s 21ms/step - loss: 5.1777 - custom_mae: 2.6273 - val_loss: 263.2720 - val_custom_mae: 18.1098\n",
      "Epoch 80/100\n",
      "4/4 [==============================] - 0s 26ms/step - loss: 10.9525 - custom_mae: 3.2304 - val_loss: 208.0742 - val_custom_mae: 16.4014\n",
      "Epoch 81/100\n",
      "4/4 [==============================] - 0s 34ms/step - loss: 6.0076 - custom_mae: 2.8173 - val_loss: 236.5566 - val_custom_mae: 17.4096\n",
      "Epoch 82/100\n",
      "4/4 [==============================] - 0s 17ms/step - loss: 3.7403 - custom_mae: 2.1277 - val_loss: 233.6979 - val_custom_mae: 17.0542\n",
      "Epoch 83/100\n",
      "4/4 [==============================] - 0s 15ms/step - loss: 6.8332 - custom_mae: 3.0229 - val_loss: 238.0139 - val_custom_mae: 17.7054\n",
      "Epoch 84/100\n",
      "4/4 [==============================] - 0s 17ms/step - loss: 11.2687 - custom_mae: 3.9067 - val_loss: 222.2419 - val_custom_mae: 17.0095\n",
      "Epoch 85/100\n",
      "4/4 [==============================] - 0s 18ms/step - loss: 8.3624 - custom_mae: 3.5567 - val_loss: 242.4300 - val_custom_mae: 17.3791\n",
      "Epoch 86/100\n",
      "4/4 [==============================] - 0s 16ms/step - loss: 12.1439 - custom_mae: 3.6822 - val_loss: 222.3761 - val_custom_mae: 16.9071\n",
      "Epoch 87/100\n",
      "4/4 [==============================] - 0s 15ms/step - loss: 6.2291 - custom_mae: 2.8280 - val_loss: 216.9877 - val_custom_mae: 17.0287\n",
      "Epoch 88/100\n",
      "4/4 [==============================] - 0s 15ms/step - loss: 4.6153 - custom_mae: 2.4036 - val_loss: 247.8282 - val_custom_mae: 17.7070\n",
      "Epoch 89/100\n",
      "4/4 [==============================] - 0s 22ms/step - loss: 8.7647 - custom_mae: 3.1286 - val_loss: 232.4657 - val_custom_mae: 17.4046\n",
      "Epoch 90/100\n",
      "4/4 [==============================] - 0s 18ms/step - loss: 4.6182 - custom_mae: 2.4638 - val_loss: 227.3994 - val_custom_mae: 17.0307\n",
      "Epoch 91/100\n",
      "4/4 [==============================] - 0s 15ms/step - loss: 4.2787 - custom_mae: 2.4494 - val_loss: 236.8865 - val_custom_mae: 17.2772\n",
      "Epoch 92/100\n",
      "4/4 [==============================] - 0s 17ms/step - loss: 4.3763 - custom_mae: 2.1314 - val_loss: 242.2814 - val_custom_mae: 17.4714\n",
      "Epoch 93/100\n",
      "4/4 [==============================] - 0s 18ms/step - loss: 9.1481 - custom_mae: 3.7058 - val_loss: 226.0090 - val_custom_mae: 16.9707\n",
      "Epoch 94/100\n",
      "4/4 [==============================] - 0s 22ms/step - loss: 4.5685 - custom_mae: 2.3930 - val_loss: 254.8085 - val_custom_mae: 17.9677\n",
      "Epoch 95/100\n",
      "4/4 [==============================] - 0s 21ms/step - loss: 6.6780 - custom_mae: 2.8315 - val_loss: 204.4792 - val_custom_mae: 16.3771\n",
      "Epoch 96/100\n",
      "4/4 [==============================] - 0s 18ms/step - loss: 9.3652 - custom_mae: 3.4821 - val_loss: 224.4387 - val_custom_mae: 17.0216\n",
      "Epoch 97/100\n",
      "4/4 [==============================] - 0s 32ms/step - loss: 5.1593 - custom_mae: 2.4939 - val_loss: 241.6389 - val_custom_mae: 17.4182\n",
      "Epoch 98/100\n",
      "4/4 [==============================] - 0s 19ms/step - loss: 5.1401 - custom_mae: 2.5641 - val_loss: 212.1902 - val_custom_mae: 16.6408\n",
      "Epoch 99/100\n",
      "4/4 [==============================] - 0s 21ms/step - loss: 4.0590 - custom_mae: 2.1788 - val_loss: 241.6478 - val_custom_mae: 17.5364\n",
      "Epoch 100/100\n",
      "4/4 [==============================] - 0s 24ms/step - loss: 7.5047 - custom_mae: 3.1014 - val_loss: 237.5982 - val_custom_mae: 17.5380\n"
     ]
    },
    {
     "data": {
      "image/png": "[encoded data removed]",
      "text/plain": [
       "<Figure size 640x480 with 2 Axes>"
      ]
     },
     "metadata": {},
     "output_type": "display_data"
    }
   ],
   "source": [
    "# Création des données d'entrainement et de test\n",
    "num_images = 10\n",
    "x, y = load_data(image_size=64, num_images=num_images)\n",
    "x_train, x_val, y_train, y_val = train_test_split(x, y, test_size=0.2)\n",
    "\n",
    "# Création du modèle\n",
    "model = simple_CNN(image_size=64)\n",
    "\n",
    "# Entrainement du réseau\n",
    "optim = optimizers.Adam(learning_rate=0.001)\n",
    "model.compile(optimizer=optim, loss=custom_mse, metrics=[custom_mae])\n",
    "\n",
    "history = model.fit(x_train, y_train, epochs=100, batch_size=2, validation_data=(x_val, y_val))\n",
    "\n",
    "# Evaluation du modèle\n",
    "plot_training_analysis(history)"
   ]
  },
  {
   "cell_type": "code",
   "execution_count": 25,
   "id": "7c588c2e-df99-4079-a1e6-6b509759aed7",
   "metadata": {},
   "outputs": [],
   "source": [
    "def complex_CNN(image_size=64):\n",
    "    model = Sequential()\n",
    "    \n",
    "    model.add(Conv2D(32,(3,3), padding='same', input_shape=(image_size,image_size,3), activation='relu'))\n",
    "    model.add(MaxPooling2D(pool_size=(2,2)))\n",
    "    \n",
    "    model.add(Conv2D(64,(3,3), padding='same', activation='relu'))\n",
    "    model.add(MaxPooling2D(pool_size=(2,2)))\n",
    "    \n",
    "    model.add(Conv2D(96,(3,3), padding='same', activation='relu'))\n",
    "    model.add(MaxPooling2D(pool_size=(2,2)))\n",
    "    \n",
    "    model.add(Conv2D(128,(3,3), padding='same', activation='relu'))\n",
    "    model.add(MaxPooling2D(pool_size=(2,2)))\n",
    "    \n",
    "    model.add(Flatten())\n",
    "    model.add(Dense(512, activation='relu'))\n",
    "    model.add(Dense(28, activation='linear'))\n",
    "    model.add(Reshape((2,14)))\n",
    "    \n",
    "    return model"
   ]
  },
  {
   "cell_type": "code",
   "execution_count": null,
   "id": "1e7ce53f-fe2e-4805-9c3f-ab9b91734a35",
   "metadata": {},
   "outputs": [],
   "source": []
  },
  {
   "cell_type": "code",
   "execution_count": null,
   "id": "72132512-a460-43b8-b3c0-acbbd66c5612",
   "metadata": {},
   "outputs": [],
   "source": []
  },
  {
   "cell_type": "markdown",
   "id": "170741f2-a325-44bb-99c6-24ecab04dc31",
   "metadata": {
    "id": "u5rCr8gKCEnp"
   },
   "source": [
    "# **Approche n°2** : Prédiction de cartes de chaleur\n",
    "\n",
    "Dans cette partie, nous allons utiliser une autre formulation du problème, présentée pendant le cours. Plutôt que de prédire directement la position pixellique des joints, nous allons prédire des cartes de probabilité de la position des joints, comme illustré ci-dessous. Pour ce faire, il nous faudra tester des architectures de réseau de neurones différentes, s'inspirant de celles utilisées en segmentation d'image.\n",
    "\n",
    "![Texte alternatif…](img/heatmap.png)"
   ]
  },
  {
   "cell_type": "markdown",
   "id": "802f49f0-9e5f-4193-85a7-0db4ccda5f1e",
   "metadata": {
    "id": "4Pqj24fMz78h"
   },
   "source": [
    "## Fonctions utiles\n",
    "\n",
    "La fonction suivante permet de créer une carte de chaleur de la dimension voulue, avec une gaussienne centrée en un point donné."
   ]
  },
  {
   "cell_type": "code",
   "execution_count": null,
   "id": "fbfc37e5-a892-4965-ae6f-8ae0a4dec19c",
   "metadata": {},
   "outputs": [],
   "source": [
    "from scipy.ndimage import gaussian_filter"
   ]
  },
  {
   "cell_type": "code",
   "execution_count": null,
   "id": "a5a7739e-2544-4a92-b372-2ad6a41d1cdf",
   "metadata": {
    "colab": {
     "base_uri": "https://localhost:8080/",
     "height": 268
    },
    "id": "0u_t30vIEv1P",
    "outputId": "9421ae03-5b45-4e2a-f5be-91006fc2685d"
   },
   "outputs": [],
   "source": [
    "def heat_point(ind_x, ind_y, heatmap_size):\n",
    "    heat_point=np.zeros((heatmap_size,heatmap_size))\n",
    "    heat_point[ind_x][ind_y] = 1\n",
    "    \n",
    "    return gaussian_filter(heat_point, round(heatmap_size/20))\n",
    "\n",
    "\n",
    "h_m = heat_point(14, 44, 64)\n",
    "plt.imshow(h_m)\n",
    "plt.show()"
   ]
  },
  {
   "cell_type": "markdown",
   "id": "ae57536e-0041-4e2a-863f-373f70edf4a7",
   "metadata": {
    "id": "a1vQKbeBGI9g"
   },
   "source": [
    "On peut ensuite retrouver la position du point le plus \"chaud\", en utilisant la commande suivante : "
   ]
  },
  {
   "cell_type": "code",
   "execution_count": null,
   "id": "6ee31e62-42df-4342-b85e-273e52a58a20",
   "metadata": {
    "colab": {
     "base_uri": "https://localhost:8080/"
    },
    "id": "8yWcAk4lGIPa",
    "outputId": "c16937c5-c03f-4922-a288-fc0aa5e4186f"
   },
   "outputs": [],
   "source": [
    "np.unravel_index(np.argmax(h_m), h_m.shape) "
   ]
  },
  {
   "cell_type": "markdown",
   "id": "77772d08-5c54-456c-86f0-f80e43420fd8",
   "metadata": {
    "id": "kiLiDhPjGieb"
   },
   "source": [
    "On peut donc définir les 2 fonctions suivantes permettant de générer les cartes de chaleur à partir des coordonnées de joints, et vice-versa."
   ]
  },
  {
   "cell_type": "code",
   "execution_count": null,
   "id": "51e68786-897d-4525-8d78-a60d434c825a",
   "metadata": {
    "id": "fD3PoNusGhC2"
   },
   "outputs": [],
   "source": [
    "def coord2heatmap(y, heatmap_size):\n",
    "    heatmap = np.zeros((y.shape[0], 14, heatmap_size, heatmap_size))\n",
    "    for img in range(y.shape[0]):\n",
    "        for j in range(14):\n",
    "            ind_x = int(y[img][1][j])\n",
    "            ind_y = int(y[img][0][j])\n",
    "            #print(ind_x, ind_y)\n",
    "            if ind_x >= 0 and ind_y >= 0 and ind_x < heatmap_size and ind_y < heatmap_size:\n",
    "                heatmap[img][j] = heat_point(ind_x, ind_y, heatmap_size)\n",
    "    heatmap = np.transpose(heatmap, (0, 2, 3, 1))\n",
    "    heatmap = heatmap / np.max(heatmap)\n",
    "    return heatmap\n",
    "\n",
    "\n",
    "def heatmap2coord(heatmap):\n",
    "    y = np.ones((heatmap.shape[0], 3, 14))\n",
    "\n",
    "    heatmap = np.transpose(heatmap, (0, 3, 1, 2))\n",
    "    for img in range(y.shape[0]):\n",
    "        for j in range(14): \n",
    "            max_heat = np.unravel_index(np.argmax(heatmap[img][j]), heatmap[img][j].shape)  \n",
    "            y[img][0][j] = max_heat[1]\n",
    "            y[img][1][j] = max_heat[0]\n",
    "            if max_heat[0] == 0 and max_heat[1] == 0:\n",
    "                y[img][2][j] = 0 # Le joint est invisible\n",
    "    return y"
   ]
  },
  {
   "cell_type": "markdown",
   "id": "2947e5b3-d6d8-49a4-a0d6-c40921e7d803",
   "metadata": {
    "id": "TG0BlJ3LH2kP"
   },
   "source": [
    "**Todo** : Ecrivez une fonction permettant d'affichager des cartes de \n",
    "\n",
    "On affichera pour `rows` images $x$ et carte de chaleur $y$ associée : (i) l'image, (ii) tous les joints simultanément, (iii) seulement la tête, (iv) seulement le coude droit, (v) seulement le genou gauche.\n",
    "\n",
    "La cellule ci-dessous donne un exemple de résultat attendu."
   ]
  },
  {
   "cell_type": "code",
   "execution_count": null,
   "id": "1abb00e0-ef1e-480e-aedf-823654e331f6",
   "metadata": {},
   "outputs": [],
   "source": [
    "img = Image.open('img/print_heatmap.png')\n",
    "plt.imshow(img)\n",
    "plt.show()"
   ]
  },
  {
   "cell_type": "code",
   "execution_count": null,
   "id": "e2a32941-d296-4e83-b156-cd8f0c40a982",
   "metadata": {
    "id": "dCfWl8ncH5JQ"
   },
   "outputs": [],
   "source": [
    "def print_heatmap(x, y, rows=3):\n",
    "    [...]"
   ]
  },
  {
   "cell_type": "code",
   "execution_count": null,
   "id": "ae7ffaf7-b7a7-4310-ad1d-927e012e61e3",
   "metadata": {},
   "outputs": [],
   "source": [
    "# %load solutions/print_heatmap.py"
   ]
  },
  {
   "cell_type": "markdown",
   "id": "24753a2e-b438-4903-8292-c8c89d8695e9",
   "metadata": {
    "id": "a9QKb9YLJRr4"
   },
   "source": [
    "Les lignes suivantes vous permettront de démarrer simplement : "
   ]
  },
  {
   "cell_type": "code",
   "execution_count": null,
   "id": "df3760e6-bcef-4677-b940-fe35366d6e63",
   "metadata": {},
   "outputs": [],
   "source": [
    "from sklearn.model_selection import train_test_split"
   ]
  },
  {
   "cell_type": "code",
   "execution_count": null,
   "id": "7ea81e94-6fde-4358-bc00-4c0b49eb999d",
   "metadata": {
    "colab": {
     "base_uri": "https://localhost:8080/",
     "height": 503
    },
    "id": "fwcCfcazJQL7",
    "outputId": "e4a9c11b-d7f6-4af9-f7a1-20e7dd01abfa"
   },
   "outputs": [],
   "source": [
    "# Chargement des données : on choisit une dimension d'image et de carte de chaleur de 64x64\n",
    "image_size = 64\n",
    "heatmap_size = 64\n",
    "\n",
    "# Chargement de seulement 1000 images\n",
    "x, y = load_data(image_size=image_size, num_images=1000) \n",
    "\n",
    "# Normalisation des données\n",
    "x = x/255\n",
    "\n",
    "# Chargement des données : 1000 images d'apprentissage, 100 de validation, 100 de test    \n",
    "x_train, x_gen, y_train, y_gen = train_test_split(x, y, test_size=1/10, random_state=2)\n",
    "x_val, x_test, y_val, y_test = train_test_split(x_gen, y_gen, test_size=1/2, random_state=1)\n",
    "\n",
    "# Calcul des cartes de chaleur (prend un peu de temps)\n",
    "y_hm_train = coord2heatmap(y_train, heatmap_size)\n",
    "y_hm_val = coord2heatmap(y_val, heatmap_size)\n",
    "y_hm_test = coord2heatmap(y_test, heatmap_size)\n",
    "\n",
    "# Affichage de quelques exemples\n",
    "print_heatmap(x_train, y_hm_train)"
   ]
  },
  {
   "cell_type": "markdown",
   "id": "81ffa456-460b-4932-9b82-d834ee1193b0",
   "metadata": {
    "id": "QZVbag1MOphZ"
   },
   "source": [
    "Pour vous aider pour la suite, voici ci-dessous une implémentation du réseau UNet, vu en cours sur la segmentation.\n",
    "\n",
    "![Texte alternatif…](https://raw.githubusercontent.com/zhixuhao/unet/master/img/u-net-architecture.png)\n",
    "\n",
    "A vous de l'**adapter** afin qu'il soit pertinent pour le problème courant."
   ]
  },
  {
   "cell_type": "code",
   "execution_count": null,
   "id": "2e617809-5dec-4ba2-a81c-5af9ef6fdcbd",
   "metadata": {},
   "outputs": [],
   "source": [
    "import keras\n",
    "from keras.layers import *\n",
    "from keras import *"
   ]
  },
  {
   "cell_type": "code",
   "execution_count": null,
   "id": "b1f76200-5328-4e3b-8581-a06d24843b13",
   "metadata": {
    "id": "O_qMkG8ROoky"
   },
   "outputs": [],
   "source": [
    "def create_unet(image_size=572):\n",
    "    input_layer=Input((image_size, image_size, 1))\n",
    "\n",
    "    conv1 = Conv2D(64, 3, activation = 'relu', padding = 'same', kernel_initializer = 'he_normal')(input_layer)\n",
    "    conv1 = Conv2D(64, 3, activation = 'relu', padding = 'same', kernel_initializer = 'he_normal')(conv1)\n",
    "    pool1 = MaxPooling2D(pool_size=(2, 2))(conv1)\n",
    "\n",
    "    conv2 = Conv2D(128, 3, activation = 'relu', padding = 'same', kernel_initializer = 'he_normal')(pool1)\n",
    "    conv2 = Conv2D(128, 3, activation = 'relu', padding = 'same', kernel_initializer = 'he_normal')(conv2)\n",
    "    pool2 = MaxPooling2D(pool_size=(2, 2))(conv2)\n",
    "\n",
    "    conv3 = Conv2D(256, 3, activation = 'relu', padding = 'same', kernel_initializer = 'he_normal')(pool2)\n",
    "    conv3 = Conv2D(256, 3, activation = 'relu', padding = 'same', kernel_initializer = 'he_normal')(conv3)\n",
    "    pool3 = MaxPooling2D(pool_size=(2, 2))(conv3)\n",
    "\n",
    "    conv4 = Conv2D(512, 3, activation = 'relu', padding = 'same', kernel_initializer = 'he_normal')(pool3)\n",
    "    conv4 = Conv2D(512, 3, activation = 'relu', padding = 'same', kernel_initializer = 'he_normal')(conv4)\n",
    "    drop4 = Dropout(0.5)(conv4)\n",
    "    pool4 = MaxPooling2D(pool_size=(2, 2))(drop4)\n",
    "\n",
    "    conv5 = Conv2D(1024, 3, activation = 'relu', padding = 'same', kernel_initializer = 'he_normal')(pool4)\n",
    "    conv5 = Conv2D(1024, 3, activation = 'relu', padding = 'same', kernel_initializer = 'he_normal')(conv5)\n",
    "    drop5 = Dropout(0.5)(conv5)\n",
    "\n",
    "    up6 = Conv2D(512, 2, activation = 'relu', padding = 'same', kernel_initializer = 'he_normal')(UpSampling2D(size = (2,2))(drop5))\n",
    "    merge6 = concatenate([drop4,up6], axis = 3)\n",
    "    conv6 = Conv2D(512, 3, activation = 'relu', padding = 'same', kernel_initializer = 'he_normal')(merge6)\n",
    "    conv6 = Conv2D(512, 3, activation = 'relu', padding = 'same', kernel_initializer = 'he_normal')(conv6)\n",
    "\n",
    "    up7 = Conv2D(256, 2, activation = 'relu', padding = 'same', kernel_initializer = 'he_normal')(UpSampling2D(size = (2,2))(conv6))\n",
    "    merge7 = concatenate([conv3,up7], axis = 3)\n",
    "    conv7 = Conv2D(256, 3, activation = 'relu', padding = 'same', kernel_initializer = 'he_normal')(merge7)\n",
    "    conv7 = Conv2D(256, 3, activation = 'relu', padding = 'same', kernel_initializer = 'he_normal')(conv7)\n",
    "\n",
    "    up8 = Conv2D(128, 2, activation = 'relu', padding = 'same', kernel_initializer = 'he_normal')(UpSampling2D(size = (2,2))(conv7))\n",
    "    merge8 = concatenate([conv2,up8], axis = 3)\n",
    "    conv8 = Conv2D(128, 3, activation = 'relu', padding = 'same', kernel_initializer = 'he_normal')(merge8)\n",
    "    conv8 = Conv2D(128, 3, activation = 'relu', padding = 'same', kernel_initializer = 'he_normal')(conv8)\n",
    "\n",
    "    up9 = Conv2D(64, 2, activation = 'relu', padding = 'same', kernel_initializer = 'he_normal')(UpSampling2D(size = (2,2))(conv8))\n",
    "    merge9 = concatenate([conv1,up9], axis = 3)\n",
    "    conv9 = Conv2D(64, 3, activation = 'relu', padding = 'same', kernel_initializer = 'he_normal')(merge9)\n",
    "    conv9 = Conv2D(64, 3, activation = 'relu', padding = 'same', kernel_initializer = 'he_normal')(conv9)\n",
    "    conv10 = Conv2D(1, 1, activation = 'sigmoid')(conv9)\n",
    "\n",
    "    model = Model(input_layer, conv10)\n",
    "\n",
    "    return model"
   ]
  },
  {
   "cell_type": "code",
   "execution_count": null,
   "id": "d040ead6-b4d5-49b8-9441-cf86e5749ff6",
   "metadata": {
    "colab": {
     "base_uri": "https://localhost:8080/"
    },
    "id": "vgFsh0DRp1I3",
    "outputId": "f023b707-bfe9-4b84-b466-b52b135bbbe1",
    "scrolled": true,
    "tags": []
   },
   "outputs": [],
   "source": [
    "model = create_unet(image_size=64)\n",
    "model.summary()"
   ]
  },
  {
   "cell_type": "markdown",
   "id": "d58d2565-bdde-45cd-a6c5-5b30288221f8",
   "metadata": {
    "id": "LPamKJXZsCff"
   },
   "source": [
    "## À vous de jouer\n",
    "\n",
    "Essayez d'adapter le réseau Unet ($\\leadsto$ `modif_unet.py`) à votre problème, puis de l'entraîner sur le petit ensemble de données x_train. \n",
    "\n",
    "Plusieurs remarques (**à lire attentivement**) : \n",
    "\n",
    "\n",
    "\n",
    "*  Vous devriez observer beaucoup moins de sur-apprentissage ! Si vos prédictions sur l'ensemble de validation sont aberrantes, c'est que vous avez un bug !!\n",
    "*   Se pose la question de la formulation du problème : dans la mesure où \n",
    "les cartes de chaleur sont assimilables à des cartes de probabilité (entre 0 et 1), on peut certes choisir de conserver une formaulation du problème basée sur la régression, mais il est probablement beaucoup plus optimal de formuler le problème comme de la classification binaire.\n",
    "*   Il y a cependant toujours du sur-apprentissage. Vous pouvez donc augmenter la taille de la base de données à 10000, puis tester différentes possibilités pour diminuer ce sous-apprentissage, notamment l'augmentation de données. Les cellules suivantes vous fournissent des éléments permettant de mettre en place cette augmentation."
   ]
  },
  {
   "cell_type": "markdown",
   "id": "8531621d-f9a7-4331-9753-35a2cbbf5a0d",
   "metadata": {
    "id": "JzghttyGTPvq"
   },
   "source": [
    "## Code fourni pour l'augmentation de données\n",
    "\n",
    "Vous trouverez ici quelques éléments qui vous permettront de mettre en place de l'augmentation de données. \n",
    "Attention l'augmentation rend l'apprentissage plus difficile et en fait plus lent, et vous devrez peut-être augmenter un peu la capacité de votre UNet et le nombre d'epochs pour éviter le sous-apprentissage."
   ]
  },
  {
   "cell_type": "markdown",
   "id": "5b39a9d9-40a7-40c4-8ecd-e2d47d9335f9",
   "metadata": {
    "id": "n2U4RIeNTmq_"
   },
   "source": [
    "[`Albumentation`](https://albumentations.ai/) est une librairie implémentant un grand nombre d'opérations d'augmentation de données. Dans le code suivant, deux types d'augmentation sont définies : des transformations spatiales (`ShiftScaleRotate`), et des transformations colorimétriques. "
   ]
  },
  {
   "cell_type": "code",
   "execution_count": null,
   "id": "033e855f-a37b-430a-9318-db807703a936",
   "metadata": {
    "scrolled": true,
    "tags": []
   },
   "outputs": [],
   "source": [
    "!pip install -q -U albumentations\n",
    "!echo \"$(pip freeze | grep albumentations) is successfully installed\""
   ]
  },
  {
   "cell_type": "code",
   "execution_count": null,
   "id": "6dabee57-9296-41c6-83f2-74c3b2931466",
   "metadata": {},
   "outputs": [],
   "source": [
    "import cv2 as cv\n",
    "from albumentations import (Compose, RandomBrightnessContrast, RandomGamma, ShiftScaleRotate)"
   ]
  },
  {
   "cell_type": "code",
   "execution_count": null,
   "id": "20956e11-cef1-4737-ae0e-5417418dd769",
   "metadata": {
    "id": "4E-o7eMQTtE5"
   },
   "outputs": [],
   "source": [
    "AUGMENTATIONS_TRAIN = Compose([\n",
    "    ShiftScaleRotate(p=0.5),\n",
    "    RandomBrightnessContrast(contrast_limit=0.2, brightness_limit=0.2, p=0.5),\n",
    "    RandomGamma(gamma_limit=(80, 120), p=0.5),\n",
    "])"
   ]
  },
  {
   "cell_type": "markdown",
   "id": "229fd065-f59a-42b0-872e-4cac16386423",
   "metadata": {
    "id": "Ac98mnGJTxNu"
   },
   "source": [
    "La classe `Sequence` permet de définir l'accès aux données d'entraînement de manière personnalisée, afin par exemple d'implanter des augmentations particulières (c'est le cas ici).\n",
    "Prenez le temps de comprendre la synthaxe utilisée."
   ]
  },
  {
   "cell_type": "code",
   "execution_count": null,
   "id": "9a4ca843-3309-4486-b8de-e8c0db82ec0d",
   "metadata": {},
   "outputs": [],
   "source": [
    "from tensorflow.keras.utils import Sequence"
   ]
  },
  {
   "cell_type": "code",
   "execution_count": null,
   "id": "62541f0d-39b9-4651-a625-38c360a1b5ef",
   "metadata": {
    "id": "XaGczO0QT0H8"
   },
   "outputs": [],
   "source": [
    "class LSPDSequence(Sequence):\n",
    "    # Initialisation de la séquence avec différents paramètres\n",
    "    def __init__(self, x_set, y_set, batch_size,augmentations):\n",
    "        self.x, self.y = x_set, y_set\n",
    "        self.batch_size = batch_size\n",
    "        self.augment = augmentations\n",
    "        self.indices1 = np.arange(x_set.shape[0]) \n",
    "        np.random.shuffle(self.indices1) # Les indices permettent d'accéder aux données \n",
    "        # et sont randomisés à chaque epoch pour varier la composition des batches au cours de l'entraînement\n",
    "\n",
    "        \n",
    "    # Fonction calculant le nombre de pas de descente du gradient par epoch\n",
    "    def __len__(self):\n",
    "        return int( np.ceil(len(self.x) / float(self.batch_size)) )\n",
    "\n",
    "    \n",
    "    # Application de l'augmentation de données à chaque image du batch et aux cartes de probabilités associées\n",
    "    def apply_augmentation(self, bx, by):\n",
    "\n",
    "        batch_x = np.zeros(bx.shape)\n",
    "        batch_y = np.zeros(by.shape)\n",
    "        # Pour chaque image du batch\n",
    "        for i in range(len(bx)):\n",
    "            masks = []\n",
    "            # Les 14 masques associés à l'image sont rangés dans une liste pour \n",
    "            # pourvoir être traités par la librairie Albumentation\n",
    "            for n in range(by.shape[3]):\n",
    "                masks.append(by[i,:,:,n])\n",
    "\n",
    "            img = bx[i]\n",
    "            # Application de l'augmentation à l'image et aux masques\n",
    "            transformed = self.augment(image=img, masks=masks)\n",
    "            batch_x[i] = transformed['image']\n",
    "            batch_y_list = transformed['masks']\n",
    "\n",
    "            # Reconstitution d'un tenseur à partir des masques augmentés\n",
    "            for k in range(by.shape[3]):\n",
    "                batch_y[i,:,:,k] = batch_y_list[k]\n",
    "\n",
    "        return batch_x, batch_y\n",
    "\n",
    "    \n",
    "    # Fonction appelée à chaque nouveau batch : sélection et augmentation des données\n",
    "    def __getitem__(self, idx):\n",
    "        batch_x = self.x[self.indices1[idx * self.batch_size:(idx + 1) * self.batch_size]]\n",
    "        batch_y = self.y[self.indices1[idx * self.batch_size:(idx + 1) * self.batch_size]]\n",
    "        \n",
    "        batch_x, batch_y = self.apply_augmentation(batch_x, batch_y)\n",
    "\n",
    "        return np.array(batch_x), np.array(batch_y)\n",
    "\n",
    "    \n",
    "    # Fonction appelée à la fin d'un epoch ; on randomise les indices d'accès aux données\n",
    "    def on_epoch_end(self):\n",
    "        np.random.shuffle(self.indices1)"
   ]
  },
  {
   "cell_type": "code",
   "execution_count": null,
   "id": "fa941a77-4490-4d1b-ad34-edfb6db4ff3f",
   "metadata": {
    "colab": {
     "base_uri": "https://localhost:8080/",
     "height": 520
    },
    "id": "NGBI2gXVT399",
    "outputId": "7ffaedf0-158e-4f1f-ae7a-75bcadc91ee8"
   },
   "outputs": [],
   "source": [
    "x_train = x_train.astype(np.float32)\n",
    "y_hm_train = y_hm_train.astype(np.float32)\n",
    "\n",
    "# Instanciation d'une Sequence\n",
    "train_gen = LSPDSequence(x_train, y_hm_train, 16, augmentations=AUGMENTATIONS_TRAIN)\n",
    "\n",
    "# Pour tester la séquence, nous sélectionnons les éléments du premier batch et les affichons\n",
    "batch_x, batch_y = train_gen.__getitem__(0)\n",
    "\n",
    "print_heatmap(batch_x, batch_y)"
   ]
  },
  {
   "cell_type": "markdown",
   "id": "7537222b-e949-4cb9-900e-a14c9c99381d",
   "metadata": {
    "id": "yT-ySEuOUCyh"
   },
   "source": [
    "Pour utiliser cette séquence il vous suffit d'appeler la fonction `fit` de la manière suivante :\n",
    "```python\n",
    "model.fit(train_gen, ...)\n",
    "```"
   ]
  },
  {
   "cell_type": "code",
   "execution_count": null,
   "id": "bcf66112-3b90-4fcc-8cfa-d3a92c5a77a3",
   "metadata": {},
   "outputs": [],
   "source": []
  },
  {
   "cell_type": "code",
   "execution_count": null,
   "id": "5123f4f9-40ec-408c-8d3f-72c6a39d91a4",
   "metadata": {},
   "outputs": [],
   "source": []
  },
  {
   "cell_type": "code",
   "execution_count": null,
   "id": "4510522b-4c3a-4520-9d59-a7f75d2dfe12",
   "metadata": {},
   "outputs": [],
   "source": []
  },
  {
   "cell_type": "code",
   "execution_count": null,
   "id": "64008f84-8ff1-4fc0-95c3-a4b7089a233e",
   "metadata": {},
   "outputs": [],
   "source": []
  },
  {
   "cell_type": "code",
   "execution_count": null,
   "id": "d83940ed-3e9f-4352-9e4f-5c04a154beb2",
   "metadata": {},
   "outputs": [],
   "source": []
  }
 ],
 "metadata": {
  "kernelspec": {
   "display_name": "Python 3 (ipykernel)",
   "language": "python",
   "name": "python3"
  },
  "language_info": {
   "codemirror_mode": {
    "name": "ipython",
    "version": 3
   },
   "file_extension": ".py",
   "mimetype": "text/x-python",
   "name": "python",
   "nbconvert_exporter": "python",
   "pygments_lexer": "ipython3",
   "version": "3.10.13"
  },
  "toc-autonumbering": true
 },
 "nbformat": 4,
 "nbformat_minor": 5
}
