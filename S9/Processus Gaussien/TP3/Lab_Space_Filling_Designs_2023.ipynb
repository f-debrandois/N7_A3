{
 "cells": [
  {
   "cell_type": "markdown",
   "metadata": {},
   "source": [
    "#  <center> **<span style='color:red'>Metamodeling, INSA de Toulouse** </span> </center>\n",
    "\n",
    "# Computer lab  <span style='color:blue'> Space-filling designs</span>\n",
    "\n",
    "A. Marrel and O. Roustant\n",
    "\n",
    "## EXERCISE 1) Maximin DoE\n",
    "\n",
    "**Question 1.a)** Create a *maximin* design of experiments (DoE) on $[0, 1]^2$ with 9 points.<br/>\n",
    "The random search optimization consists in generating at random a large number of uniform designs and to select the one that has the maximum value of the minimal distance between design points (called here *mindist* criterion). The function `mindist` (package `DiceDesign`) computes the mindist criterion.<br/>\n",
    "Plot this DoE and compare it with a uniform design."
   ]
  },
  {
   "cell_type": "code",
   "execution_count": 10,
   "metadata": {
    "vscode": {
     "languageId": "r"
    }
   },
   "outputs": [
    {
     "name": "stdout",
     "output_type": "stream",
     "text": [
      "Documentation pour le package ‘DiceDesign’\n",
      "\n",
      "\n",
      "\t\tInformation sur le package ‘DiceDesign’\n",
      "\n",
      "Description :\n",
      "\n",
      "Package:            DiceDesign\n",
      "Type:               Package\n",
      "Title:              Designs of Computer Experiments\n",
      "Version:            1.10\n",
      "Date:               2023-11-30\n",
      "Author:             Jessica Franco, Delphine Dupuy, Olivier Roustant,\n",
      "                    Patrice Kiener, Guillaume Damblin and Bertrand\n",
      "                    Iooss.\n",
      "Maintainer:         Celine Helbert <Celine.Helbert@ec-lyon.fr>\n",
      "Description:        Space-Filling Designs and space-filling criteria\n",
      "                    (distance-based and uniformity-based), with\n",
      "                    emphasis to computer experiments;\n",
      "                    <doi:10.18637/jss.v065.i11>.\n",
      "License:            GPL-3\n",
      "Depends:            R (>= 2.10)\n",
      "Suggests:           rgl, randtoolbox, lattice\n",
      "Encoding:           UTF-8\n",
      "NeedsCompilation:   yes\n",
      "LazyData:           true\n",
      "Packaged:           2023-12-07 08:35:30 UTC; chelbert\n",
      "Repository:         CRAN\n",
      "Date/Publication:   2023-12-07 12:00:10 UTC\n",
      "Built:              R 4.4.1; x86_64-pc-linux-gnu; 2024-09-19 12:30:10\n",
      "                    UTC; unix\n",
      "\n",
      "Index :\n",
      "\n",
      "DiceDesign-package      Designs of Computer Experiments\n",
      "NOLHDRdesigns           List of De Rainville's Nearly Orthogonal Latin\n",
      "                        Hypercubes designs\n",
      "NOLHdesigns             List of Cioppa's Nearly Orthogonal Latin\n",
      "                        Hypercubes designs\n",
      "OA131                   A 3D orthogonal array of strength 2\n",
      "OA131_scrambled         A scrambled 3D orthogonal array of strength 2\n",
      "coverage                Coverage\n",
      "discrepESE_LHS          Enhanced Stochastic Evolutionnary (ESE)\n",
      "                        algorithm for Latin Hypercube Sample (LHS)\n",
      "                        optimization via L2-discrepancy criteria\n",
      "discrepSA_LHS           Simulated annealing (SA) routine for Latin\n",
      "                        Hypercube Sample (LHS) optimization via\n",
      "                        L2-discrepancy criteria\n",
      "discrepancyCriteria     Discrepancy measure\n",
      "dmaxDesign              Maximum Entropy Designs\n",
      "factDesign              Full Factorial Designs\n",
      "faureprimeDesign        A special case of the low discrepancy Faure\n",
      "                        sequence\n",
      "lhsDesign               Latin Hypercube Designs\n",
      "maximinESE_LHS          Enhanced Stochastic Evolutionnary (ESE)\n",
      "                        algorithm for Latin Hypercube Sample (LHS)\n",
      "                        optimization via phiP criteria\n",
      "maximinSA_LHS           Simulated annealing (SA) routine for Latin\n",
      "                        Hypercube Sample (LHS) optimization via phiP\n",
      "                        criteria\n",
      "meshRatio               MeshRatio measure\n",
      "mindist                 Mindist measure\n",
      "mstCriteria             Deriving the MST criteria\n",
      "nolhDesign              Cioppa's Nearly Orthogonal Latin Hypercube\n",
      "                        Designs\n",
      "nolhdrDesign            De Rainville's Nearly Orthogonal Latin\n",
      "                        Hypercube Designs\n",
      "olhDesign               Nguyen's Orthogonal Latin Hypercube Designs\n",
      "phiP                    phiP criterion\n",
      "rss2d                   2D graphical tool for defect detection of\n",
      "                        Space-Filling Designs.\n",
      "rss3d                   3D graphical tool for defect detection of\n",
      "                        Space-Filling Designs.\n",
      "runif.faure             Low discrepancy sequence : Faure\n",
      "scaleDesign             Scale a Design\n",
      "straussDesign           Designs based on Strauss process\n",
      "unif.test.quantile      Quantile of some uniformity tests\n",
      "unif.test.statistic     Statistic of some uniformity tests\n",
      "unscaleDesign           Unscale a Design\n",
      "wspDesign               WSP algorithm\n",
      "xDRDN                   Extract a Design and Give it a Range and\n",
      "                        Dimnames"
     ]
    },
    {
     "name": "stdout",
     "output_type": "stream",
     "text": [
      "mindist               package:DiceDesign               R Documentation\n",
      "\n",
      "_\bM_\bi_\bn_\bd_\bi_\bs_\bt _\bm_\be_\ba_\bs_\bu_\br_\be\n",
      "\n",
      "_\bD_\be_\bs_\bc_\br_\bi_\bp_\bt_\bi_\bo_\bn:\n",
      "\n",
      "     Compute the ‘mindist’ criterion (also called maximin)\n",
      "\n",
      "_\bU_\bs_\ba_\bg_\be:\n",
      "\n",
      "     mindist(design)\n",
      "     \n",
      "_\bA_\br_\bg_\bu_\bm_\be_\bn_\bt_\bs:\n",
      "\n",
      "  design: a matrix (or a data.frame) representing the design of\n",
      "          experiments in the unit cube [0,1]^d. If this last condition\n",
      "          is not fulfilled, a transformation into [0,1]^{d} is applied\n",
      "          before the computation of the criteria.\n",
      "\n",
      "_\bD_\be_\bt_\ba_\bi_\bl_\bs:\n",
      "\n",
      "     The mindist criterion is defined by\n",
      "\n",
      "                        mindist = min (g_1, ... g_n)                    \n",
      "     \n",
      "     where g_i is the minimal distance between the point x_i and the\n",
      "     other points x_k of the ‘design’.\n",
      "\n",
      "     A higher value corresponds to a more regular scaterring of design\n",
      "     points.\n",
      "\n",
      "_\bV_\ba_\bl_\bu_\be:\n",
      "\n",
      "     A real number equal to the value of the mindist criterion for the\n",
      "     ‘design’.\n",
      "\n",
      "_\bA_\bu_\bt_\bh_\bo_\br(_\bs):\n",
      "\n",
      "     J. Franco\n",
      "\n",
      "_\bR_\be_\bf_\be_\br_\be_\bn_\bc_\be_\bs:\n",
      "\n",
      "     Gunzburer M., Burkdart J. (2004), Uniformity measures for point\n",
      "     samples in hypercubes, <https://people.sc.fsu.edu/~jburkardt/>.\n",
      "\n",
      "     Jonshon M.E., Moore L.M. and Ylvisaker D. (1990), Minmax and\n",
      "     maximin distance designs, _J. of Statis. Planning and Inference_,\n",
      "     26, 131-148.\n",
      "\n",
      "     Chen V.C.P., Tsui K.L., Barton R.R. and Allen J.K. (2003), A\n",
      "     review of design and modeling in computer experiments, _Handbook\n",
      "     of Statistics_, 22, 231-261.\n",
      "\n",
      "_\bS_\be_\be _\bA_\bl_\bs_\bo:\n",
      "\n",
      "     other distance criteria like ‘meshRatio’ and ‘phiP’, discrepancy\n",
      "     measures provided by ‘discrepancyCriteria’.\n",
      "\n",
      "_\bE_\bx_\ba_\bm_\bp_\bl_\be_\bs:\n",
      "\n",
      "     dimension <- 2\n",
      "     n <- 40\n",
      "     X <- matrix(runif(n*dimension), n, dimension)\n",
      "     mindist(X)\n",
      "     "
     ]
    }
   ],
   "source": [
    "rm(list = ls())\n",
    "graphics.off()\n",
    "\n",
    "library(randtoolbox)\n",
    "\n",
    "library(DiceDesign)\n",
    "help(package = \"DiceDesign\")\n",
    "?mindist   # minimal distance in DoE"
   ]
  },
  {
   "cell_type": "code",
   "execution_count": 11,
   "metadata": {
    "vscode": {
     "languageId": "r"
    }
   },
   "outputs": [
    {
     "data": {
      "image/png": "[encoded data removed]",
      "text/plain": [
       "plot without title"
      ]
     },
     "metadata": {
      "image/png": {
       "height": 420,
       "width": 420
      }
     },
     "output_type": "display_data"
    }
   ],
   "source": [
    "# generate a uniform design on [0, 1]^2\n",
    "n <- 9\n",
    "x0 <- matrix(runif(2*n), nrow = n, ncol = 2)\n",
    "plot(x0)"
   ]
  },
  {
   "cell_type": "code",
   "execution_count": 12,
   "metadata": {
    "vscode": {
     "languageId": "r"
    }
   },
   "outputs": [
    {
     "ename": "ERROR",
     "evalue": "Error in eval(expr, envir, enclos): objet 'x' introuvable\n",
     "output_type": "error",
     "traceback": [
      "Error in eval(expr, envir, enclos): objet 'x' introuvable\nTraceback:\n",
      "1. plot(x, main = \"Uniform DoE\")"
     ]
    }
   ],
   "source": [
    "?runif\n",
    "#?mindist\n",
    "\n",
    "# implement a random search method to maximize the mindist criterion \n",
    "critere <- mindist(x0) # Initialise the mindist criterion\n",
    "\n",
    "for (i in 1:1000){\n",
    "  xnew <- matrix(runif(2), nrow = 1, ncol = 2) # Generate a new LHD candidate\n",
    "  if (mindist(rbind(x0, xnew)) > critere) { # Test if better, and update if yes  \n",
    "    x2 <- xnew\n",
    "    critere <- mindist(rbind(x0, x2))\n",
    "  }\n",
    "}\n",
    "\n",
    "# Print\n",
    "par(mfrow = c(2,2))\n",
    "plot(x, main = \"Uniform DoE\")\n",
    "plot(x1, main = \"Maximin DoE\")\n",
    "cat(\"Mindist criterion for the uniform DoE = \", mindist(x), \"\\n\")\n",
    "cat(\"Mindist criterion for the maximal DoE = \", mindist(x1), \"\\n\")"
   ]
  },
  {
   "cell_type": "markdown",
   "metadata": {},
   "source": [
    "**Question 1.b)** Create a 2D full factorial design (i.e. a grid) with 3 points per dimension. Use the function `factDesign()` of the package `DiceDesign`. Visualize this DoE, and compare it in terms of *mindist* criterion."
   ]
  },
  {
   "cell_type": "code",
   "execution_count": null,
   "metadata": {
    "vscode": {
     "languageId": "r"
    }
   },
   "outputs": [],
   "source": [
    "?factDesign"
   ]
  },
  {
   "cell_type": "code",
   "execution_count": null,
   "metadata": {
    "vscode": {
     "languageId": "r"
    }
   },
   "outputs": [],
   "source": [
    "# Create a full factorial design\n",
    "x2 <- ???  ...\n",
    "x2 \n",
    "\n",
    "# Comparison with previous results\n",
    "par(mfrow = c(2,2)) \n",
    "plot(x, main = \"Uniform DoE\")\n",
    "plot(x1, main = \"Maximin DoE\")\n",
    "plot(x2$design, main = \"Factorial DoE\")"
   ]
  },
  {
   "cell_type": "code",
   "execution_count": null,
   "metadata": {
    "vscode": {
     "languageId": "r"
    }
   },
   "outputs": [],
   "source": [
    "# Minimal distance in DoE\n",
    "cat(\"Mindist criterion for the uniform DoE = \", mindist(x), \"\\n\")\n",
    "cat(\"Mindist criterion for the maximal DoE = \", mindist(x1), \"\\n\")\n",
    "cat(\"Mindist criterion for the factorial DoE = \", mindist(x2), \"\\n\")"
   ]
  },
  {
   "cell_type": "markdown",
   "metadata": {},
   "source": [
    "**Question 1.c)** Although the factorial DoE may have a better maximin value, why is it not recommended to use it for exploring a deterministic computer code?"
   ]
  },
  {
   "cell_type": "markdown",
   "metadata": {},
   "source": [
    "..."
   ]
  },
  {
   "cell_type": "markdown",
   "metadata": {},
   "source": [
    "## EXERCISE 2) Low discrepancy sequences (LDS)\n",
    "\n",
    "**Question 2.a)** Build a 2D Sobol LDS of $9$ points, using the function `sobol` of package `randtoolbox`. Plot this DoE and compare its *maximin* value."
   ]
  },
  {
   "cell_type": "code",
   "execution_count": null,
   "metadata": {
    "vscode": {
     "languageId": "r"
    }
   },
   "outputs": [],
   "source": [
    "library(randtoolbox)\n",
    " ?sobol"
   ]
  },
  {
   "cell_type": "code",
   "execution_count": null,
   "metadata": {
    "vscode": {
     "languageId": "r"
    }
   },
   "outputs": [],
   "source": [
    "x3 <- ??? \n",
    "plot(x3, main = \"Sobol\")\n",
    "cat(\"Mindist criterion for the Sobol LDS = \", mindist(x3), \"\\n\")"
   ]
  },
  {
   "cell_type": "markdown",
   "metadata": {},
   "source": [
    "**Question 2.b)** Compute the modified and centered discrepancy of this DoE and the three previous ones. Compare them. Use the function `discrepancyCriteria` of `DiceDesign`."
   ]
  },
  {
   "cell_type": "code",
   "execution_count": null,
   "metadata": {
    "vscode": {
     "languageId": "r"
    }
   },
   "outputs": [],
   "source": [
    "?discrepancyCriteria"
   ]
  },
  {
   "cell_type": "code",
   "execution_count": null,
   "metadata": {
    "vscode": {
     "languageId": "r"
    }
   },
   "outputs": [],
   "source": [
    "dis_MC <- discrepancyCriteria( ?? , type = c('M2', 'C2')) \n",
    "dis_Maximin <- discrepancyCriteria( ?? , type = c('M2', 'C2')) \n",
    "dis_Fact <- discrepancyCriteria( ?? , type = c('M2', 'C2')) \n",
    "dis_Sobol <- discrepancyCriteria( ?? , type = c('M2', 'C2')) \n",
    "# Affichage des valeurs\n",
    "cat(\"Discrepancy criteria M2 and C2 for the uniform DoE = \", dis_MC$DisM2, \" - \", dis_MC$DisC2, \"\\n\")\n",
    "cat(\"Discrepancy criteria M2 and C2 for the maximin DoE = \", dis_Maximin$DisM2, \" - \", dis_Maximin$DisC2, \"\\n\")\n",
    "cat(\"Discrepancy criteria M2 and C2 for the factorial DoE = \", dis_Fact $DisM2, \" - \", dis_Fact $DisC2, \"\\n\")\n",
    "cat(\"Discrepancy criteria M2 and C2 for the Sobol LDS = \", dis_Sobol$DisM2, \" - \", dis_Sobol$DisC2, \"\\n\")"
   ]
  },
  {
   "cell_type": "markdown",
   "metadata": {},
   "source": [
    "**Question 2.c)** Build a 8D Halton LDS of $200$ points with function `halton` of package `randtoolbox`. Represent the *scatterplots* of this DoE with function `pairs()`."
   ]
  },
  {
   "cell_type": "code",
   "execution_count": null,
   "metadata": {
    "vscode": {
     "languageId": "r"
    }
   },
   "outputs": [],
   "source": [
    "?halton\n",
    "x4 <- ???\n",
    "pairs(x4, pch = \".\", cex = 3)"
   ]
  },
  {
   "cell_type": "markdown",
   "metadata": {},
   "source": [
    "What kind of anomalies can you see? What problems may be encountered for metamodeling?"
   ]
  },
  {
   "cell_type": "markdown",
   "metadata": {},
   "source": [
    "..."
   ]
  },
  {
   "cell_type": "markdown",
   "metadata": {},
   "source": [
    "**Question 2.d)** Repeat **2.c)** with a Sobol sequence."
   ]
  },
  {
   "cell_type": "code",
   "execution_count": null,
   "metadata": {
    "vscode": {
     "languageId": "r"
    }
   },
   "outputs": [],
   "source": [
    "x5 <- ??? \n",
    "pairs(x5, pch = \".\", cex = 3)"
   ]
  },
  {
   "cell_type": "markdown",
   "metadata": {},
   "source": [
    "**Question 2.e)** One problem with LDS is that their space-filling properties are not stable by projection. To detect alignements in projected 2D (or 3D) subspaces, a tool has been developed: the radial scanning statistic (RSS).<br/>\n",
    "The 2D version of RSS angularly scans all the directions of each 2D subspace. For each direction, it makes a uniformity test of the projected points under the null hypothesis $H_0$ : the design points are drawn from a uniform distribution on $[-1, 1]^d$.\n",
    "This technique is available in the function `rss2d()` of package ` DiceDesign `. Apply it for the Sobol sequence."
   ]
  },
  {
   "cell_type": "code",
   "execution_count": null,
   "metadata": {
    "vscode": {
     "languageId": "r"
    }
   },
   "outputs": [],
   "source": [
    "?rss2d()\n",
    "rss2d(  )"
   ]
  },
  {
   "cell_type": "markdown",
   "metadata": {},
   "source": [
    "# EXERCISE 3) Latin hypercube design (LHD)\n",
    "\n",
    "**Question 3.a)** Implement the algorithm described in the textbook to sample at random a LHD."
   ]
  },
  {
   "cell_type": "code",
   "execution_count": null,
   "metadata": {
    "vscode": {
     "languageId": "r"
    }
   },
   "outputs": [],
   "source": [
    "?sample\n",
    "lhs <- function(N,p){\n",
    "  ran <- ???                           # sampling of N x p values from U[0,1]\n",
    "  x <- matrix(NA, nrow = N, ncol = p)  # initialization \n",
    "    \n",
    "  # For each dimension\n",
    "    for (i in 1:p){\n",
    "      idx <- ???    # sample a random permutation of integers {1,2,…,N}\n",
    "      x[,i] <- ???  # remove a random perturbation (ran[,i]) in the cell and rescale to [0,1] (division by N)\n",
    "    }  \n",
    "    return(x)\n",
    "}"
   ]
  },
  {
   "cell_type": "markdown",
   "metadata": {},
   "source": [
    "**Question 3.b)** Build a 2D LHD of $20$ points."
   ]
  },
  {
   "cell_type": "code",
   "execution_count": null,
   "metadata": {
    "vscode": {
     "languageId": "r"
    }
   },
   "outputs": [],
   "source": [
    "?lhs\n",
    "x1 <- ??? \n",
    "x1\n",
    "plot(x1, main = \"LHS\")"
   ]
  },
  {
   "cell_type": "markdown",
   "metadata": {},
   "source": [
    "**Question 3.c)** Build with two different methods a maximin LHD (i.e. a LHD that maximizes the *mindist* criterion).\n",
    "\n",
    "   - **Methode 1 (random search):** Sample at random a large number of LHDs and keep the one that maximizes the  *mindist* value."
   ]
  },
  {
   "cell_type": "code",
   "execution_count": null,
   "metadata": {
    "vscode": {
     "languageId": "r"
    }
   },
   "outputs": [],
   "source": [
    "n <- 20 \n",
    "d <- 2  \n",
    "n_loop <- 10000 # Number of LHDs sampled at random\n",
    "\n",
    "x2 <- ??? # Create a first LHD \n",
    "critere <- ??? # Initialise the mindist criterion\n",
    "\n",
    "for (i in 1:n_loop){\n",
    "  xnew <- ??? # Generate a new LHD candidate\n",
    "  if ( ???) # Test if better, and update if yes\n",
    "  { \n",
    "    x2 <- xnew\n",
    "    critere <- mindist(xnew)\n",
    "  }\n",
    "}"
   ]
  },
  {
   "cell_type": "code",
   "execution_count": null,
   "metadata": {
    "vscode": {
     "languageId": "r"
    }
   },
   "outputs": [],
   "source": [
    "plot(x2, main = \"LHS Maximin - Methode 1\")"
   ]
  },
  {
   "cell_type": "markdown",
   "metadata": {},
   "source": [
    " - **Method 2 :** Use directly the function `maximinESE_LHS()` of `DiceDesign`, that optimizes the criterion with  an evolutionary strategy (genetic algorithm)."
   ]
  },
  {
   "cell_type": "code",
   "execution_count": null,
   "metadata": {
    "vscode": {
     "languageId": "r"
    }
   },
   "outputs": [],
   "source": [
    "?maximinESE_LHS\n",
    "xinit <- ??? # a first LHD, used to initialize the algorithm\n",
    "x3 <- ???  # design obtained with maximinESE_LHS()"
   ]
  },
  {
   "cell_type": "markdown",
   "metadata": {},
   "source": [
    "Compare them with a standard LHD and a uniform design, graphically and numerically by computing the *mindist* criterion."
   ]
  },
  {
   "cell_type": "code",
   "execution_count": null,
   "metadata": {
    "vscode": {
     "languageId": "r"
    }
   },
   "outputs": [],
   "source": [
    "x0 <- matrix(runif(n*d), nrow = n, ncol = d) # uniform design\n",
    "\n",
    "par(mfcol = c(2, 2))\n",
    "plot(x0, main = \"Uniform design\")\n",
    "plot(x1, main = \"Random LHD\")\n",
    "plot(xnew, main = \"Maximin LHD (method 1, random search) \")\n",
    "plot(x3, main = \"Maximin LHD (method 2, evolutionary strategy)\")"
   ]
  },
  {
   "cell_type": "code",
   "execution_count": null,
   "metadata": {
    "vscode": {
     "languageId": "r"
    }
   },
   "outputs": [],
   "source": [
    "cat(\"Mindist criterion for a uniform DoE:\", mindist(x0), '\\n')\n",
    "cat(\"Mindist criterion for a random LHD:\", mindist(x1), '\\n')\n",
    "cat(\"Mindist criterion for a maximin LHD (method 1):\", mindist(xnew), '\\n')\n",
    "cat(\"Mindist criterion for a maximin LHD (method 2):\", mindist(x3), '\\n')"
   ]
  },
  {
   "cell_type": "markdown",
   "metadata": {},
   "source": [
    "# EXERCISE 4) Optimal MMD designs\n",
    "Here we adapt the random search algorithm of Exercise 1 in order to generate DoEs that minimize the Maximum Mean Discrepancy (MMD), using the squared exponential kernel. Integrals are approximated by their sample mean approximation. "
   ]
  },
  {
   "cell_type": "code",
   "execution_count": null,
   "metadata": {
    "vscode": {
     "languageId": "r"
    }
   },
   "outputs": [],
   "source": [
    "# Let us first compute the MMD\n",
    "\n",
    "SEkernel <- function(x, y){\n",
    "  # x, y : 2 matrix with two columns\n",
    "  d <- ncol(x)\n",
    "  S <- matrix(0, nrow(x), nrow(y))\n",
    "  for (j in 1:d){\n",
    "    d <- outer(x[, j], y[, j], '-')\n",
    "    S <- S + d^2\n",
    "  }\n",
    "  exp(- S / 0.2^2)\n",
    "} \n",
    "\n",
    "MMD <- function(k, x, xSample){\n",
    "    # x: DoE\n",
    "    # xSample : used to compute \\int k(x_i, x) dx \n",
    "    # here you can skip the term \\int\\int k(x,y) dxdy, as it does not depend on the DoE\n",
    "    ??\n",
    "}\n",
    "\n",
    "\n",
    "N <- 10000\n",
    "n <- 9\n",
    "\n",
    "set.seed(0)\n",
    "xSample <- matrix(runif(2*N), N, 2)   # for the uniform distribution\n",
    "x0 <- ??   # uniform design for instance\n",
    "MMD(k = SEkernel, x = x0, xSample)"
   ]
  },
  {
   "cell_type": "code",
   "execution_count": null,
   "metadata": {
    "vscode": {
     "languageId": "r"
    }
   },
   "outputs": [],
   "source": [
    "# Random search algorithm\n",
    "critere <- Inf\n",
    "set.seed(0)\n",
    "for (i in 1:10000){\n",
    "  x <- matrix(runif(n = 2*n), nrow = n, ncol = 2)\n",
    "  MMDvalue <- ??\n",
    "  if ( ?? ){ # Keep the current design it is has a better MMD\n",
    "    xMMD <- x\n",
    "    critere <- MMDvalue\n",
    "  }\n",
    "}\n",
    "\n",
    "plot(xMMD)\n"
   ]
  }
 ],
 "metadata": {
  "kernelspec": {
   "display_name": "R",
   "language": "R",
   "name": "ir"
  },
  "language_info": {
   "codemirror_mode": "r",
   "file_extension": ".r",
   "mimetype": "text/x-r-source",
   "name": "R",
   "pygments_lexer": "r",
   "version": "4.4.1"
  },
  "toc": {
   "base_numbering": 1,
   "nav_menu": {},
   "number_sections": true,
   "sideBar": true,
   "skip_h1_title": false,
   "title_cell": "Table of Contents",
   "title_sidebar": "Contents",
   "toc_cell": false,
   "toc_position": {},
   "toc_section_display": true,
   "toc_window_display": false
  }
 },
 "nbformat": 4,
 "nbformat_minor": 2
}
