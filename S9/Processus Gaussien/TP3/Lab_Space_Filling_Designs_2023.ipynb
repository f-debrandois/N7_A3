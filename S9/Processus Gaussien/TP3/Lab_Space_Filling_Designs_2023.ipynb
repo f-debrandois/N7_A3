{
 "cells": [
  {
   "cell_type": "markdown",
   "metadata": {},
   "source": [
    "#  <center> **<span style='color:red'>Metamodeling, INSA de Toulouse** </span> </center>\n",
    "\n",
    "# Computer lab  <span style='color:blue'> Space-filling designs</span>\n",
    "\n",
    "A. Marrel and O. Roustant\n",
    "\n",
    "## EXERCISE 1) Maximin DoE\n",
    "\n",
    "**Question 1.a)** Create a *maximin* design of experiments (DoE) on $[0, 1]^2$ with 9 points.<br/>\n",
    "The random search optimization consists in generating at random a large number of uniform designs and to select the one that has the maximum value of the minimal distance between design points (called here *mindist* criterion). The function `mindist` (package `DiceDesign`) computes the mindist criterion.<br/>\n",
    "Plot this DoE and compare it with a uniform design."
   ]
  },
  {
   "cell_type": "code",
<<<<<<< HEAD
   "execution_count": 10,
   "metadata": {
    "vscode": {
     "languageId": "r"
    }
   },
   "outputs": [
    {
     "name": "stdout",
     "output_type": "stream",
     "text": [
      "Documentation pour le package ‘DiceDesign’\n",
      "\n",
      "\n",
      "\t\tInformation sur le package ‘DiceDesign’\n",
      "\n",
      "Description :\n",
      "\n",
      "Package:            DiceDesign\n",
      "Type:               Package\n",
      "Title:              Designs of Computer Experiments\n",
      "Version:            1.10\n",
      "Date:               2023-11-30\n",
      "Author:             Jessica Franco, Delphine Dupuy, Olivier Roustant,\n",
      "                    Patrice Kiener, Guillaume Damblin and Bertrand\n",
      "                    Iooss.\n",
      "Maintainer:         Celine Helbert <Celine.Helbert@ec-lyon.fr>\n",
      "Description:        Space-Filling Designs and space-filling criteria\n",
      "                    (distance-based and uniformity-based), with\n",
      "                    emphasis to computer experiments;\n",
      "                    <doi:10.18637/jss.v065.i11>.\n",
      "License:            GPL-3\n",
      "Depends:            R (>= 2.10)\n",
      "Suggests:           rgl, randtoolbox, lattice\n",
      "Encoding:           UTF-8\n",
      "NeedsCompilation:   yes\n",
      "LazyData:           true\n",
      "Packaged:           2023-12-07 08:35:30 UTC; chelbert\n",
      "Repository:         CRAN\n",
      "Date/Publication:   2023-12-07 12:00:10 UTC\n",
      "Built:              R 4.4.1; x86_64-pc-linux-gnu; 2024-09-19 12:30:10\n",
      "                    UTC; unix\n",
      "\n",
      "Index :\n",
      "\n",
      "DiceDesign-package      Designs of Computer Experiments\n",
      "NOLHDRdesigns           List of De Rainville's Nearly Orthogonal Latin\n",
      "                        Hypercubes designs\n",
      "NOLHdesigns             List of Cioppa's Nearly Orthogonal Latin\n",
      "                        Hypercubes designs\n",
      "OA131                   A 3D orthogonal array of strength 2\n",
      "OA131_scrambled         A scrambled 3D orthogonal array of strength 2\n",
      "coverage                Coverage\n",
      "discrepESE_LHS          Enhanced Stochastic Evolutionnary (ESE)\n",
      "                        algorithm for Latin Hypercube Sample (LHS)\n",
      "                        optimization via L2-discrepancy criteria\n",
      "discrepSA_LHS           Simulated annealing (SA) routine for Latin\n",
      "                        Hypercube Sample (LHS) optimization via\n",
      "                        L2-discrepancy criteria\n",
      "discrepancyCriteria     Discrepancy measure\n",
      "dmaxDesign              Maximum Entropy Designs\n",
      "factDesign              Full Factorial Designs\n",
      "faureprimeDesign        A special case of the low discrepancy Faure\n",
      "                        sequence\n",
      "lhsDesign               Latin Hypercube Designs\n",
      "maximinESE_LHS          Enhanced Stochastic Evolutionnary (ESE)\n",
      "                        algorithm for Latin Hypercube Sample (LHS)\n",
      "                        optimization via phiP criteria\n",
      "maximinSA_LHS           Simulated annealing (SA) routine for Latin\n",
      "                        Hypercube Sample (LHS) optimization via phiP\n",
      "                        criteria\n",
      "meshRatio               MeshRatio measure\n",
      "mindist                 Mindist measure\n",
      "mstCriteria             Deriving the MST criteria\n",
      "nolhDesign              Cioppa's Nearly Orthogonal Latin Hypercube\n",
      "                        Designs\n",
      "nolhdrDesign            De Rainville's Nearly Orthogonal Latin\n",
      "                        Hypercube Designs\n",
      "olhDesign               Nguyen's Orthogonal Latin Hypercube Designs\n",
      "phiP                    phiP criterion\n",
      "rss2d                   2D graphical tool for defect detection of\n",
      "                        Space-Filling Designs.\n",
      "rss3d                   3D graphical tool for defect detection of\n",
      "                        Space-Filling Designs.\n",
      "runif.faure             Low discrepancy sequence : Faure\n",
      "scaleDesign             Scale a Design\n",
      "straussDesign           Designs based on Strauss process\n",
      "unif.test.quantile      Quantile of some uniformity tests\n",
      "unif.test.statistic     Statistic of some uniformity tests\n",
      "unscaleDesign           Unscale a Design\n",
      "wspDesign               WSP algorithm\n",
      "xDRDN                   Extract a Design and Give it a Range and\n",
      "                        Dimnames"
     ]
    },
    {
     "name": "stdout",
     "output_type": "stream",
     "text": [
      "mindist               package:DiceDesign               R Documentation\n",
      "\n",
      "_\bM_\bi_\bn_\bd_\bi_\bs_\bt _\bm_\be_\ba_\bs_\bu_\br_\be\n",
      "\n",
      "_\bD_\be_\bs_\bc_\br_\bi_\bp_\bt_\bi_\bo_\bn:\n",
      "\n",
      "     Compute the ‘mindist’ criterion (also called maximin)\n",
      "\n",
      "_\bU_\bs_\ba_\bg_\be:\n",
      "\n",
      "     mindist(design)\n",
      "     \n",
      "_\bA_\br_\bg_\bu_\bm_\be_\bn_\bt_\bs:\n",
      "\n",
      "  design: a matrix (or a data.frame) representing the design of\n",
      "          experiments in the unit cube [0,1]^d. If this last condition\n",
      "          is not fulfilled, a transformation into [0,1]^{d} is applied\n",
      "          before the computation of the criteria.\n",
      "\n",
      "_\bD_\be_\bt_\ba_\bi_\bl_\bs:\n",
      "\n",
      "     The mindist criterion is defined by\n",
      "\n",
      "                        mindist = min (g_1, ... g_n)                    \n",
      "     \n",
      "     where g_i is the minimal distance between the point x_i and the\n",
      "     other points x_k of the ‘design’.\n",
      "\n",
      "     A higher value corresponds to a more regular scaterring of design\n",
      "     points.\n",
      "\n",
      "_\bV_\ba_\bl_\bu_\be:\n",
      "\n",
      "     A real number equal to the value of the mindist criterion for the\n",
      "     ‘design’.\n",
      "\n",
      "_\bA_\bu_\bt_\bh_\bo_\br(_\bs):\n",
      "\n",
      "     J. Franco\n",
      "\n",
      "_\bR_\be_\bf_\be_\br_\be_\bn_\bc_\be_\bs:\n",
      "\n",
      "     Gunzburer M., Burkdart J. (2004), Uniformity measures for point\n",
      "     samples in hypercubes, <https://people.sc.fsu.edu/~jburkardt/>.\n",
      "\n",
      "     Jonshon M.E., Moore L.M. and Ylvisaker D. (1990), Minmax and\n",
      "     maximin distance designs, _J. of Statis. Planning and Inference_,\n",
      "     26, 131-148.\n",
      "\n",
      "     Chen V.C.P., Tsui K.L., Barton R.R. and Allen J.K. (2003), A\n",
      "     review of design and modeling in computer experiments, _Handbook\n",
      "     of Statistics_, 22, 231-261.\n",
      "\n",
      "_\bS_\be_\be _\bA_\bl_\bs_\bo:\n",
      "\n",
      "     other distance criteria like ‘meshRatio’ and ‘phiP’, discrepancy\n",
      "     measures provided by ‘discrepancyCriteria’.\n",
      "\n",
      "_\bE_\bx_\ba_\bm_\bp_\bl_\be_\bs:\n",
      "\n",
      "     dimension <- 2\n",
      "     n <- 40\n",
      "     X <- matrix(runif(n*dimension), n, dimension)\n",
      "     mindist(X)\n",
      "     "
     ]
    }
   ],
=======
   "execution_count": null,
   "metadata": {},
   "outputs": [],
>>>>>>> bed1805374bae11a56510053a4d64efbd0830901
   "source": [
    "rm(list = ls())\n",
    "graphics.off()\n",
    "\n",
    "library(randtoolbox)\n",
    "\n",
    "library(DiceDesign)\n",
    "help(package = \"DiceDesign\")\n",
    "?mindist   # minimal distance in DoE"
   ]
  },
  {
   "cell_type": "code",
<<<<<<< HEAD
   "execution_count": 11,
   "metadata": {
    "vscode": {
     "languageId": "r"
    }
   },
   "outputs": [
    {
     "data": {
      "image/png": "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",
=======
   "execution_count": 1,
   "metadata": {},
   "outputs": [
    {
     "data": {
      "image/png": "iVBORw0KGgoAAAANSUhEUgAAA0gAAANICAYAAAD958/bAAAEDmlDQ1BrQ0dDb2xvclNwYWNl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",
>>>>>>> bed1805374bae11a56510053a4d64efbd0830901
      "text/plain": [
       "plot without title"
      ]
     },
     "metadata": {
      "image/png": {
       "height": 420,
       "width": 420
      }
     },
     "output_type": "display_data"
    }
   ],
   "source": [
    "# generate a uniform design on [0, 1]^2\n",
    "n <- 9\n",
    "x0 <- matrix(runif(2*n), nrow = n, ncol = 2)\n",
    "plot(x0)"
   ]
  },
  {
   "cell_type": "code",
<<<<<<< HEAD
   "execution_count": 12,
   "metadata": {
    "vscode": {
     "languageId": "r"
    }
   },
   "outputs": [
    {
     "ename": "ERROR",
     "evalue": "Error in eval(expr, envir, enclos): objet 'x' introuvable\n",
     "output_type": "error",
     "traceback": [
      "Error in eval(expr, envir, enclos): objet 'x' introuvable\nTraceback:\n",
      "1. plot(x, main = \"Uniform DoE\")"
     ]
    }
   ],
=======
   "execution_count": null,
   "metadata": {},
   "outputs": [],
>>>>>>> bed1805374bae11a56510053a4d64efbd0830901
   "source": [
    "?runif\n",
    "#?mindist\n",
    "\n",
    "# implement a random search method to maximize the mindist criterion \n",
<<<<<<< HEAD
    "critere <- mindist(x0) # Initialise the mindist criterion\n",
    "\n",
    "for (i in 1:1000){\n",
    "  xnew <- matrix(runif(2), nrow = 1, ncol = 2) # Generate a new LHD candidate\n",
    "  if (mindist(rbind(x0, xnew)) > critere) { # Test if better, and update if yes  \n",
    "    x2 <- xnew\n",
    "    critere <- mindist(rbind(x0, x2))\n",
=======
    "critere <- ??? # Initialise the mindist criterion\n",
    "\n",
    "for (i in 1:1000){\n",
    "  xnew <- ??? # Generate a new LHD candidate\n",
    "  if ( ???) # Test if better, and update if yes\n",
    "  { \n",
    "    x2 <- xnew\n",
    "    critere <- ??\n",
>>>>>>> bed1805374bae11a56510053a4d64efbd0830901
    "  }\n",
    "}\n",
    "\n",
    "# Print\n",
    "par(mfrow = c(2,2))\n",
    "plot(x, main = \"Uniform DoE\")\n",
    "plot(x1, main = \"Maximin DoE\")\n",
    "cat(\"Mindist criterion for the uniform DoE = \", mindist(x), \"\\n\")\n",
    "cat(\"Mindist criterion for the maximal DoE = \", mindist(x1), \"\\n\")"
   ]
  },
  {
   "cell_type": "markdown",
   "metadata": {},
   "source": [
    "**Question 1.b)** Create a 2D full factorial design (i.e. a grid) with 3 points per dimension. Use the function `factDesign()` of the package `DiceDesign`. Visualize this DoE, and compare it in terms of *mindist* criterion."
   ]
  },
  {
   "cell_type": "code",
   "execution_count": null,
<<<<<<< HEAD
   "metadata": {
    "vscode": {
     "languageId": "r"
    }
   },
=======
   "metadata": {},
>>>>>>> bed1805374bae11a56510053a4d64efbd0830901
   "outputs": [],
   "source": [
    "?factDesign"
   ]
  },
  {
   "cell_type": "code",
   "execution_count": null,
<<<<<<< HEAD
   "metadata": {
    "vscode": {
     "languageId": "r"
    }
   },
=======
   "metadata": {},
>>>>>>> bed1805374bae11a56510053a4d64efbd0830901
   "outputs": [],
   "source": [
    "# Create a full factorial design\n",
    "x2 <- ???  ...\n",
    "x2 \n",
    "\n",
    "# Comparison with previous results\n",
    "par(mfrow = c(2,2)) \n",
    "plot(x, main = \"Uniform DoE\")\n",
    "plot(x1, main = \"Maximin DoE\")\n",
    "plot(x2$design, main = \"Factorial DoE\")"
   ]
  },
  {
   "cell_type": "code",
   "execution_count": null,
<<<<<<< HEAD
   "metadata": {
    "vscode": {
     "languageId": "r"
    }
   },
=======
   "metadata": {},
>>>>>>> bed1805374bae11a56510053a4d64efbd0830901
   "outputs": [],
   "source": [
    "# Minimal distance in DoE\n",
    "cat(\"Mindist criterion for the uniform DoE = \", mindist(x), \"\\n\")\n",
    "cat(\"Mindist criterion for the maximal DoE = \", mindist(x1), \"\\n\")\n",
    "cat(\"Mindist criterion for the factorial DoE = \", mindist(x2), \"\\n\")"
   ]
  },
  {
   "cell_type": "markdown",
   "metadata": {},
   "source": [
    "**Question 1.c)** Although the factorial DoE may have a better maximin value, why is it not recommended to use it for exploring a deterministic computer code?"
   ]
  },
  {
   "cell_type": "markdown",
   "metadata": {},
   "source": [
    "..."
   ]
  },
  {
   "cell_type": "markdown",
   "metadata": {},
   "source": [
    "## EXERCISE 2) Low discrepancy sequences (LDS)\n",
    "\n",
    "**Question 2.a)** Build a 2D Sobol LDS of $9$ points, using the function `sobol` of package `randtoolbox`. Plot this DoE and compare its *maximin* value."
   ]
  },
  {
   "cell_type": "code",
   "execution_count": null,
<<<<<<< HEAD
   "metadata": {
    "vscode": {
     "languageId": "r"
    }
   },
=======
   "metadata": {},
>>>>>>> bed1805374bae11a56510053a4d64efbd0830901
   "outputs": [],
   "source": [
    "library(randtoolbox)\n",
    " ?sobol"
   ]
  },
  {
   "cell_type": "code",
   "execution_count": null,
<<<<<<< HEAD
   "metadata": {
    "vscode": {
     "languageId": "r"
    }
   },
=======
   "metadata": {},
>>>>>>> bed1805374bae11a56510053a4d64efbd0830901
   "outputs": [],
   "source": [
    "x3 <- ??? \n",
    "plot(x3, main = \"Sobol\")\n",
    "cat(\"Mindist criterion for the Sobol LDS = \", mindist(x3), \"\\n\")"
   ]
  },
  {
   "cell_type": "markdown",
   "metadata": {},
   "source": [
    "**Question 2.b)** Compute the modified and centered discrepancy of this DoE and the three previous ones. Compare them. Use the function `discrepancyCriteria` of `DiceDesign`."
   ]
  },
  {
   "cell_type": "code",
   "execution_count": null,
<<<<<<< HEAD
   "metadata": {
    "vscode": {
     "languageId": "r"
    }
   },
=======
   "metadata": {},
>>>>>>> bed1805374bae11a56510053a4d64efbd0830901
   "outputs": [],
   "source": [
    "?discrepancyCriteria"
   ]
  },
  {
   "cell_type": "code",
   "execution_count": null,
<<<<<<< HEAD
   "metadata": {
    "vscode": {
     "languageId": "r"
    }
   },
=======
   "metadata": {},
>>>>>>> bed1805374bae11a56510053a4d64efbd0830901
   "outputs": [],
   "source": [
    "dis_MC <- discrepancyCriteria( ?? , type = c('M2', 'C2')) \n",
    "dis_Maximin <- discrepancyCriteria( ?? , type = c('M2', 'C2')) \n",
    "dis_Fact <- discrepancyCriteria( ?? , type = c('M2', 'C2')) \n",
    "dis_Sobol <- discrepancyCriteria( ?? , type = c('M2', 'C2')) \n",
    "# Affichage des valeurs\n",
    "cat(\"Discrepancy criteria M2 and C2 for the uniform DoE = \", dis_MC$DisM2, \" - \", dis_MC$DisC2, \"\\n\")\n",
    "cat(\"Discrepancy criteria M2 and C2 for the maximin DoE = \", dis_Maximin$DisM2, \" - \", dis_Maximin$DisC2, \"\\n\")\n",
    "cat(\"Discrepancy criteria M2 and C2 for the factorial DoE = \", dis_Fact $DisM2, \" - \", dis_Fact $DisC2, \"\\n\")\n",
    "cat(\"Discrepancy criteria M2 and C2 for the Sobol LDS = \", dis_Sobol$DisM2, \" - \", dis_Sobol$DisC2, \"\\n\")"
   ]
  },
  {
   "cell_type": "markdown",
   "metadata": {},
   "source": [
    "**Question 2.c)** Build a 8D Halton LDS of $200$ points with function `halton` of package `randtoolbox`. Represent the *scatterplots* of this DoE with function `pairs()`."
   ]
  },
  {
   "cell_type": "code",
   "execution_count": null,
<<<<<<< HEAD
   "metadata": {
    "vscode": {
     "languageId": "r"
    }
   },
=======
   "metadata": {},
>>>>>>> bed1805374bae11a56510053a4d64efbd0830901
   "outputs": [],
   "source": [
    "?halton\n",
    "x4 <- ???\n",
    "pairs(x4, pch = \".\", cex = 3)"
   ]
  },
  {
   "cell_type": "markdown",
   "metadata": {},
   "source": [
    "What kind of anomalies can you see? What problems may be encountered for metamodeling?"
   ]
  },
  {
   "cell_type": "markdown",
   "metadata": {},
   "source": [
    "..."
   ]
  },
  {
   "cell_type": "markdown",
   "metadata": {},
   "source": [
    "**Question 2.d)** Repeat **2.c)** with a Sobol sequence."
   ]
  },
  {
   "cell_type": "code",
   "execution_count": null,
<<<<<<< HEAD
   "metadata": {
    "vscode": {
     "languageId": "r"
    }
   },
=======
   "metadata": {},
>>>>>>> bed1805374bae11a56510053a4d64efbd0830901
   "outputs": [],
   "source": [
    "x5 <- ??? \n",
    "pairs(x5, pch = \".\", cex = 3)"
   ]
  },
  {
   "cell_type": "markdown",
   "metadata": {},
   "source": [
    "**Question 2.e)** One problem with LDS is that their space-filling properties are not stable by projection. To detect alignements in projected 2D (or 3D) subspaces, a tool has been developed: the radial scanning statistic (RSS).<br/>\n",
    "The 2D version of RSS angularly scans all the directions of each 2D subspace. For each direction, it makes a uniformity test of the projected points under the null hypothesis $H_0$ : the design points are drawn from a uniform distribution on $[-1, 1]^d$.\n",
    "This technique is available in the function `rss2d()` of package ` DiceDesign `. Apply it for the Sobol sequence."
   ]
  },
  {
   "cell_type": "code",
   "execution_count": null,
<<<<<<< HEAD
   "metadata": {
    "vscode": {
     "languageId": "r"
    }
   },
=======
   "metadata": {},
>>>>>>> bed1805374bae11a56510053a4d64efbd0830901
   "outputs": [],
   "source": [
    "?rss2d()\n",
    "rss2d(  )"
   ]
  },
  {
   "cell_type": "markdown",
   "metadata": {},
   "source": [
    "# EXERCISE 3) Latin hypercube design (LHD)\n",
    "\n",
    "**Question 3.a)** Implement the algorithm described in the textbook to sample at random a LHD."
   ]
  },
  {
   "cell_type": "code",
   "execution_count": null,
<<<<<<< HEAD
   "metadata": {
    "vscode": {
     "languageId": "r"
    }
   },
=======
   "metadata": {},
>>>>>>> bed1805374bae11a56510053a4d64efbd0830901
   "outputs": [],
   "source": [
    "?sample\n",
    "lhs <- function(N,p){\n",
    "  ran <- ???                           # sampling of N x p values from U[0,1]\n",
    "  x <- matrix(NA, nrow = N, ncol = p)  # initialization \n",
    "    \n",
    "  # For each dimension\n",
    "    for (i in 1:p){\n",
    "      idx <- ???    # sample a random permutation of integers {1,2,…,N}\n",
    "      x[,i] <- ???  # remove a random perturbation (ran[,i]) in the cell and rescale to [0,1] (division by N)\n",
    "    }  \n",
    "    return(x)\n",
    "}"
   ]
  },
  {
   "cell_type": "markdown",
   "metadata": {},
   "source": [
    "**Question 3.b)** Build a 2D LHD of $20$ points."
   ]
  },
  {
   "cell_type": "code",
   "execution_count": null,
<<<<<<< HEAD
   "metadata": {
    "vscode": {
     "languageId": "r"
    }
   },
=======
   "metadata": {},
>>>>>>> bed1805374bae11a56510053a4d64efbd0830901
   "outputs": [],
   "source": [
    "?lhs\n",
    "x1 <- ??? \n",
    "x1\n",
    "plot(x1, main = \"LHS\")"
   ]
  },
  {
   "cell_type": "markdown",
   "metadata": {},
   "source": [
    "**Question 3.c)** Build with two different methods a maximin LHD (i.e. a LHD that maximizes the *mindist* criterion).\n",
    "\n",
    "   - **Methode 1 (random search):** Sample at random a large number of LHDs and keep the one that maximizes the  *mindist* value."
   ]
  },
  {
   "cell_type": "code",
   "execution_count": null,
<<<<<<< HEAD
   "metadata": {
    "vscode": {
     "languageId": "r"
    }
   },
=======
   "metadata": {},
>>>>>>> bed1805374bae11a56510053a4d64efbd0830901
   "outputs": [],
   "source": [
    "n <- 20 \n",
    "d <- 2  \n",
    "n_loop <- 10000 # Number of LHDs sampled at random\n",
    "\n",
    "x2 <- ??? # Create a first LHD \n",
    "critere <- ??? # Initialise the mindist criterion\n",
    "\n",
    "for (i in 1:n_loop){\n",
    "  xnew <- ??? # Generate a new LHD candidate\n",
    "  if ( ???) # Test if better, and update if yes\n",
    "  { \n",
    "    x2 <- xnew\n",
    "    critere <- mindist(xnew)\n",
    "  }\n",
    "}"
   ]
  },
  {
   "cell_type": "code",
   "execution_count": null,
<<<<<<< HEAD
   "metadata": {
    "vscode": {
     "languageId": "r"
    }
   },
=======
   "metadata": {},
>>>>>>> bed1805374bae11a56510053a4d64efbd0830901
   "outputs": [],
   "source": [
    "plot(x2, main = \"LHS Maximin - Methode 1\")"
   ]
  },
  {
   "cell_type": "markdown",
   "metadata": {},
   "source": [
    " - **Method 2 :** Use directly the function `maximinESE_LHS()` of `DiceDesign`, that optimizes the criterion with  an evolutionary strategy (genetic algorithm)."
   ]
  },
  {
   "cell_type": "code",
   "execution_count": null,
<<<<<<< HEAD
   "metadata": {
    "vscode": {
     "languageId": "r"
    }
   },
=======
   "metadata": {},
>>>>>>> bed1805374bae11a56510053a4d64efbd0830901
   "outputs": [],
   "source": [
    "?maximinESE_LHS\n",
    "xinit <- ??? # a first LHD, used to initialize the algorithm\n",
    "x3 <- ???  # design obtained with maximinESE_LHS()"
   ]
  },
  {
   "cell_type": "markdown",
   "metadata": {},
   "source": [
    "Compare them with a standard LHD and a uniform design, graphically and numerically by computing the *mindist* criterion."
   ]
  },
  {
   "cell_type": "code",
   "execution_count": null,
<<<<<<< HEAD
   "metadata": {
    "vscode": {
     "languageId": "r"
    }
   },
=======
   "metadata": {},
>>>>>>> bed1805374bae11a56510053a4d64efbd0830901
   "outputs": [],
   "source": [
    "x0 <- matrix(runif(n*d), nrow = n, ncol = d) # uniform design\n",
    "\n",
    "par(mfcol = c(2, 2))\n",
    "plot(x0, main = \"Uniform design\")\n",
    "plot(x1, main = \"Random LHD\")\n",
    "plot(xnew, main = \"Maximin LHD (method 1, random search) \")\n",
    "plot(x3, main = \"Maximin LHD (method 2, evolutionary strategy)\")"
   ]
  },
  {
   "cell_type": "code",
   "execution_count": null,
<<<<<<< HEAD
   "metadata": {
    "vscode": {
     "languageId": "r"
    }
   },
=======
   "metadata": {},
>>>>>>> bed1805374bae11a56510053a4d64efbd0830901
   "outputs": [],
   "source": [
    "cat(\"Mindist criterion for a uniform DoE:\", mindist(x0), '\\n')\n",
    "cat(\"Mindist criterion for a random LHD:\", mindist(x1), '\\n')\n",
    "cat(\"Mindist criterion for a maximin LHD (method 1):\", mindist(xnew), '\\n')\n",
    "cat(\"Mindist criterion for a maximin LHD (method 2):\", mindist(x3), '\\n')"
   ]
  },
  {
   "cell_type": "markdown",
   "metadata": {},
   "source": [
    "# EXERCISE 4) Optimal MMD designs\n",
    "Here we adapt the random search algorithm of Exercise 1 in order to generate DoEs that minimize the Maximum Mean Discrepancy (MMD), using the squared exponential kernel. Integrals are approximated by their sample mean approximation. "
   ]
  },
  {
   "cell_type": "code",
   "execution_count": null,
<<<<<<< HEAD
   "metadata": {
    "vscode": {
     "languageId": "r"
    }
   },
=======
   "metadata": {},
>>>>>>> bed1805374bae11a56510053a4d64efbd0830901
   "outputs": [],
   "source": [
    "# Let us first compute the MMD\n",
    "\n",
    "SEkernel <- function(x, y){\n",
    "  # x, y : 2 matrix with two columns\n",
    "  d <- ncol(x)\n",
    "  S <- matrix(0, nrow(x), nrow(y))\n",
    "  for (j in 1:d){\n",
    "    d <- outer(x[, j], y[, j], '-')\n",
    "    S <- S + d^2\n",
    "  }\n",
    "  exp(- S / 0.2^2)\n",
    "} \n",
    "\n",
    "MMD <- function(k, x, xSample){\n",
    "    # x: DoE\n",
    "    # xSample : used to compute \\int k(x_i, x) dx \n",
    "    # here you can skip the term \\int\\int k(x,y) dxdy, as it does not depend on the DoE\n",
    "    ??\n",
    "}\n",
    "\n",
    "\n",
    "N <- 10000\n",
    "n <- 9\n",
    "\n",
    "set.seed(0)\n",
    "xSample <- matrix(runif(2*N), N, 2)   # for the uniform distribution\n",
    "x0 <- ??   # uniform design for instance\n",
    "MMD(k = SEkernel, x = x0, xSample)"
   ]
  },
  {
   "cell_type": "code",
   "execution_count": null,
<<<<<<< HEAD
   "metadata": {
    "vscode": {
     "languageId": "r"
    }
   },
=======
   "metadata": {},
>>>>>>> bed1805374bae11a56510053a4d64efbd0830901
   "outputs": [],
   "source": [
    "# Random search algorithm\n",
    "critere <- Inf\n",
    "set.seed(0)\n",
    "for (i in 1:10000){\n",
    "  x <- matrix(runif(n = 2*n), nrow = n, ncol = 2)\n",
    "  MMDvalue <- ??\n",
    "  if ( ?? ){ # Keep the current design it is has a better MMD\n",
    "    xMMD <- x\n",
    "    critere <- MMDvalue\n",
    "  }\n",
    "}\n",
    "\n",
    "plot(xMMD)\n"
   ]
  }
 ],
 "metadata": {
  "kernelspec": {
   "display_name": "R",
   "language": "R",
   "name": "ir"
  },
  "language_info": {
   "codemirror_mode": "r",
   "file_extension": ".r",
   "mimetype": "text/x-r-source",
   "name": "R",
   "pygments_lexer": "r",
<<<<<<< HEAD
   "version": "4.4.1"
=======
   "version": "4.3.0"
>>>>>>> bed1805374bae11a56510053a4d64efbd0830901
  },
  "toc": {
   "base_numbering": 1,
   "nav_menu": {},
   "number_sections": true,
   "sideBar": true,
   "skip_h1_title": false,
   "title_cell": "Table of Contents",
   "title_sidebar": "Contents",
   "toc_cell": false,
   "toc_position": {},
   "toc_section_display": true,
   "toc_window_display": false
  }
 },
 "nbformat": 4,
 "nbformat_minor": 2
}
