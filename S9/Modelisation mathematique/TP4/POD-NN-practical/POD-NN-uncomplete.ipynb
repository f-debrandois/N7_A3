{
 "cells": [
  {
   "cell_type": "markdown",
   "id": "a7d05498",
   "metadata": {},
   "source": [
    "# POD-NN method"
   ]
  },
  {
   "cell_type": "markdown",
   "id": "efe4881b",
   "metadata": {},
   "source": [
    "## The advection-diffusion problem"
   ]
  },
  {
   "cell_type": "markdown",
   "id": "8ab245f5",
   "metadata": {},
   "source": [
    "Let us  considere the following BVP. It is based on the 2D stationary advection-diffusion. It is here parametrized by the diffusivity coefficient $\\lambda(\\mu)$. The equations read: "
   ]
  },
  {
   "cell_type": "markdown",
   "id": "1d83a1fd",
   "metadata": {},
   "source": [
    "$$\\begin{equation}\n",
    "\\begin{cases}\n",
    "-div(\\lambda(\\mu)\\nabla u)+w\\nabla u&=f & in~~\\Omega\\\\\n",
    "~~~~~~  ~~~~~~~~~~~~~~~~~~ u&=g & in~~\\varGamma_{in}\\\\\n",
    "~~~~~~~-\\lambda(\\mu)\\nabla u.n&=0 & in~~\\varGamma_{wall}\\\\\n",
    "~~~~~~~-\\lambda(\\mu)\\nabla u.n&=0 & in~~\\varGamma_{out}\n",
    "\\end{cases}\n",
    "%\\label{eq:Advection-non-affine}\n",
    "\\end{equation}$$"
   ]
  },
  {
   "cell_type": "markdown",
   "id": "aafe68ad",
   "metadata": {},
   "source": [
    "with $\\lambda(\\mu)=\\exp(\\mu_{0}(\\mu + 1))$. The scalar $\\mu_{0}=0.7$ and $\\mu\\in\\textbf{P}=[\\mu_{min},{~}\\mu_{max}],{~}  \\mu_{min}=1,{~} \\mu_{max}=10$."
   ]
  },
  {
   "cell_type": "markdown",
   "id": "749b312a",
   "metadata": {},
   "source": [
    "### Modules  import and initializations"
   ]
  },
  {
   "cell_type": "code",
   "execution_count": 1,
   "id": "2eca8a3e",
   "metadata": {},
   "outputs": [
    {
     "name": "stderr",
     "output_type": "stream",
     "text": [
      "2024-12-12 09:48:03.766737: I tensorflow/core/util/port.cc:111] oneDNN custom operations are on. You may see slightly different numerical results due to floating-point round-off errors from different computation orders. To turn them off, set the environment variable `TF_ENABLE_ONEDNN_OPTS=0`.\n",
      "2024-12-12 09:48:03.803507: I tensorflow/tsl/cuda/cudart_stub.cc:28] Could not find cuda drivers on your machine, GPU will not be used.\n",
      "2024-12-12 09:48:04.008490: E tensorflow/compiler/xla/stream_executor/cuda/cuda_dnn.cc:9342] Unable to register cuDNN factory: Attempting to register factory for plugin cuDNN when one has already been registered\n",
      "2024-12-12 09:48:04.008580: E tensorflow/compiler/xla/stream_executor/cuda/cuda_fft.cc:609] Unable to register cuFFT factory: Attempting to register factory for plugin cuFFT when one has already been registered\n",
      "2024-12-12 09:48:04.009514: E tensorflow/compiler/xla/stream_executor/cuda/cuda_blas.cc:1518] Unable to register cuBLAS factory: Attempting to register factory for plugin cuBLAS when one has already been registered\n",
      "2024-12-12 09:48:04.099663: I tensorflow/tsl/cuda/cudart_stub.cc:28] Could not find cuda drivers on your machine, GPU will not be used.\n",
      "2024-12-12 09:48:04.101763: I tensorflow/core/platform/cpu_feature_guard.cc:182] This TensorFlow binary is optimized to use available CPU instructions in performance-critical operations.\n",
      "To enable the following instructions: AVX2 AVX_VNNI FMA, in other operations, rebuild TensorFlow with the appropriate compiler flags.\n",
      "2024-12-12 09:48:05.684035: W tensorflow/compiler/tf2tensorrt/utils/py_utils.cc:38] TF-TRT Warning: Could not find TensorRT\n"
     ]
    }
   ],
   "source": [
    "### Modules importation\n",
    "import tensorflow as tf\n",
    "import tensorflow.keras as k\n",
    "from tensorflow.keras.datasets import mnist\n",
    "import tensorflow.keras.preprocessing.image as kpi\n",
    "import tensorflow.keras.models as km\n",
    "import tensorflow.keras.layers as kl\n",
    "import tensorflow.keras.losses as kloss\n",
    "import tensorflow.keras.regularizers as kr\n",
    "import tensorflow.keras.backend as K\n",
    "import tensorflow.keras.utils as ku\n",
    "from tensorflow.keras import callbacks\n",
    "import scipy as sc\n",
    "import numpy as np\n",
    "import numpy.linalg as npl\n",
    "import matplotlib.pyplot as plt\n",
    "import sys,os\n",
    "import random \n",
    "#import pandas as pd\n",
    "import sklearn.utils\n",
    "# Verbosity\n",
    "fit_verbosity = 1"
   ]
  },
  {
   "cell_type": "markdown",
   "id": "59f683bc",
   "metadata": {},
   "source": [
    "### Normalization and non-affine functions "
   ]
  },
  {
   "cell_type": "code",
   "execution_count": 2,
   "id": "daa43431",
   "metadata": {},
   "outputs": [],
   "source": [
    "# The scaling function for data normalisation\n",
    "# Scaling function\n",
    "def scaling(S, S_max, S_min):\n",
    "    S[ : ] = (S - S_min)/(S_max - S_min)\n",
    "    \n",
    "# Inverse scaling function\n",
    "def inverse_scaling(S, S_max, S_min):\n",
    "    S[ : ] = (S_max - S_min) * S + S_min\n",
    "    \n",
    "# The non-affinity function\n",
    "def Lambda(mu):\n",
    "    return np.exp(mu0*(mu+1.))"
   ]
  },
  {
   "cell_type": "markdown",
   "id": "75d79df0",
   "metadata": {},
   "source": [
    "## The offline phase"
   ]
  },
  {
   "cell_type": "markdown",
   "id": "c62f3018",
   "metadata": {},
   "source": [
    "### Preparing the data"
   ]
  },
  {
   "cell_type": "markdown",
   "id": "cdb02148",
   "metadata": {},
   "source": [
    "The RB POD matrix $Brb=[\\xi_{1},\\dots,\\xi_{M}]\\in\\mathbb{R}^{NN\\times N_{rb}}$. The RB matrix is constructed by POD method. It is computed for 100 snapshots of Problem (1). The reduced matrix here is of size $N_{rb}=5$. $$\\$$\n",
    "For the training step of the NN, the snapshots matrix $S=[U_{h}(\\mu_{1}),\\dots,U_{h}(\\mu_{M})]\\in\\mathbb{R}^{NN\\times M}$ has already been computed with $M=10000$."
   ]
  },
  {
   "cell_type": "markdown",
   "id": "8b953859",
   "metadata": {},
   "source": [
    "#### Load the data from numpy files"
   ]
  },
  {
   "cell_type": "code",
   "execution_count": 3,
   "id": "a5d416a6",
   "metadata": {},
   "outputs": [],
   "source": [
    "# Prepare the data\n",
    "# Load the data from the numpy file\n",
    "# Snaphots matrix\n",
    "S =  np.load('Snapshots_non_affine.npy') # of size M*NN\n",
    "S = S.transpose() # of size NN*M\n",
    "\n",
    "# The reduced POD basis\n",
    "Brb = np.load('Brb.npy') # of size NN*Nrb#\n",
    "Brb = Brb.real\n",
    "Nrb = len(Brb.transpose())\n",
    "\n",
    "# The parameter matrix\n",
    "P = np.load('parameter_non_affine.npy') # of size M x 1\n",
    "P = P.reshape(len(P),1)"
   ]
  },
  {
   "cell_type": "markdown",
   "id": "e2a5e1c7",
   "metadata": {},
   "source": [
    "#### Computation of the reduced outputs for the NN and randomly shuffle the data"
   ]
  },
  {
   "cell_type": "markdown",
   "id": "017eeb36",
   "metadata": {},
   "source": [
    "The reduced outputs are computed by the formula: $$\\begin{equation}Urb = Brb^{T}U_{h}(\\mu)\\in\\mathbb{R}^{N_{rb}}\\end{equation}$$ with $\\mu\\in\\textbf{P}=[\\mu_{min},{~}\\mu_{max}]$. $\\\\$\n",
    "We denote by $Urb_{POD}=Brb^{T}S$."
   ]
  },
  {
   "cell_type": "code",
   "execution_count": 4,
   "id": "03537ae8",
   "metadata": {},
   "outputs": [
    {
     "name": "stdout",
     "output_type": "stream",
     "text": [
      "Urb_POD size= (10000, 5)\n",
      "Urb_POD before normalization [[-4.06202294e+01  2.13421841e-01 -7.32313199e-01  6.65475096e-02\n",
      "  -9.94398729e-03]\n",
      " [-3.79093307e+01 -1.21832589e+00  1.73025481e-02  4.56640356e-02\n",
      "   1.32997292e-02]\n",
      " [-3.94861126e+01 -5.70127609e-01 -4.39572277e-01  1.10859996e-01\n",
      "   1.56917762e-02]\n",
      " ...\n",
      " [-4.06088846e+01  2.45060560e+00  3.78955935e-01 -7.28720162e-02\n",
      "   3.21334758e-02]\n",
      " [-4.09087616e+01  1.56341297e+00 -3.80726691e-01 -1.49045520e-01\n",
      "  -9.08205731e-03]\n",
      " [-4.04149466e+01  1.65418743e-02 -6.90125942e-01  8.93792880e-02\n",
      "  -2.38090008e-03]]\n",
      "P before normalization [[ 43.55730414]\n",
      " [215.9544502 ]\n",
      " [ 88.99399156]\n",
      " ...\n",
      " [  7.98805895]\n",
      " [ 15.86453966]\n",
      " [ 51.27809825]]\n"
     ]
    }
   ],
   "source": [
    "# Computation of the reduced solutions: Brb^T*Uh(mu)\n",
    "Urb_POD = np.dot(Brb.transpose(),S) # of size Nrb*M\n",
    "#print(\"Urb_POD size=\",Urb_POD.shape)\n",
    "\n",
    "# Transpose \n",
    "Urb_POD = Urb_POD.transpose() # of size M*Nrb\n",
    "print(\"Urb_POD size=\",Urb_POD.shape)\n",
    "\n",
    "# Randomy shufl the data set\n",
    "shuffle = np.arange(len(Urb_POD))\n",
    "np.random.shuffle(shuffle)\n",
    "Urb_POD = Urb_POD[shuffle]\n",
    "P = P[shuffle]\n",
    "print(\"Urb_POD before normalization\",Urb_POD)\n",
    "print(\"P before normalization\",P)"
   ]
  },
  {
   "cell_type": "markdown",
   "id": "00570cb3",
   "metadata": {},
   "source": [
    "#### Data normalization"
   ]
  },
  {
   "cell_type": "markdown",
   "id": "a5d4f8f5",
   "metadata": {},
   "source": [
    "The normalization of the data is done as follows: $$ $$\n",
    "The input parameters for the NN are such that: $$\\begin{equation}\\tilde{\\mu_{i}} = \\frac{\\mu_{i}}{\\mu_{max}}\\end{equation}$$ for $1\\leq i\\leq M$ $$ $$\n",
    "The outputs (RB solutions) for the NN are normalized as follows:$$\\begin{equation}(\\tilde{Urb}_{POD})_{ij} = \\frac{(Urb_{POD})_{ij}-\\underset{i,j}{\\min}(Urb_{POD})_{ij}}{\\underset{i,j}{\\max}(Urb_{POD})_{ij}-\\underset{i,j}{\\min}(Urb_{POD})_{ij}}\\end{equation}$$ for $1\\leq i\\leq M$ and $1\\leq j\\leq N_{rb}$"
   ]
  },
  {
   "cell_type": "code",
   "execution_count": 5,
   "id": "ff538d10",
   "metadata": {},
   "outputs": [
    {
     "name": "stdout",
     "output_type": "stream",
     "text": [
      "P after normalization [[0.01972393]\n",
      " [0.09779005]\n",
      " [0.0402989 ]\n",
      " ...\n",
      " [0.00361721]\n",
      " [0.00718389]\n",
      " [0.02322012]]\n",
      "Urb_POD after normalization [[0.00812192 0.93383388 0.91239376 0.93050419 0.9287701 ]\n",
      " [0.06957886 0.9013757  0.92938779 0.93003076 0.92929705]\n",
      " [0.03383271 0.91607056 0.91903029 0.93150877 0.92935127]\n",
      " ...\n",
      " [0.00837911 0.98455155 0.93758659 0.9273435  0.92972401]\n",
      " [0.00158081 0.96443861 0.92036434 0.92561663 0.92878964]\n",
      " [0.01277575 0.92937055 0.91335016 0.93102179 0.92894156]]\n"
     ]
    }
   ],
   "source": [
    "# Data normalization\n",
    "# Normalization of the parameter set\n",
    "# Obtain the min and the max of P\n",
    "P_max = np.max(P); P_min = np.min(P)\n",
    "# Normalize the parameter vector P\n",
    "P = P/P_max\n",
    "\n",
    "# Normalization of the reduced matrix\n",
    "# Obtain the min and the max of the reduced outputs BrbUh\n",
    "Urb_POD_max = np.max(Urb_POD); Urb_POD_min = np.min(Urb_POD)\n",
    "scaling(Urb_POD, Urb_POD_max, Urb_POD_min)\n",
    "\n",
    "print(\"P after normalization\",P)\n",
    "print(\"Urb_POD after normalization\",Urb_POD)"
   ]
  },
  {
   "cell_type": "markdown",
   "id": "b4cfed79",
   "metadata": {},
   "source": [
    "#### Load the already trained NN"
   ]
  },
  {
   "cell_type": "code",
   "execution_count": 6,
   "id": "d65b990d",
   "metadata": {},
   "outputs": [
    {
     "name": "stderr",
     "output_type": "stream",
     "text": [
      "2024-12-12 09:48:19.414633: E tensorflow/compiler/xla/stream_executor/cuda/cuda_driver.cc:268] failed call to cuInit: CUDA_ERROR_NO_DEVICE: no CUDA-capable device is detected\n"
     ]
    },
    {
     "name": "stdout",
     "output_type": "stream",
     "text": [
      "Model: \"sequential\"\n",
      "_________________________________________________________________\n",
      " Layer (type)                Output Shape              Param #   \n",
      "=================================================================\n",
      " dense (Dense)               (None, 17)                34        \n",
      "                                                                 \n",
      " dense_1 (Dense)             (None, 17)                306       \n",
      "                                                                 \n",
      " dense_2 (Dense)             (None, 17)                306       \n",
      "                                                                 \n",
      " dense_3 (Dense)             (None, 17)                306       \n",
      "                                                                 \n",
      " dense_4 (Dense)             (None, 17)                306       \n",
      "                                                                 \n",
      " dense_5 (Dense)             (None, 17)                306       \n",
      "                                                                 \n",
      " dense_6 (Dense)             (None, 17)                306       \n",
      "                                                                 \n",
      " dense_7 (Dense)             (None, 17)                306       \n",
      "                                                                 \n",
      " dense_8 (Dense)             (None, 17)                306       \n",
      "                                                                 \n",
      " dense_9 (Dense)             (None, 17)                306       \n",
      "                                                                 \n",
      " dense_10 (Dense)            (None, 17)                306       \n",
      "                                                                 \n",
      " dense_11 (Dense)            (None, 17)                306       \n",
      "                                                                 \n",
      " dense_12 (Dense)            (None, 17)                306       \n",
      "                                                                 \n",
      " dense_13 (Dense)            (None, 17)                306       \n",
      "                                                                 \n",
      " dense_14 (Dense)            (None, 5)                 90        \n",
      "                                                                 \n",
      "=================================================================\n",
      "Total params: 4102 (16.02 KB)\n",
      "Trainable params: 4102 (16.02 KB)\n",
      "Non-trainable params: 0 (0.00 Byte)\n",
      "_________________________________________________________________\n"
     ]
    }
   ],
   "source": [
    "# Load the pre-trained NN stored in h5 format\n",
    "Model = km.load_model(f'Neural-network.h5')\n",
    "\n",
    "# Summary of the model: layers and number of parameters \n",
    "Model.summary()"
   ]
  },
  {
   "cell_type": "markdown",
   "id": "472a6edd",
   "metadata": {},
   "source": [
    "## The online phase"
   ]
  },
  {
   "cell_type": "markdown",
   "id": "69dc5b1e",
   "metadata": {},
   "source": [
    "### New parameter value"
   ]
  },
  {
   "cell_type": "code",
   "execution_count": 7,
   "id": "4e3e92bd",
   "metadata": {},
   "outputs": [
    {
     "name": "stdout",
     "output_type": "stream",
     "text": [
      "New value for mu \n",
      "mu= [[20.]]\n",
      "diffus= [[2421747.63325241]]\n",
      "diffus after normalization= [[1096.63315843]]\n"
     ]
    }
   ],
   "source": [
    "# The onlinbe phase \n",
    "# Predict the new solution U_POD_NN\n",
    "# The constant mu_0\n",
    "mu0 = 0.7\n",
    "\n",
    "# New value of the physical parameter mu\n",
    "print('New value for mu ')\n",
    "# The parameter input for the NN\n",
    "mu = np.array([[float(input())]])\n",
    "print(\"mu=\",mu)\n",
    "\n",
    "# The non-affine parameter\n",
    "# TO BE COMPLETED ...\n",
    "diffus = Lambda(mu)\n",
    "print(\"diffus=\",diffus)\n",
    "\n",
    "# Normalization of the non-affine parameter\n",
    "# TO BE COMPLETED ...\n",
    "diffus = diffus/P_max\n",
    "print(\"diffus after normalization=\",diffus)"
   ]
  },
  {
   "cell_type": "markdown",
   "id": "cce3e0d6",
   "metadata": {},
   "source": [
    "### Compute the RB solution for the new parameter value by performing the NN"
   ]
  },
  {
   "cell_type": "code",
   "execution_count": 8,
   "id": "52a775b7",
   "metadata": {},
   "outputs": [
    {
     "name": "stdout",
     "output_type": "stream",
     "text": [
      "1/1 [==============================] - 0s 218ms/step\n"
     ]
    }
   ],
   "source": [
    "# Predict the reduced basis solution of the new parameter\n",
    "# TO BE COMPLETED ...\n",
    "Uh_POD_NN = Model.predict(diffus)\n",
    "\n",
    "# Rescaling the predicted reduced basis solution\n",
    "# TO BE COMPLETED ...\n",
    "inverse_scaling(Uh_POD_NN, Urb_POD_max, Urb_POD_min)\n",
    "\n",
    "# The change of variable from the RB basis to complete FE one.\n",
    "# TO BE COMPLETED ...\n",
    "Uh_POD_NN = np.dot(Brb,Uh_POD_NN.T)"
   ]
  },
  {
   "cell_type": "code",
   "execution_count": 9,
   "id": "b863ac6b",
   "metadata": {},
   "outputs": [
    {
     "data": {
      "image/png": "[encoded data removed]",
      "text/plain": [
       "<Figure size 640x480 with 1 Axes>"
      ]
     },
     "metadata": {},
     "output_type": "display_data"
    }
   ],
   "source": [
    "plt.plot(Uh_POD_NN)\n",
    "plt.show()"
   ]
  },
  {
   "cell_type": "markdown",
   "id": "86610189",
   "metadata": {},
   "source": [
    "### Save the POD-NN solution in numpy file"
   ]
  },
  {
   "cell_type": "code",
   "execution_count": 10,
   "id": "ebf2c470",
   "metadata": {},
   "outputs": [],
   "source": [
    "np.save('Uh_POD_NN',Uh_POD_NN)"
   ]
  }
 ],
 "metadata": {
  "kernelspec": {
   "display_name": "fenics",
   "language": "python",
   "name": "python3"
  },
  "language_info": {
   "codemirror_mode": {
    "name": "ipython",
    "version": 3
   },
   "file_extension": ".py",
   "mimetype": "text/x-python",
   "name": "python",
   "nbconvert_exporter": "python",
   "pygments_lexer": "ipython3",
   "version": "3.10.16"
  }
 },
 "nbformat": 4,
 "nbformat_minor": 5
}
