{
 "cells": [
  {
   "cell_type": "markdown",
   "metadata": {},
   "source": [
    "# Decision tree classifier"
   ]
  },
  {
   "cell_type": "code",
   "execution_count": 1,
   "metadata": {},
   "outputs": [],
   "source": [
    "import numpy as np\n",
    "\n",
    "import matplotlib as mpl\n",
    "from matplotlib import pyplot as plt\n",
    "%matplotlib inline"
   ]
  },
  {
   "cell_type": "code",
   "execution_count": 2,
   "metadata": {},
   "outputs": [],
   "source": [
    "class Node:\n",
    "    '''\n",
    "    the class representing a single node in a decision tree\n",
    "    '''\n",
    "    def __init__(self, depth, X=None, y=None):\n",
    "        '''\n",
    "        isleaf : a Boolean variable indicating whether the node is a leaf node or not.\n",
    "        depth : the depth of the node\n",
    "        X : the indices of data set associated with the nodes (to be splitted by the node)\n",
    "        y : label associated with the data\n",
    "        feature : the index of axis by which the node separate data\n",
    "        thresh : the threshold $\\theta$ of splitting applied to the feature.\n",
    "        label : the most frequent class in the points associated with the node.\n",
    "        left : the left child node of the node\n",
    "        right : the right child node of the node\n",
    "        '''\n",
    "        self.isleaf = None\n",
    "        self.depth = depth\n",
    "        self.X = X\n",
    "        self.y = y\n",
    "        self.n, self.m = np.shape(self.X)\n",
    "        self.feature = None\n",
    "        self.thresh = None\n",
    "        self.label = np.argmax(np.bincount(y))\n",
    "        self.left = None\n",
    "        self.right = None\n",
    "        \n",
    "        \n",
    "    def impurity(self, y, criterion):\n",
    "        '''\n",
    "        The method calculates the impurity criterion (entropy or gini) for a given label array y.\n",
    "        '''\n",
    "        classes = np.bincount(y)\n",
    "        if criterion == 'entropy':\n",
    "            entropy = 0\n",
    "            for c in classes:\n",
    "                if c != 0:\n",
    "                    p = c / len(y)\n",
    "                    entropy -= p * np.ln(p)\n",
    "            return entropy\n",
    "                \n",
    "        elif criterion == 'gini':\n",
    "            gini = 0\n",
    "            for c in classes:\n",
    "                if c != 0:\n",
    "                    p = c / len(y)\n",
    "                    gini += p * (1-p)\n",
    "            return gini\n",
    "        else:\n",
    "            raise ValueError('Criterion should be either \"entropy\" or \"gini\"')\n",
    " \n",
    "            \n",
    "    def calc_impurity_splitted(self, y_left, y_right, criterion):\n",
    "        '''\n",
    "        The method calculates the impurity criterion after the splitting, where the values is given by weighted sum of impurity indices of two regions.\n",
    "        '''\n",
    "        n_left = len(y_left)\n",
    "        n_right = len(y_right)\n",
    "        n_total = n_left + n_right\n",
    "        impurity_left = self.impurity(y_left, criterion)\n",
    "        impurity_right = self.impurity(y_right, criterion)\n",
    "        return n_left / n_total * impurity_left + n_right / n_total * impurity_right\n",
    "    \n",
    "        \n",
    "    \n",
    "    def find_best_split(self, criterion):\n",
    "        \n",
    "        best_feature = None\n",
    "        best_thresh = None\n",
    "        \n",
    "        ##################\n",
    "        # your code here #\n",
    "        ##################\n",
    "        \n",
    "        self.feature = best_feature\n",
    "        self.thresh = best_thresh\n",
    "    \n",
    "    def split(self, max_depth, min_samples_split, criterion):\n",
    "        '''\n",
    "        The method splits data points recursively, where the splitting is based on the feature and threshold given by the result of find_best_split\n",
    "        '''\n",
    "        \n",
    "        ##################\n",
    "        # your code here #\n",
    "        ##################\n",
    "        \n",
    "            \n",
    "    def judge(self, x):\n",
    "        '''\n",
    "        This recursive method makes prediction as to which class the input x falls into. If the node is not a leaf (self.isleaf==False), then it will descend the tree to ask sub-nodes.\n",
    "        '''\n",
    "        if self.isleaf:\n",
    "            return self.label\n",
    "        else:\n",
    "            if x[self.feature] < self.thresh:\n",
    "                return self.left.judge(x)\n",
    "            else:\n",
    "                return self.right.judge(x)"
   ]
  },
  {
   "cell_type": "code",
   "execution_count": 3,
   "metadata": {},
   "outputs": [],
   "source": [
    "class DecisionTreeClassifier:\n",
    "    def __init__(self, max_depth, min_samples_split, criterion):\n",
    "        self.max_depth = max_depth\n",
    "        self.min_samples_split = min_samples_split\n",
    "        self.criterion = criterion\n",
    "    \n",
    "    def fit(self, X, y):\n",
    "        self.root_node = Node(depth=0, X=X, y=y)\n",
    "        self.root_node.split(max_depth=self.max_depth, min_samples_split=self.min_samples_split, criterion=self.criterion)\n",
    "        return self\n",
    "        \n",
    "    def predict(self, X):\n",
    "        y = np.zeros(len(X), dtype='int')\n",
    "        for i in range(len(X)):\n",
    "            y[i] = self.root_node.judge(X[i])\n",
    "        return y"
   ]
  },
  {
   "cell_type": "markdown",
   "metadata": {},
   "source": [
    "# Experiment"
   ]
  },
  {
   "cell_type": "code",
   "execution_count": 4,
   "metadata": {},
   "outputs": [],
   "source": [
    "from sklearn import datasets\n",
    "\n",
    "N = 100\n",
    "X, y = datasets.make_moons(n_samples = N, noise = 0.2)\n",
    "\n",
    "xx1 = np.linspace(np.min(X[:,0]),np.max(X[:,0]),101)\n",
    "xx2 = np.linspace(np.min(X[:,1]),np.max(X[:,1]),100)\n",
    "Xtest = np.array([[x1,x2] for x1 in xx1  for x2 in xx2])\n",
    "xxx1, xxx2 = np.meshgrid(xx1, xx2)\n",
    "\n",
    "def plot_result(clf):\n",
    "    plt.plot(X[:,0][y==1], X[:,1][y==1],\"o\",label=\"1\")\n",
    "    plt.plot(X[:,0][y==0], X[:,1][y==0],\"o\",label=\"0\")\n",
    "    plt.legend()\n",
    "    pred_val = clf.predict(Xtest)\n",
    "    pred_val_2D = np.reshape(pred_val,(len(xx1),len(xx2))).T\n",
    "    plt.pcolormesh(xxx1, xxx2, pred_val_2D, shading='auto')\n",
    "    plt.colorbar()\n",
    "    plt.show()"
   ]
  },
  {
   "cell_type": "code",
   "execution_count": 5,
   "metadata": {
    "scrolled": true
   },
   "outputs": [
    {
     "ename": "TypeError",
     "evalue": "'<' not supported between instances of 'float' and 'NoneType'",
     "output_type": "error",
     "traceback": [
      "\u001b[0;31m---------------------------------------------------------------------------\u001b[0m",
      "\u001b[0;31mTypeError\u001b[0m                                 Traceback (most recent call last)",
      "Cell \u001b[0;32mIn[5], line 3\u001b[0m\n\u001b[1;32m      1\u001b[0m dtc \u001b[38;5;241m=\u001b[39m DecisionTreeClassifier(max_depth\u001b[38;5;241m=\u001b[39m\u001b[38;5;241m40\u001b[39m, min_samples_split\u001b[38;5;241m=\u001b[39m\u001b[38;5;241m2\u001b[39m, criterion\u001b[38;5;241m=\u001b[39m\u001b[38;5;124m'\u001b[39m\u001b[38;5;124mentropy\u001b[39m\u001b[38;5;124m'\u001b[39m)\n\u001b[1;32m      2\u001b[0m dtc\u001b[38;5;241m.\u001b[39mfit(X, y)\n\u001b[0;32m----> 3\u001b[0m \u001b[43mplot_result\u001b[49m\u001b[43m(\u001b[49m\u001b[43mdtc\u001b[49m\u001b[43m)\u001b[49m\n",
      "Cell \u001b[0;32mIn[4], line 15\u001b[0m, in \u001b[0;36mplot_result\u001b[0;34m(clf)\u001b[0m\n\u001b[1;32m     13\u001b[0m plt\u001b[38;5;241m.\u001b[39mplot(X[:,\u001b[38;5;241m0\u001b[39m][y\u001b[38;5;241m==\u001b[39m\u001b[38;5;241m0\u001b[39m], X[:,\u001b[38;5;241m1\u001b[39m][y\u001b[38;5;241m==\u001b[39m\u001b[38;5;241m0\u001b[39m],\u001b[38;5;124m\"\u001b[39m\u001b[38;5;124mo\u001b[39m\u001b[38;5;124m\"\u001b[39m,label\u001b[38;5;241m=\u001b[39m\u001b[38;5;124m\"\u001b[39m\u001b[38;5;124m0\u001b[39m\u001b[38;5;124m\"\u001b[39m)\n\u001b[1;32m     14\u001b[0m plt\u001b[38;5;241m.\u001b[39mlegend()\n\u001b[0;32m---> 15\u001b[0m pred_val \u001b[38;5;241m=\u001b[39m \u001b[43mclf\u001b[49m\u001b[38;5;241;43m.\u001b[39;49m\u001b[43mpredict\u001b[49m\u001b[43m(\u001b[49m\u001b[43mXtest\u001b[49m\u001b[43m)\u001b[49m\n\u001b[1;32m     16\u001b[0m pred_val_2D \u001b[38;5;241m=\u001b[39m np\u001b[38;5;241m.\u001b[39mreshape(pred_val,(\u001b[38;5;28mlen\u001b[39m(xx1),\u001b[38;5;28mlen\u001b[39m(xx2)))\u001b[38;5;241m.\u001b[39mT\n\u001b[1;32m     17\u001b[0m plt\u001b[38;5;241m.\u001b[39mpcolormesh(xxx1, xxx2, pred_val_2D, shading\u001b[38;5;241m=\u001b[39m\u001b[38;5;124m'\u001b[39m\u001b[38;5;124mauto\u001b[39m\u001b[38;5;124m'\u001b[39m)\n",
      "Cell \u001b[0;32mIn[3], line 15\u001b[0m, in \u001b[0;36mDecisionTreeClassifier.predict\u001b[0;34m(self, X)\u001b[0m\n\u001b[1;32m     13\u001b[0m y \u001b[38;5;241m=\u001b[39m np\u001b[38;5;241m.\u001b[39mzeros(\u001b[38;5;28mlen\u001b[39m(X), dtype\u001b[38;5;241m=\u001b[39m\u001b[38;5;124m'\u001b[39m\u001b[38;5;124mint\u001b[39m\u001b[38;5;124m'\u001b[39m)\n\u001b[1;32m     14\u001b[0m \u001b[38;5;28;01mfor\u001b[39;00m i \u001b[38;5;129;01min\u001b[39;00m \u001b[38;5;28mrange\u001b[39m(\u001b[38;5;28mlen\u001b[39m(X)):\n\u001b[0;32m---> 15\u001b[0m     y[i] \u001b[38;5;241m=\u001b[39m \u001b[38;5;28;43mself\u001b[39;49m\u001b[38;5;241;43m.\u001b[39;49m\u001b[43mroot_node\u001b[49m\u001b[38;5;241;43m.\u001b[39;49m\u001b[43mjudge\u001b[49m\u001b[43m(\u001b[49m\u001b[43mX\u001b[49m\u001b[43m[\u001b[49m\u001b[43mi\u001b[49m\u001b[43m]\u001b[49m\u001b[43m)\u001b[49m\n\u001b[1;32m     16\u001b[0m \u001b[38;5;28;01mreturn\u001b[39;00m y\n",
      "Cell \u001b[0;32mIn[2], line 78\u001b[0m, in \u001b[0;36mNode.judge\u001b[0;34m(self, x)\u001b[0m\n\u001b[1;32m     76\u001b[0m     \u001b[38;5;28;01mreturn\u001b[39;00m \u001b[38;5;28mself\u001b[39m\u001b[38;5;241m.\u001b[39mlabel\n\u001b[1;32m     77\u001b[0m \u001b[38;5;28;01melse\u001b[39;00m:\n\u001b[0;32m---> 78\u001b[0m     \u001b[38;5;28;01mif\u001b[39;00m \u001b[43mx\u001b[49m\u001b[43m[\u001b[49m\u001b[38;5;28;43mself\u001b[39;49m\u001b[38;5;241;43m.\u001b[39;49m\u001b[43mfeature\u001b[49m\u001b[43m]\u001b[49m\u001b[43m \u001b[49m\u001b[38;5;241;43m<\u001b[39;49m\u001b[43m \u001b[49m\u001b[38;5;28;43mself\u001b[39;49m\u001b[38;5;241;43m.\u001b[39;49m\u001b[43mthresh\u001b[49m:\n\u001b[1;32m     79\u001b[0m         \u001b[38;5;28;01mreturn\u001b[39;00m \u001b[38;5;28mself\u001b[39m\u001b[38;5;241m.\u001b[39mleft\u001b[38;5;241m.\u001b[39mjudge(x)\n\u001b[1;32m     80\u001b[0m     \u001b[38;5;28;01melse\u001b[39;00m:\n",
      "\u001b[0;31mTypeError\u001b[0m: '<' not supported between instances of 'float' and 'NoneType'"
     ]
    },
    {
     "data": {
      "image/png": "[encoded data removed]",
      "text/plain": [
       "<Figure size 640x480 with 1 Axes>"
      ]
     },
     "metadata": {},
     "output_type": "display_data"
    }
   ],
   "source": [
    "dtc = DecisionTreeClassifier(max_depth=40, min_samples_split=2, criterion='entropy')\n",
    "dtc.fit(X, y)\n",
    "plot_result(dtc)"
   ]
  },
  {
   "cell_type": "code",
   "execution_count": null,
   "metadata": {},
   "outputs": [],
   "source": []
  }
 ],
 "metadata": {
  "kernelspec": {
   "display_name": "optim",
   "language": "python",
   "name": "python3"
  },
  "language_info": {
   "codemirror_mode": {
    "name": "ipython",
    "version": 3
   },
   "file_extension": ".py",
   "mimetype": "text/x-python",
   "name": "python",
   "nbconvert_exporter": "python",
   "pygments_lexer": "ipython3",
   "version": "3.10.13"
  }
 },
 "nbformat": 4,
 "nbformat_minor": 2
}
