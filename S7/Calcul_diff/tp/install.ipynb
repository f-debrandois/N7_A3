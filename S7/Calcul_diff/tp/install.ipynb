{
 "cells": [
  {
   "cell_type": "code",
   "execution_count": 2,
   "metadata": {},
   "outputs": [
    {
     "name": "stderr",
     "output_type": "stream",
     "text": [
      "\u001b[32m\u001b[1m  Activating\u001b[22m\u001b[39m project at `~/Cours/S7/Calcul_diff/tp`\n"
     ]
    }
   ],
   "source": [
    "# activate local project\n",
    "using Pkg\n",
    "Pkg.activate(\".\")"
   ]
  },
  {
   "cell_type": "code",
   "execution_count": 3,
   "metadata": {},
   "outputs": [
    {
     "name": "stderr",
     "output_type": "stream",
     "text": [
      "\u001b[32m\u001b[1m   Resolving\u001b[22m\u001b[39m package versions...\n"
     ]
    },
    {
     "name": "stderr",
     "output_type": "stream",
     "text": [
      "\u001b[32m\u001b[1m  No Changes\u001b[22m\u001b[39m to `~/Cours/S7/Calcul_diff/tp/Project.toml`\n",
      "\u001b[32m\u001b[1m  No Changes\u001b[22m\u001b[39m to `~/Cours/S7/Calcul_diff/tp/Manifest.toml`\n"
     ]
    }
   ],
   "source": [
    "# install the packages in the local project\n",
    "Pkg.add([\"DifferentialEquations\", \n",
    "         \"DualNumbers\", \n",
    "         \"ForwardDiff\", \n",
    "         \"LinearAlgebra\", \n",
    "         \"Plots\",\n",
    "         \"Polynomials\"])"
   ]
  },
  {
   "cell_type": "code",
   "execution_count": 4,
   "metadata": {},
   "outputs": [],
   "source": [
    "# load packages from local project\n",
    "using DifferentialEquations\n",
    "using DualNumbers\n",
    "using ForwardDiff\n",
    "using LinearAlgebra\n",
    "using Plots"
   ]
  }
 ],
 "metadata": {
  "kernelspec": {
   "display_name": "Julia 1.9.3",
   "language": "julia",
   "name": "julia-1.9"
  },
  "language_info": {
   "file_extension": ".jl",
   "mimetype": "application/julia",
   "name": "julia",
   "version": "1.9.3"
  },
  "orig_nbformat": 4
 },
 "nbformat": 4,
 "nbformat_minor": 2
}
