{
 "cells": [
  {
   "cell_type": "markdown",
   "metadata": {},
   "source": [
    "## TP4 Analyse spectrale (Optionnel)\n",
    "\n",
    "**Objectif du TP**\n",
    "\n",
    "L’objectif de ce TP optionnel est de mettre en œuvre l’analyse spectrale vue en cours de manière à produire des solutions de référence pour la simulation numérique. On se limitera dans ce TP à l’étude des schémas FOU, SOC et UPO2VF. Contrairement aux TP précédents, on utilisera ici des m´ethodes de calcul formel nécessitant l’utilisation du package $\\texttt{sympy}$.\n",
    "\n",
    "1. Définir puis tracer dans le plan complexe les valeurs propres de ces trois schémas.\n",
    "\n",
    "2. Tracer la dissipation et la dispersion en fonction du nombre d’ondes réduit.\n",
    "\n",
    "3. Définir et tracer la solution du système semi-discret en espace.\n",
    "\n",
    "4. Définir et tracer la solution du système discret en espace et en temps.\n",
    "\n",
    "5. Comparer les solutions analytiques obtenues aux solutions numériques.\n",
    "\n",
    "6. Conclure"
   ]
  },
  {
   "cell_type": "code",
   "execution_count": null,
   "metadata": {},
   "outputs": [],
   "source": []
  }
 ],
 "metadata": {
  "language_info": {
   "name": "python"
  }
 },
 "nbformat": 4,
 "nbformat_minor": 2
}
